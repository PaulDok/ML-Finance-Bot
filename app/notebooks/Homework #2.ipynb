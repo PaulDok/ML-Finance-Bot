{
 "cells": [
  {
   "cell_type": "markdown",
   "metadata": {},
   "source": [
    "# Описание Домашнего Задания"
   ]
  },
  {
   "cell_type": "markdown",
   "metadata": {},
   "source": [
    "Технический анализ\n",
    "\n",
    "<b>Цель:</b>\n",
    "\n",
    "В данном домашнем задании вы потренируетесь в построении торговой стратегии на базе технического анализа. Также вы построите первую модель оценки эффективности торговой стратегии.\n",
    "\n",
    "\n",
    "<b>Описание/Пошаговая инструкция выполнения домашнего задания:</b>\n",
    "\n",
    "Уважаемый студент!\n",
    "\n",
    "…Итак, данные собраны и можно начинать анализ. Коллеги посоветовали вам выделить паттерны и на их основе построить торговую стратегию.\n",
    "\n",
    "\n",
    "Вы решили посмотреть сначала самые простые паттерны на основе скользящих средних и затем дополнить их более сложными шаблонами, такими как паттерны разворота, продолжения и свечного анализа.\n",
    "\n",
    "\n",
    "Также вы понимаете, что нужен инструмент оценки эффективности и поскольку, у вас уже есть данные прошлых периодов, вы решаете создать инструмент оценки эффективности новой стратегии, пока у вас есть немного свободного времени.\n",
    "\n",
    "На основании вышесказанного, вам необходимо построить модель, которая будет принимать решение о торговых операциях по одной или группе бумаг и криптовалют, и оценить ее эффективность на отложенных данных.\n",
    "\n",
    "\n",
    "<b>Вам предлагается на основе представленной информации:</b>\n",
    "\n",
    "1) Создать код на Python, который разделит ваши данные на тренировочный, тестовый и валидационный наборы данных.\n",
    "2) Построить одну или несколько моделей на основе паттернов технического анализа, которая будет принимать торговые решения по бумагам SnP500 и/или криптовалютам.\n",
    "3) Провести подбор гиперпараметров моделей с использованием обучающей и тестовой выборок.\n",
    "4) Провести финальное тестирование построенных торговых стратегий на валидационном наборе данных и сравнить их между собой.\n",
    "5) Сформировать дашборд, показывающий эффективность различных стратегий во времени."
   ]
  },
  {
   "cell_type": "markdown",
   "metadata": {},
   "source": [
    "# 1. Код на Python, разделяющий данные на тренировочный, тестовый и валидационный наборы данных"
   ]
  },
  {
   "cell_type": "markdown",
   "metadata": {},
   "source": [
    "Принимаемые допущения:\n",
    "- данные будем использовать из кэша (загрузка - отдельной, уже реализованной функцией);\n",
    "- в данных должен быть ровно один тикер (поскольку рассматриваемые в курсе решения не добрались до управления портфелем, + вероятно это впоследствии возможно будет распараллелить);\n",
    "- функционал разрабатываем на примере данных Ethereum (\"ETH-USD\"), но делаем тикер управляемым параметром;\n",
    "- границы train/test/valid датасетов должны быть управляемыми, для дальнейшего тестирования на различных временных периодах;\n",
    "- в X_test / X_valid не должно быть \"протекающих\" признаков (Open / High / Low / Volume), при этом оставим возможность того, чтобы использовались другие признаки;\n",
    "- вероятно, для сравнимости результатов тестирования длины тестовой и валидационной выборок должны быть одинаковыми, вне зависимости от длины обучающей (разные тикеры / разные периоды тестирования), поэтому реализация будет через определение временных границ, а не train_size / test_size из sklearn.model_selection_train_test_split;"
   ]
  },
  {
   "cell_type": "code",
   "execution_count": 1,
   "metadata": {},
   "outputs": [],
   "source": [
    "# Относительные ссылки, включая импорты, относительно корневой папки проекта\n",
    "import os\n",
    "\n",
    "os.chdir(os.path.dirname(os.getcwd()))\n",
    "\n",
    "import main\n",
    "import logging\n",
    "\n",
    "from typing import Optional\n",
    "\n",
    "import pandas as pd\n",
    "\n",
    "from src.core import utils\n",
    "\n",
    "# initialize\n",
    "logger = logging.getLogger()\n",
    "# initialize config dict\n",
    "config = main.main_launch()\n",
    "# SUBSTITUTE FOR TESTING\n",
    "# TODO"
   ]
  },
  {
   "cell_type": "code",
   "execution_count": 2,
   "metadata": {},
   "outputs": [],
   "source": [
    "# Params for data download\n",
    "TICKER = \"ETH-USD\"\n",
    "START_DT = '2010-01-01' # get as long as possible\n",
    "END_DT = config.END_DT # defaults to today\n",
    "INTERVAL = '1d'\n",
    "\n",
    "# params for split function\n",
    "train_start = None\n",
    "train_end = \"2023-01-01\"\n",
    "test_end = \"2024-01-01\"\n",
    "valid_end = \"2025-01-01\" #config.END_DT"
   ]
  },
  {
   "cell_type": "code",
   "execution_count": 3,
   "metadata": {},
   "outputs": [
    {
     "name": "stderr",
     "output_type": "stream",
     "text": [
      "[INFO   ] 2025-03-22@20:00:23: Made sure table in database for interval='1d' exists\n",
      "[INFO   ] 2025-03-22@20:00:23: Checking already available data...\n",
      "[INFO   ] 2025-03-22@20:00:26: 0 tickers have no data at all\n",
      "[INFO   ] 2025-03-22@20:00:26: 1 tickers lack history in start part\n",
      "[INFO   ] 2025-03-22@20:00:26: 1 tickers lack history in end part\n",
      "[INFO   ] 2025-03-22@20:00:26: Updating tickers lacking early history data...\n",
      "[INFO   ] 2025-03-22@20:00:26: Downloading data using yfinance\n"
     ]
    },
    {
     "name": "stdout",
     "output_type": "stream",
     "text": [
      "YF.download() has changed argument auto_adjust default to True\n"
     ]
    },
    {
     "name": "stderr",
     "output_type": "stream",
     "text": [
      "[*********************100%***********************]  1 of 1 completed\n",
      "[INFO   ] 2025-03-22@20:00:26: Downloaded data shape: (0, 5)\n",
      "[INFO   ] 2025-03-22@20:00:26: reshaped: (0, 7)\n",
      "[INFO   ] 2025-03-22@20:00:27: Updating tickers lacking late history data...\n",
      "[INFO   ] 2025-03-22@20:00:27: Downloading data using yfinance\n",
      "[*********************100%***********************]  1 of 1 completed\n",
      "[INFO   ] 2025-03-22@20:00:27: Downloaded data shape: (1, 5)\n",
      "[INFO   ] 2025-03-22@20:00:27: reshaped: (1, 7)\n",
      "[INFO   ] 2025-03-22@20:00:28: Data in caching DB updated\n"
     ]
    }
   ],
   "source": [
    "# Обновим данные в кэширующей базе\n",
    "utils.update_tickers_data(\n",
    "    tickers=TICKER, start_dt=START_DT, end_dt=END_DT, interval=INTERVAL\n",
    ")"
   ]
  },
  {
   "cell_type": "code",
   "execution_count": 4,
   "metadata": {},
   "outputs": [
    {
     "name": "stderr",
     "output_type": "stream",
     "text": [
      "[INFO   ] 2025-03-22@20:00:29: Getting history from local cache DB...\n",
      "[INFO   ] 2025-03-22@20:00:30: Got history of shape (2690, 7), 0 NaNs\n"
     ]
    },
    {
     "data": {
      "text/html": [
       "<div>\n",
       "<style scoped>\n",
       "    .dataframe tbody tr th:only-of-type {\n",
       "        vertical-align: middle;\n",
       "    }\n",
       "\n",
       "    .dataframe tbody tr th {\n",
       "        vertical-align: top;\n",
       "    }\n",
       "\n",
       "    .dataframe thead th {\n",
       "        text-align: right;\n",
       "    }\n",
       "</style>\n",
       "<table border=\"1\" class=\"dataframe\">\n",
       "  <thead>\n",
       "    <tr style=\"text-align: right;\">\n",
       "      <th></th>\n",
       "      <th>Date</th>\n",
       "      <th>Ticker</th>\n",
       "      <th>Open</th>\n",
       "      <th>Low</th>\n",
       "      <th>High</th>\n",
       "      <th>Close</th>\n",
       "      <th>Volume</th>\n",
       "    </tr>\n",
       "  </thead>\n",
       "  <tbody>\n",
       "    <tr>\n",
       "      <th>2551</th>\n",
       "      <td>2024-03-08 00:00:00.000000</td>\n",
       "      <td>ETH-USD</td>\n",
       "      <td>3874.830811</td>\n",
       "      <td>3828.363281</td>\n",
       "      <td>3998.826416</td>\n",
       "      <td>3892.061035</td>\n",
       "      <td>2.613549e+10</td>\n",
       "    </tr>\n",
       "    <tr>\n",
       "      <th>1980</th>\n",
       "      <td>2022-08-15 00:00:00.000000</td>\n",
       "      <td>ETH-USD</td>\n",
       "      <td>1936.760498</td>\n",
       "      <td>1881.856812</td>\n",
       "      <td>2007.210327</td>\n",
       "      <td>1904.228149</td>\n",
       "      <td>2.034993e+10</td>\n",
       "    </tr>\n",
       "    <tr>\n",
       "      <th>2277</th>\n",
       "      <td>2023-06-08 00:00:00.000000</td>\n",
       "      <td>ETH-USD</td>\n",
       "      <td>1832.513550</td>\n",
       "      <td>1830.165039</td>\n",
       "      <td>1861.136108</td>\n",
       "      <td>1846.301880</td>\n",
       "      <td>4.536042e+09</td>\n",
       "    </tr>\n",
       "  </tbody>\n",
       "</table>\n",
       "</div>"
      ],
      "text/plain": [
       "                            Date   Ticker         Open          Low  \\\n",
       "2551  2024-03-08 00:00:00.000000  ETH-USD  3874.830811  3828.363281   \n",
       "1980  2022-08-15 00:00:00.000000  ETH-USD  1936.760498  1881.856812   \n",
       "2277  2023-06-08 00:00:00.000000  ETH-USD  1832.513550  1830.165039   \n",
       "\n",
       "             High        Close        Volume  \n",
       "2551  3998.826416  3892.061035  2.613549e+10  \n",
       "1980  2007.210327  1904.228149  2.034993e+10  \n",
       "2277  1861.136108  1846.301880  4.536042e+09  "
      ]
     },
     "execution_count": 4,
     "metadata": {},
     "output_type": "execute_result"
    }
   ],
   "source": [
    "# Загрузим данные для дальнейшего использования\n",
    "ticker_data = utils.get_history(\n",
    "    tickers=TICKER,\n",
    "    start=START_DT,\n",
    "    end=END_DT,\n",
    "    interval=INTERVAL,\n",
    "    update_cache=False,\n",
    ")\n",
    "\n",
    "ticker_data.sample(3)"
   ]
  },
  {
   "cell_type": "code",
   "execution_count": 5,
   "metadata": {},
   "outputs": [],
   "source": [
    "def train_test_valid_split(\n",
    "    ticker_data: pd.DataFrame,\n",
    "    train_start: Optional[str],\n",
    "    train_end: str,\n",
    "    test_end: str,\n",
    "    valid_end: str,\n",
    "    drop_leaky:bool=True\n",
    ") -> tuple[\n",
    "    pd.DataFrame, pd.DataFrame, pd.DataFrame, pd.DataFrame, pd.DataFrame, pd.DataFrame\n",
    "]:\n",
    "    \"\"\"\n",
    "    Split ticker data to training, testing and validation datasets\n",
    "    \"\"\"\n",
    "    logger.info(\"Splitting ticker data to train/test/validation parts\")\n",
    "    # 0. Make sure that Date is ascending. Also reset index\n",
    "    ticker_data[\"Date\"] = pd.to_datetime(ticker_data[\"Date\"])\n",
    "    ticker_data = ticker_data.sort_values(by=[\"Date\"], ascending=True).reset_index(\n",
    "        drop=True\n",
    "    )\n",
    "\n",
    "    # 1. Drop leaky columns\n",
    "    try:\n",
    "        ticker_data.drop(columns=[\"Ticker\"], inplace=True)\n",
    "    except:\n",
    "        pass\n",
    "    if drop_leaky:\n",
    "        for col in [\"Open\", \"Low\", \"High\", \"Volume\"]:\n",
    "            try:\n",
    "                ticker_data.drop(columns=col, inplace=True)\n",
    "            except:\n",
    "                pass\n",
    "\n",
    "    # 2. Perform train/test/valid split based on 'Date'\n",
    "    # we don't need anything after validation end\n",
    "    ticker_data = ticker_data[ticker_data[\"Date\"] < valid_end].reset_index(drop=True)\n",
    "    # in case train_start is defined - cut it\n",
    "    if train_start is not None:\n",
    "        ticker_data = ticker_data[ticker_data[\"Date\"] >= train_start].reset_index(\n",
    "            drop=True\n",
    "        )\n",
    "    # Train parts\n",
    "    X_train = (\n",
    "        ticker_data[ticker_data[\"Date\"] < train_end]\n",
    "        .drop(columns=[\"Close\"])\n",
    "        .reset_index(drop=True)\n",
    "    )\n",
    "    y_train = ticker_data[ticker_data[\"Date\"] < train_end][\"Close\"].reset_index(\n",
    "        drop=True\n",
    "    )\n",
    "    # Test parts\n",
    "    X_test = (\n",
    "        ticker_data[\n",
    "            (ticker_data[\"Date\"] >= train_end) & (ticker_data[\"Date\"] < test_end)\n",
    "        ]\n",
    "        .drop(columns=[\"Close\"])\n",
    "        .reset_index(drop=True)\n",
    "    )\n",
    "    y_test = ticker_data[\n",
    "        (ticker_data[\"Date\"] >= train_end) & (ticker_data[\"Date\"] < test_end)\n",
    "    ][\"Close\"].reset_index(drop=True)\n",
    "    # Validation parts\n",
    "    X_val = (\n",
    "        ticker_data[ticker_data[\"Date\"] >= test_end]\n",
    "        .drop(columns=[\"Close\"])\n",
    "        .reset_index(drop=True)\n",
    "    )\n",
    "    y_val = ticker_data[ticker_data[\"Date\"] >= test_end][\"Close\"].reset_index(drop=True)\n",
    "\n",
    "    return X_train, y_train, X_test, y_test, X_val, y_val"
   ]
  },
  {
   "cell_type": "code",
   "execution_count": 6,
   "metadata": {},
   "outputs": [
    {
     "name": "stderr",
     "output_type": "stream",
     "text": [
      "[INFO   ] 2025-03-22@20:00:35: Splitting ticker data to train/test/validation parts\n"
     ]
    }
   ],
   "source": [
    "X_train, y_train, X_test, y_test, X_val, y_val = train_test_valid_split(\n",
    "    ticker_data, train_start, train_end, test_end, valid_end\n",
    ")"
   ]
  },
  {
   "cell_type": "markdown",
   "metadata": {},
   "source": [
    "# 2. Модель на основе паттернов технического анализа, которая будет принимать торговые решения по бумагам SnP500 и/или криптовалютам"
   ]
  },
  {
   "cell_type": "markdown",
   "metadata": {},
   "source": [
    "**Учитывая что модель должна работать по паттернам техического анализа - неочевидно зачем в предыдущем пункте вообще нужна обучающая выборка, ведь стратегия тестируется сразу на тестовой выборке**\n",
    "\n",
    "План:\n",
    "- реализовать несколько классов, наследуясь от backtesting.Strategy;\n",
    "- гиперпараметры в них - это параметры для расчета конкретных показателей (например, длина окна скользящей средней);\n",
    "- реализованные модели сохранить в /app/src/strategy в отдельные модули для дальнейшего использования;"
   ]
  },
  {
   "cell_type": "code",
   "execution_count": 1,
   "metadata": {},
   "outputs": [],
   "source": [
    "# Относительные ссылки, включая импорты, относительно корневой папки проекта\n",
    "import os\n",
    "\n",
    "os.chdir(os.path.dirname(os.getcwd()))\n",
    "\n",
    "import main\n",
    "import logging\n",
    "\n",
    "import pandas as pd\n",
    "\n",
    "import talib\n",
    "from backtesting import Backtest, Strategy\n",
    "from backtesting.lib import crossover\n",
    "\n",
    "from src.core import utils\n",
    "\n",
    "# initialize\n",
    "logger = logging.getLogger()\n",
    "# initialize config dict\n",
    "config = main.main_launch()\n",
    "# SUBSTITUTE FOR TESTING"
   ]
  },
  {
   "cell_type": "code",
   "execution_count": 2,
   "metadata": {},
   "outputs": [],
   "source": [
    "# Params for data download\n",
    "TICKER = \"ETH-USD\"\n",
    "START_DT = \"2010-01-01\"  # get as long as possible\n",
    "END_DT = config.END_DT  # defaults to today\n",
    "INTERVAL = \"1d\"\n",
    "\n",
    "# params for split function\n",
    "train_start = None\n",
    "train_end = \"2023-01-01\"\n",
    "test_end = \"2024-01-01\"\n",
    "valid_end = \"2025-01-01\"  # config.END_DT"
   ]
  },
  {
   "cell_type": "code",
   "execution_count": 3,
   "metadata": {},
   "outputs": [
    {
     "name": "stderr",
     "output_type": "stream",
     "text": [
      "[INFO   ] 2025-03-22@20:47:15: Getting history from local cache DB...\n",
      "[INFO   ] 2025-03-22@20:47:15: Got history of shape (2690, 7), 0 NaNs\n",
      "[INFO   ] 2025-03-22@20:47:15: Splitting ticker data to train/test/validation parts\n"
     ]
    }
   ],
   "source": [
    "# Возьмём данные - с разбивкой на train/test/valid\n",
    "ticker_data = utils.get_history(\n",
    "    tickers=TICKER,\n",
    "    start=START_DT,\n",
    "    end=END_DT,\n",
    "    interval=INTERVAL,\n",
    "    update_cache=False,\n",
    ")\n",
    "X_train, y_train, X_test, y_test, X_val, y_val = utils.train_test_valid_split(\n",
    "    ticker_data, train_start, train_end, test_end, valid_end, drop_leaky=False\n",
    ")"
   ]
  },
  {
   "cell_type": "code",
   "execution_count": 4,
   "metadata": {},
   "outputs": [],
   "source": [
    "# Для трансформации данных к виду, ожидаемому библоиотекой Backtesting, используем сервисную функцию\n",
    "def transform_for_backtesting(y_test: pd.DataFrame, X_test:pd.DataFrame) -> pd.DataFrame:\n",
    "    \"\"\"\n",
    "    Transform data after train/test split to the format fit for Backtesing library\n",
    "    \"\"\"\n",
    "    bt_df = pd.concat([X_test, y_test], axis=1)\n",
    "    # bt_df[\"Open\"] = 0\n",
    "    # bt_df[\"High\"] = 0\n",
    "    # bt_df[\"Low\"] = 0\n",
    "    bt_df[\"Date\"] = pd.to_datetime(bt_df[\"Date\"])\n",
    "    bt_df.set_index(\"Date\", inplace=True)\n",
    "    return bt_df"
   ]
  },
  {
   "cell_type": "code",
   "execution_count": 5,
   "metadata": {},
   "outputs": [],
   "source": [
    "# Стратегия №1: пересечение скользящих средних (быстрой и медленной)\n",
    "class SmaCross(Strategy):\n",
    "    \"\"\"\n",
    "    Basis Simple Moving Average crossover strategy\n",
    "    \"\"\"\n",
    "    ma_fast_periods = 10\n",
    "    ma_slow_periods = 20\n",
    "\n",
    "    def init(self)->None:\n",
    "        price = self.data['Close']\n",
    "        self.ma1 = self.I(talib.SMA, price, self.ma_fast_periods)\n",
    "        self.ma2 = self.I(talib.SMA, price, self.ma_slow_periods)\n",
    "\n",
    "    def next(self)->None:\n",
    "        if crossover(self.ma1, self.ma2):\n",
    "            self.buy()\n",
    "        elif crossover(self.ma2, self.ma2):\n",
    "            self.sell()"
   ]
  },
  {
   "cell_type": "code",
   "execution_count": 6,
   "metadata": {},
   "outputs": [
    {
     "data": {
      "text/plain": [
       "Start                     2023-01-01 00:00:00\n",
       "End                       2023-12-31 00:00:00\n",
       "Duration                    364 days 00:00:00\n",
       "Exposure Time [%]                   89.315068\n",
       "Equity Final [$]                133197.215895\n",
       "Equity Peak [$]                 138838.806227\n",
       "Commissions [$]                   7892.035338\n",
       "Return [%]                          33.197216\n",
       "Buy & Hold Return [%]               47.124591\n",
       "Return (Ann.) [%]                   33.197216\n",
       "Volatility (Ann.) [%]               61.035247\n",
       "CAGR [%]                            33.302154\n",
       "Sharpe Ratio                         0.543902\n",
       "Sortino Ratio                         1.19076\n",
       "Calmar Ratio                         1.114676\n",
       "Alpha [%]                           -8.268368\n",
       "Beta                                 0.879914\n",
       "Max. Drawdown [%]                  -29.781949\n",
       "Avg. Drawdown [%]                     -6.2029\n",
       "Max. Drawdown Duration      232 days 00:00:00\n",
       "Avg. Drawdown Duration       22 days 00:00:00\n",
       "# Trades                                   18\n",
       "Win Rate [%]                        61.111111\n",
       "dtype: object"
      ]
     },
     "execution_count": 6,
     "metadata": {},
     "output_type": "execute_result"
    }
   ],
   "source": [
    "# Test a strategy (SmaCross)\n",
    "bt = Backtest(\n",
    "    transform_for_backtesting(y_test, X_test),\n",
    "    SmaCross,\n",
    "    cash=100000,\n",
    "    commission=0.002,\n",
    "    exclusive_orders=True,\n",
    ")\n",
    "stats = bt.run(ma_fast_periods=3, ma_slow_periods=14)\n",
    "stats[:23]"
   ]
  },
  {
   "cell_type": "code",
   "execution_count": 7,
   "metadata": {},
   "outputs": [
    {
     "name": "stderr",
     "output_type": "stream",
     "text": [
      "INFO:bokeh.io.state:Session output file 'SmaCross_ma_fast_periods-3,ma_slow_periods-14_.html' already exists, will be overwritten.\n",
      "c:\\ProgramData\\miniconda3\\envs\\hw_env\\lib\\site-packages\\backtesting\\_plotting.py:700: UserWarning: found multiple competing values for 'toolbar.active_drag' property; using the latest value\n",
      "  fig = gridplot(\n",
      "c:\\ProgramData\\miniconda3\\envs\\hw_env\\lib\\site-packages\\backtesting\\_plotting.py:700: UserWarning: found multiple competing values for 'toolbar.active_scroll' property; using the latest value\n",
      "  fig = gridplot(\n"
     ]
    },
    {
     "data": {
      "text/html": [
       "<div style=\"display: table;\"><div style=\"display: table-row;\"><div style=\"display: table-cell;\"><b title=\"bokeh.models.plots.GridPlot\">GridPlot</b>(</div><div style=\"display: table-cell;\">id&nbsp;=&nbsp;'p1317', <span id=\"p1339\" style=\"cursor: pointer;\">&hellip;)</span></div></div><div class=\"p1338\" style=\"display: none;\"><div style=\"display: table-cell;\"></div><div style=\"display: table-cell;\">align&nbsp;=&nbsp;'auto',</div></div><div class=\"p1338\" style=\"display: none;\"><div style=\"display: table-cell;\"></div><div style=\"display: table-cell;\">aspect_ratio&nbsp;=&nbsp;None,</div></div><div class=\"p1338\" style=\"display: none;\"><div style=\"display: table-cell;\"></div><div style=\"display: table-cell;\">children&nbsp;=&nbsp;[(figure(id='p1048', ...), 0, 0), (figure(id='p1146', ...), 1, 0), (figure(id='p1003', ...), 2, 0), (figure(id='p1202', ...), 3, 0)],</div></div><div class=\"p1338\" style=\"display: none;\"><div style=\"display: table-cell;\"></div><div style=\"display: table-cell;\">cols&nbsp;=&nbsp;None,</div></div><div class=\"p1338\" style=\"display: none;\"><div style=\"display: table-cell;\"></div><div style=\"display: table-cell;\">context_menu&nbsp;=&nbsp;None,</div></div><div class=\"p1338\" style=\"display: none;\"><div style=\"display: table-cell;\"></div><div style=\"display: table-cell;\">css_classes&nbsp;=&nbsp;[],</div></div><div class=\"p1338\" style=\"display: none;\"><div style=\"display: table-cell;\"></div><div style=\"display: table-cell;\">css_variables&nbsp;=&nbsp;{},</div></div><div class=\"p1338\" style=\"display: none;\"><div style=\"display: table-cell;\"></div><div style=\"display: table-cell;\">disabled&nbsp;=&nbsp;False,</div></div><div class=\"p1338\" style=\"display: none;\"><div style=\"display: table-cell;\"></div><div style=\"display: table-cell;\">elements&nbsp;=&nbsp;[],</div></div><div class=\"p1338\" style=\"display: none;\"><div style=\"display: table-cell;\"></div><div style=\"display: table-cell;\">flow_mode&nbsp;=&nbsp;'block',</div></div><div class=\"p1338\" style=\"display: none;\"><div style=\"display: table-cell;\"></div><div style=\"display: table-cell;\">height&nbsp;=&nbsp;None,</div></div><div class=\"p1338\" style=\"display: none;\"><div style=\"display: table-cell;\"></div><div style=\"display: table-cell;\">height_policy&nbsp;=&nbsp;'auto',</div></div><div class=\"p1338\" style=\"display: none;\"><div style=\"display: table-cell;\"></div><div style=\"display: table-cell;\">js_event_callbacks&nbsp;=&nbsp;{},</div></div><div class=\"p1338\" style=\"display: none;\"><div style=\"display: table-cell;\"></div><div style=\"display: table-cell;\">js_property_callbacks&nbsp;=&nbsp;{},</div></div><div class=\"p1338\" style=\"display: none;\"><div style=\"display: table-cell;\"></div><div style=\"display: table-cell;\">margin&nbsp;=&nbsp;None,</div></div><div class=\"p1338\" style=\"display: none;\"><div style=\"display: table-cell;\"></div><div style=\"display: table-cell;\">max_height&nbsp;=&nbsp;None,</div></div><div class=\"p1338\" style=\"display: none;\"><div style=\"display: table-cell;\"></div><div style=\"display: table-cell;\">max_width&nbsp;=&nbsp;None,</div></div><div class=\"p1338\" style=\"display: none;\"><div style=\"display: table-cell;\"></div><div style=\"display: table-cell;\">min_height&nbsp;=&nbsp;None,</div></div><div class=\"p1338\" style=\"display: none;\"><div style=\"display: table-cell;\"></div><div style=\"display: table-cell;\">min_width&nbsp;=&nbsp;None,</div></div><div class=\"p1338\" style=\"display: none;\"><div style=\"display: table-cell;\"></div><div style=\"display: table-cell;\">name&nbsp;=&nbsp;None,</div></div><div class=\"p1338\" style=\"display: none;\"><div style=\"display: table-cell;\"></div><div style=\"display: table-cell;\">resizable&nbsp;=&nbsp;False,</div></div><div class=\"p1338\" style=\"display: none;\"><div style=\"display: table-cell;\"></div><div style=\"display: table-cell;\">rows&nbsp;=&nbsp;None,</div></div><div class=\"p1338\" style=\"display: none;\"><div style=\"display: table-cell;\"></div><div style=\"display: table-cell;\">sizing_mode&nbsp;=&nbsp;'stretch_width',</div></div><div class=\"p1338\" style=\"display: none;\"><div style=\"display: table-cell;\"></div><div style=\"display: table-cell;\">spacing&nbsp;=&nbsp;0,</div></div><div class=\"p1338\" style=\"display: none;\"><div style=\"display: table-cell;\"></div><div style=\"display: table-cell;\">styles&nbsp;=&nbsp;{},</div></div><div class=\"p1338\" style=\"display: none;\"><div style=\"display: table-cell;\"></div><div style=\"display: table-cell;\">stylesheets&nbsp;=&nbsp;[],</div></div><div class=\"p1338\" style=\"display: none;\"><div style=\"display: table-cell;\"></div><div style=\"display: table-cell;\">subscribed_events&nbsp;=&nbsp;PropertyValueSet(),</div></div><div class=\"p1338\" style=\"display: none;\"><div style=\"display: table-cell;\"></div><div style=\"display: table-cell;\">syncable&nbsp;=&nbsp;True,</div></div><div class=\"p1338\" style=\"display: none;\"><div style=\"display: table-cell;\"></div><div style=\"display: table-cell;\">tags&nbsp;=&nbsp;[],</div></div><div class=\"p1338\" style=\"display: none;\"><div style=\"display: table-cell;\"></div><div style=\"display: table-cell;\">toolbar&nbsp;=&nbsp;Toolbar(id='p1316', ...),</div></div><div class=\"p1338\" style=\"display: none;\"><div style=\"display: table-cell;\"></div><div style=\"display: table-cell;\">toolbar_location&nbsp;=&nbsp;'right',</div></div><div class=\"p1338\" style=\"display: none;\"><div style=\"display: table-cell;\"></div><div style=\"display: table-cell;\">visible&nbsp;=&nbsp;True,</div></div><div class=\"p1338\" style=\"display: none;\"><div style=\"display: table-cell;\"></div><div style=\"display: table-cell;\">width&nbsp;=&nbsp;None,</div></div><div class=\"p1338\" style=\"display: none;\"><div style=\"display: table-cell;\"></div><div style=\"display: table-cell;\">width_policy&nbsp;=&nbsp;'auto')</div></div></div>\n",
       "<script>\n",
       "(function() {\n",
       "  let expanded = false;\n",
       "  const ellipsis = document.getElementById(\"p1339\");\n",
       "  ellipsis.addEventListener(\"click\", function() {\n",
       "    const rows = document.getElementsByClassName(\"p1338\");\n",
       "    for (let i = 0; i < rows.length; i++) {\n",
       "      const el = rows[i];\n",
       "      el.style.display = expanded ? \"none\" : \"table-row\";\n",
       "    }\n",
       "    ellipsis.innerHTML = expanded ? \"&hellip;)\" : \"&lsaquo;&lsaquo;&lsaquo;\";\n",
       "    expanded = !expanded;\n",
       "  });\n",
       "})();\n",
       "</script>\n"
      ],
      "text/plain": [
       "GridPlot(id='p1317', ...)"
      ]
     },
     "execution_count": 7,
     "metadata": {},
     "output_type": "execute_result"
    }
   ],
   "source": [
    "bt.plot(superimpose=False)"
   ]
  },
  {
   "cell_type": "code",
   "execution_count": 8,
   "metadata": {},
   "outputs": [],
   "source": [
    "# Стратегия №2: MACD\n",
    "class MACDStrategy(Strategy):\n",
    "    \"\"\"\n",
    "    Moving Average Convergence-Divergence strategy\n",
    "    \"\"\"\n",
    "\n",
    "    fastperiod = 12\n",
    "    slowperiod = 26\n",
    "    signalperiod = 9\n",
    "\n",
    "    def init(self) -> None:\n",
    "        price = self.data[\"Close\"]\n",
    "\n",
    "        # Revealing object\n",
    "        self.signal = self.I(\n",
    "            talib.MACD,\n",
    "            price,\n",
    "            fastperiod=self.fastperiod,\n",
    "            slowperiod=self.slowperiod,\n",
    "            signalperiod=self.signalperiod,\n",
    "        )\n",
    "\n",
    "    def next(self) -> None:\n",
    "        if self.signal[0][-1] > self.signal[1][-1]:  # self.signal[-1] == 1:\n",
    "            if not self.position.is_long:\n",
    "                self.buy()\n",
    "        elif self.signal[0][-1] < self.signal[1][-1]:  # self.signal[-1] == -1:\n",
    "            if not self.position.is_short:\n",
    "                self.sell()"
   ]
  },
  {
   "cell_type": "code",
   "execution_count": 9,
   "metadata": {},
   "outputs": [
    {
     "data": {
      "text/plain": [
       "Start                     2023-01-01 00:00:00\n",
       "End                       2023-12-31 00:00:00\n",
       "Duration                    364 days 00:00:00\n",
       "Exposure Time [%]                   90.136986\n",
       "Equity Final [$]                 79124.413613\n",
       "Equity Peak [$]                 112136.229905\n",
       "Commissions [$]                   9012.901032\n",
       "Return [%]                         -20.875586\n",
       "Buy & Hold Return [%]               37.046236\n",
       "Return (Ann.) [%]                  -20.875586\n",
       "Volatility (Ann.) [%]               35.387794\n",
       "CAGR [%]                           -20.926468\n",
       "Sharpe Ratio                        -0.589909\n",
       "Sortino Ratio                       -0.696776\n",
       "Calmar Ratio                        -0.701459\n",
       "Alpha [%]                          -21.595475\n",
       "Beta                                 0.019432\n",
       "Max. Drawdown [%]                  -29.760248\n",
       "Avg. Drawdown [%]                   -11.59813\n",
       "Max. Drawdown Duration      181 days 00:00:00\n",
       "Avg. Drawdown Duration       66 days 00:00:00\n",
       "# Trades                                   24\n",
       "Win Rate [%]                             37.5\n",
       "dtype: object"
      ]
     },
     "execution_count": 9,
     "metadata": {},
     "output_type": "execute_result"
    }
   ],
   "source": [
    "# Test a strategy (MACDStrategy)\n",
    "bt = Backtest(\n",
    "    transform_for_backtesting(y_test, X_test),\n",
    "    MACDStrategy,\n",
    "    cash=100000,\n",
    "    commission=0.002,\n",
    "    exclusive_orders=True,\n",
    ")\n",
    "stats = bt.run(fastperiod=12, slowperiod=26, signalperiod=9)\n",
    "stats[:23]"
   ]
  },
  {
   "cell_type": "code",
   "execution_count": 10,
   "metadata": {},
   "outputs": [
    {
     "name": "stderr",
     "output_type": "stream",
     "text": [
      "INFO:bokeh.io.state:Session output file 'MACDStrategy_fastperiod-12,slowperiod-26,signalperiod-9_.html' already exists, will be overwritten.\n"
     ]
    },
    {
     "name": "stderr",
     "output_type": "stream",
     "text": [
      "c:\\ProgramData\\miniconda3\\envs\\hw_env\\lib\\site-packages\\backtesting\\_plotting.py:700: UserWarning: found multiple competing values for 'toolbar.active_drag' property; using the latest value\n",
      "  fig = gridplot(\n",
      "c:\\ProgramData\\miniconda3\\envs\\hw_env\\lib\\site-packages\\backtesting\\_plotting.py:700: UserWarning: found multiple competing values for 'toolbar.active_scroll' property; using the latest value\n",
      "  fig = gridplot(\n"
     ]
    },
    {
     "data": {
      "text/html": [
       "<div style=\"display: table;\"><div style=\"display: table-row;\"><div style=\"display: table-cell;\"><b title=\"bokeh.models.plots.GridPlot\">GridPlot</b>(</div><div style=\"display: table-cell;\">id&nbsp;=&nbsp;'p1701', <span id=\"p1724\" style=\"cursor: pointer;\">&hellip;)</span></div></div><div class=\"p1723\" style=\"display: none;\"><div style=\"display: table-cell;\"></div><div style=\"display: table-cell;\">align&nbsp;=&nbsp;'auto',</div></div><div class=\"p1723\" style=\"display: none;\"><div style=\"display: table-cell;\"></div><div style=\"display: table-cell;\">aspect_ratio&nbsp;=&nbsp;None,</div></div><div class=\"p1723\" style=\"display: none;\"><div style=\"display: table-cell;\"></div><div style=\"display: table-cell;\">children&nbsp;=&nbsp;[(figure(id='p1387', ...), 0, 0), (figure(id='p1485', ...), 1, 0), (figure(id='p1342', ...), 2, 0), (figure(id='p1541', ...), 3, 0), (figure(id='p1616', ...), 4, 0)],</div></div><div class=\"p1723\" style=\"display: none;\"><div style=\"display: table-cell;\"></div><div style=\"display: table-cell;\">cols&nbsp;=&nbsp;None,</div></div><div class=\"p1723\" style=\"display: none;\"><div style=\"display: table-cell;\"></div><div style=\"display: table-cell;\">context_menu&nbsp;=&nbsp;None,</div></div><div class=\"p1723\" style=\"display: none;\"><div style=\"display: table-cell;\"></div><div style=\"display: table-cell;\">css_classes&nbsp;=&nbsp;[],</div></div><div class=\"p1723\" style=\"display: none;\"><div style=\"display: table-cell;\"></div><div style=\"display: table-cell;\">css_variables&nbsp;=&nbsp;{},</div></div><div class=\"p1723\" style=\"display: none;\"><div style=\"display: table-cell;\"></div><div style=\"display: table-cell;\">disabled&nbsp;=&nbsp;False,</div></div><div class=\"p1723\" style=\"display: none;\"><div style=\"display: table-cell;\"></div><div style=\"display: table-cell;\">elements&nbsp;=&nbsp;[],</div></div><div class=\"p1723\" style=\"display: none;\"><div style=\"display: table-cell;\"></div><div style=\"display: table-cell;\">flow_mode&nbsp;=&nbsp;'block',</div></div><div class=\"p1723\" style=\"display: none;\"><div style=\"display: table-cell;\"></div><div style=\"display: table-cell;\">height&nbsp;=&nbsp;None,</div></div><div class=\"p1723\" style=\"display: none;\"><div style=\"display: table-cell;\"></div><div style=\"display: table-cell;\">height_policy&nbsp;=&nbsp;'auto',</div></div><div class=\"p1723\" style=\"display: none;\"><div style=\"display: table-cell;\"></div><div style=\"display: table-cell;\">js_event_callbacks&nbsp;=&nbsp;{},</div></div><div class=\"p1723\" style=\"display: none;\"><div style=\"display: table-cell;\"></div><div style=\"display: table-cell;\">js_property_callbacks&nbsp;=&nbsp;{},</div></div><div class=\"p1723\" style=\"display: none;\"><div style=\"display: table-cell;\"></div><div style=\"display: table-cell;\">margin&nbsp;=&nbsp;None,</div></div><div class=\"p1723\" style=\"display: none;\"><div style=\"display: table-cell;\"></div><div style=\"display: table-cell;\">max_height&nbsp;=&nbsp;None,</div></div><div class=\"p1723\" style=\"display: none;\"><div style=\"display: table-cell;\"></div><div style=\"display: table-cell;\">max_width&nbsp;=&nbsp;None,</div></div><div class=\"p1723\" style=\"display: none;\"><div style=\"display: table-cell;\"></div><div style=\"display: table-cell;\">min_height&nbsp;=&nbsp;None,</div></div><div class=\"p1723\" style=\"display: none;\"><div style=\"display: table-cell;\"></div><div style=\"display: table-cell;\">min_width&nbsp;=&nbsp;None,</div></div><div class=\"p1723\" style=\"display: none;\"><div style=\"display: table-cell;\"></div><div style=\"display: table-cell;\">name&nbsp;=&nbsp;None,</div></div><div class=\"p1723\" style=\"display: none;\"><div style=\"display: table-cell;\"></div><div style=\"display: table-cell;\">resizable&nbsp;=&nbsp;False,</div></div><div class=\"p1723\" style=\"display: none;\"><div style=\"display: table-cell;\"></div><div style=\"display: table-cell;\">rows&nbsp;=&nbsp;None,</div></div><div class=\"p1723\" style=\"display: none;\"><div style=\"display: table-cell;\"></div><div style=\"display: table-cell;\">sizing_mode&nbsp;=&nbsp;'stretch_width',</div></div><div class=\"p1723\" style=\"display: none;\"><div style=\"display: table-cell;\"></div><div style=\"display: table-cell;\">spacing&nbsp;=&nbsp;0,</div></div><div class=\"p1723\" style=\"display: none;\"><div style=\"display: table-cell;\"></div><div style=\"display: table-cell;\">styles&nbsp;=&nbsp;{},</div></div><div class=\"p1723\" style=\"display: none;\"><div style=\"display: table-cell;\"></div><div style=\"display: table-cell;\">stylesheets&nbsp;=&nbsp;[],</div></div><div class=\"p1723\" style=\"display: none;\"><div style=\"display: table-cell;\"></div><div style=\"display: table-cell;\">subscribed_events&nbsp;=&nbsp;PropertyValueSet(),</div></div><div class=\"p1723\" style=\"display: none;\"><div style=\"display: table-cell;\"></div><div style=\"display: table-cell;\">syncable&nbsp;=&nbsp;True,</div></div><div class=\"p1723\" style=\"display: none;\"><div style=\"display: table-cell;\"></div><div style=\"display: table-cell;\">tags&nbsp;=&nbsp;[],</div></div><div class=\"p1723\" style=\"display: none;\"><div style=\"display: table-cell;\"></div><div style=\"display: table-cell;\">toolbar&nbsp;=&nbsp;Toolbar(id='p1700', ...),</div></div><div class=\"p1723\" style=\"display: none;\"><div style=\"display: table-cell;\"></div><div style=\"display: table-cell;\">toolbar_location&nbsp;=&nbsp;'right',</div></div><div class=\"p1723\" style=\"display: none;\"><div style=\"display: table-cell;\"></div><div style=\"display: table-cell;\">visible&nbsp;=&nbsp;True,</div></div><div class=\"p1723\" style=\"display: none;\"><div style=\"display: table-cell;\"></div><div style=\"display: table-cell;\">width&nbsp;=&nbsp;None,</div></div><div class=\"p1723\" style=\"display: none;\"><div style=\"display: table-cell;\"></div><div style=\"display: table-cell;\">width_policy&nbsp;=&nbsp;'auto')</div></div></div>\n",
       "<script>\n",
       "(function() {\n",
       "  let expanded = false;\n",
       "  const ellipsis = document.getElementById(\"p1724\");\n",
       "  ellipsis.addEventListener(\"click\", function() {\n",
       "    const rows = document.getElementsByClassName(\"p1723\");\n",
       "    for (let i = 0; i < rows.length; i++) {\n",
       "      const el = rows[i];\n",
       "      el.style.display = expanded ? \"none\" : \"table-row\";\n",
       "    }\n",
       "    ellipsis.innerHTML = expanded ? \"&hellip;)\" : \"&lsaquo;&lsaquo;&lsaquo;\";\n",
       "    expanded = !expanded;\n",
       "  });\n",
       "})();\n",
       "</script>\n"
      ],
      "text/plain": [
       "GridPlot(id='p1701', ...)"
      ]
     },
     "execution_count": 10,
     "metadata": {},
     "output_type": "execute_result"
    }
   ],
   "source": [
    "bt.plot(superimpose=False)"
   ]
  },
  {
   "cell_type": "code",
   "execution_count": 11,
   "metadata": {},
   "outputs": [],
   "source": [
    "# Стратегия №3: STOCH\n",
    "class STOCHStrategy(Strategy):\n",
    "    \"\"\"\n",
    "    Stochastic Oscillator-based strategy\n",
    "    \"\"\"\n",
    "\n",
    "    fastk_period = 14\n",
    "    slowk_period = 7\n",
    "    slowk_matype = 0\n",
    "    slowd_period = 7\n",
    "    slowd_matype = 0\n",
    "\n",
    "    def init(self) -> None:\n",
    "        high = self.data['High']\n",
    "        low = self.data['Low']\n",
    "        close = self.data['Close']\n",
    "\n",
    "        # Revealing object\n",
    "        self.signal = self.I(\n",
    "            talib.STOCH,\n",
    "            high,\n",
    "            low,\n",
    "            close,\n",
    "            fastk_period=self.fastk_period,\n",
    "            slowk_period=self.slowk_period,\n",
    "            slowk_matype=self.slowk_matype,\n",
    "            slowd_period=self.slowd_period,\n",
    "            slowd_matype=self.slowd_matype,\n",
    "        )\n",
    "\n",
    "    def next(self) -> None:\n",
    "        if self.signal[0][-1] > self.signal[1][-1]:  # self.signal[-1] == 1:\n",
    "            if not self.position.is_long:\n",
    "                self.buy()\n",
    "        elif self.signal[0][-1] < self.signal[1][-1]:  # self.signal[-1] == -1:\n",
    "            if not self.position.is_short:\n",
    "                self.sell()"
   ]
  },
  {
   "cell_type": "code",
   "execution_count": 12,
   "metadata": {},
   "outputs": [
    {
     "data": {
      "text/plain": [
       "Start                     2023-01-01 00:00:00\n",
       "End                       2023-12-31 00:00:00\n",
       "Duration                    364 days 00:00:00\n",
       "Exposure Time [%]                   90.684932\n",
       "Equity Final [$]                 81295.286939\n",
       "Equity Peak [$]                 101711.359798\n",
       "Commissions [$]                  12366.313239\n",
       "Return [%]                         -18.704713\n",
       "Buy & Hold Return [%]               42.315683\n",
       "Return (Ann.) [%]                  -18.704713\n",
       "Volatility (Ann.) [%]               37.435525\n",
       "CAGR [%]                           -18.750949\n",
       "Sharpe Ratio                        -0.499651\n",
       "Sortino Ratio                       -0.631175\n",
       "Calmar Ratio                        -0.517654\n",
       "Alpha [%]                          -22.056002\n",
       "Beta                                 0.079197\n",
       "Max. Drawdown [%]                  -36.133639\n",
       "Avg. Drawdown [%]                  -20.320724\n",
       "Max. Drawdown Duration      335 days 00:00:00\n",
       "Avg. Drawdown Duration      169 days 00:00:00\n",
       "# Trades                                   39\n",
       "Win Rate [%]                        38.461538\n",
       "dtype: object"
      ]
     },
     "execution_count": 12,
     "metadata": {},
     "output_type": "execute_result"
    }
   ],
   "source": [
    "# Test a strategy (STOCHStrategy)\n",
    "bt = Backtest(\n",
    "    transform_for_backtesting(y_test, X_test),\n",
    "    STOCHStrategy,\n",
    "    cash=100000,\n",
    "    commission=0.002,\n",
    "    exclusive_orders=True,\n",
    ")\n",
    "stats = bt.run(fastk_period=14, slowk_period = 7, slowk_matype = 0, slowd_period = 7, slowd_matype = 0)\n",
    "stats[:23]"
   ]
  },
  {
   "cell_type": "code",
   "execution_count": 13,
   "metadata": {},
   "outputs": [
    {
     "name": "stderr",
     "output_type": "stream",
     "text": [
      "INFO:bokeh.io.state:Session output file 'STOCHStrategy_fastk_period-14,slowk_period-7,slowk_matype-0,slowd_period-7,slowd_matype-0_.html' already exists, will be overwritten.\n"
     ]
    },
    {
     "name": "stderr",
     "output_type": "stream",
     "text": [
      "c:\\ProgramData\\miniconda3\\envs\\hw_env\\lib\\site-packages\\backtesting\\_plotting.py:700: UserWarning: found multiple competing values for 'toolbar.active_drag' property; using the latest value\n",
      "  fig = gridplot(\n",
      "c:\\ProgramData\\miniconda3\\envs\\hw_env\\lib\\site-packages\\backtesting\\_plotting.py:700: UserWarning: found multiple competing values for 'toolbar.active_scroll' property; using the latest value\n",
      "  fig = gridplot(\n"
     ]
    },
    {
     "data": {
      "text/html": [
       "<div style=\"display: table;\"><div style=\"display: table-row;\"><div style=\"display: table-cell;\"><b title=\"bokeh.models.plots.GridPlot\">GridPlot</b>(</div><div style=\"display: table-cell;\">id&nbsp;=&nbsp;'p2079', <span id=\"p2101\" style=\"cursor: pointer;\">&hellip;)</span></div></div><div class=\"p2100\" style=\"display: none;\"><div style=\"display: table-cell;\"></div><div style=\"display: table-cell;\">align&nbsp;=&nbsp;'auto',</div></div><div class=\"p2100\" style=\"display: none;\"><div style=\"display: table-cell;\"></div><div style=\"display: table-cell;\">aspect_ratio&nbsp;=&nbsp;None,</div></div><div class=\"p2100\" style=\"display: none;\"><div style=\"display: table-cell;\"></div><div style=\"display: table-cell;\">children&nbsp;=&nbsp;[(figure(id='p1772', ...), 0, 0), (figure(id='p1870', ...), 1, 0), (figure(id='p1727', ...), 2, 0), (figure(id='p1926', ...), 3, 0), (figure(id='p2001', ...), 4, 0)],</div></div><div class=\"p2100\" style=\"display: none;\"><div style=\"display: table-cell;\"></div><div style=\"display: table-cell;\">cols&nbsp;=&nbsp;None,</div></div><div class=\"p2100\" style=\"display: none;\"><div style=\"display: table-cell;\"></div><div style=\"display: table-cell;\">context_menu&nbsp;=&nbsp;None,</div></div><div class=\"p2100\" style=\"display: none;\"><div style=\"display: table-cell;\"></div><div style=\"display: table-cell;\">css_classes&nbsp;=&nbsp;[],</div></div><div class=\"p2100\" style=\"display: none;\"><div style=\"display: table-cell;\"></div><div style=\"display: table-cell;\">css_variables&nbsp;=&nbsp;{},</div></div><div class=\"p2100\" style=\"display: none;\"><div style=\"display: table-cell;\"></div><div style=\"display: table-cell;\">disabled&nbsp;=&nbsp;False,</div></div><div class=\"p2100\" style=\"display: none;\"><div style=\"display: table-cell;\"></div><div style=\"display: table-cell;\">elements&nbsp;=&nbsp;[],</div></div><div class=\"p2100\" style=\"display: none;\"><div style=\"display: table-cell;\"></div><div style=\"display: table-cell;\">flow_mode&nbsp;=&nbsp;'block',</div></div><div class=\"p2100\" style=\"display: none;\"><div style=\"display: table-cell;\"></div><div style=\"display: table-cell;\">height&nbsp;=&nbsp;None,</div></div><div class=\"p2100\" style=\"display: none;\"><div style=\"display: table-cell;\"></div><div style=\"display: table-cell;\">height_policy&nbsp;=&nbsp;'auto',</div></div><div class=\"p2100\" style=\"display: none;\"><div style=\"display: table-cell;\"></div><div style=\"display: table-cell;\">js_event_callbacks&nbsp;=&nbsp;{},</div></div><div class=\"p2100\" style=\"display: none;\"><div style=\"display: table-cell;\"></div><div style=\"display: table-cell;\">js_property_callbacks&nbsp;=&nbsp;{},</div></div><div class=\"p2100\" style=\"display: none;\"><div style=\"display: table-cell;\"></div><div style=\"display: table-cell;\">margin&nbsp;=&nbsp;None,</div></div><div class=\"p2100\" style=\"display: none;\"><div style=\"display: table-cell;\"></div><div style=\"display: table-cell;\">max_height&nbsp;=&nbsp;None,</div></div><div class=\"p2100\" style=\"display: none;\"><div style=\"display: table-cell;\"></div><div style=\"display: table-cell;\">max_width&nbsp;=&nbsp;None,</div></div><div class=\"p2100\" style=\"display: none;\"><div style=\"display: table-cell;\"></div><div style=\"display: table-cell;\">min_height&nbsp;=&nbsp;None,</div></div><div class=\"p2100\" style=\"display: none;\"><div style=\"display: table-cell;\"></div><div style=\"display: table-cell;\">min_width&nbsp;=&nbsp;None,</div></div><div class=\"p2100\" style=\"display: none;\"><div style=\"display: table-cell;\"></div><div style=\"display: table-cell;\">name&nbsp;=&nbsp;None,</div></div><div class=\"p2100\" style=\"display: none;\"><div style=\"display: table-cell;\"></div><div style=\"display: table-cell;\">resizable&nbsp;=&nbsp;False,</div></div><div class=\"p2100\" style=\"display: none;\"><div style=\"display: table-cell;\"></div><div style=\"display: table-cell;\">rows&nbsp;=&nbsp;None,</div></div><div class=\"p2100\" style=\"display: none;\"><div style=\"display: table-cell;\"></div><div style=\"display: table-cell;\">sizing_mode&nbsp;=&nbsp;'stretch_width',</div></div><div class=\"p2100\" style=\"display: none;\"><div style=\"display: table-cell;\"></div><div style=\"display: table-cell;\">spacing&nbsp;=&nbsp;0,</div></div><div class=\"p2100\" style=\"display: none;\"><div style=\"display: table-cell;\"></div><div style=\"display: table-cell;\">styles&nbsp;=&nbsp;{},</div></div><div class=\"p2100\" style=\"display: none;\"><div style=\"display: table-cell;\"></div><div style=\"display: table-cell;\">stylesheets&nbsp;=&nbsp;[],</div></div><div class=\"p2100\" style=\"display: none;\"><div style=\"display: table-cell;\"></div><div style=\"display: table-cell;\">subscribed_events&nbsp;=&nbsp;PropertyValueSet(),</div></div><div class=\"p2100\" style=\"display: none;\"><div style=\"display: table-cell;\"></div><div style=\"display: table-cell;\">syncable&nbsp;=&nbsp;True,</div></div><div class=\"p2100\" style=\"display: none;\"><div style=\"display: table-cell;\"></div><div style=\"display: table-cell;\">tags&nbsp;=&nbsp;[],</div></div><div class=\"p2100\" style=\"display: none;\"><div style=\"display: table-cell;\"></div><div style=\"display: table-cell;\">toolbar&nbsp;=&nbsp;Toolbar(id='p2078', ...),</div></div><div class=\"p2100\" style=\"display: none;\"><div style=\"display: table-cell;\"></div><div style=\"display: table-cell;\">toolbar_location&nbsp;=&nbsp;'right',</div></div><div class=\"p2100\" style=\"display: none;\"><div style=\"display: table-cell;\"></div><div style=\"display: table-cell;\">visible&nbsp;=&nbsp;True,</div></div><div class=\"p2100\" style=\"display: none;\"><div style=\"display: table-cell;\"></div><div style=\"display: table-cell;\">width&nbsp;=&nbsp;None,</div></div><div class=\"p2100\" style=\"display: none;\"><div style=\"display: table-cell;\"></div><div style=\"display: table-cell;\">width_policy&nbsp;=&nbsp;'auto')</div></div></div>\n",
       "<script>\n",
       "(function() {\n",
       "  let expanded = false;\n",
       "  const ellipsis = document.getElementById(\"p2101\");\n",
       "  ellipsis.addEventListener(\"click\", function() {\n",
       "    const rows = document.getElementsByClassName(\"p2100\");\n",
       "    for (let i = 0; i < rows.length; i++) {\n",
       "      const el = rows[i];\n",
       "      el.style.display = expanded ? \"none\" : \"table-row\";\n",
       "    }\n",
       "    ellipsis.innerHTML = expanded ? \"&hellip;)\" : \"&lsaquo;&lsaquo;&lsaquo;\";\n",
       "    expanded = !expanded;\n",
       "  });\n",
       "})();\n",
       "</script>\n"
      ],
      "text/plain": [
       "GridPlot(id='p2079', ...)"
      ]
     },
     "execution_count": 13,
     "metadata": {},
     "output_type": "execute_result"
    }
   ],
   "source": [
    "bt.plot(superimpose=False)"
   ]
  },
  {
   "cell_type": "code",
   "execution_count": 14,
   "metadata": {},
   "outputs": [],
   "source": [
    "# Стратегия №4: TEMA\n",
    "class TEMAStrategy(Strategy):\n",
    "    \"\"\"\n",
    "    Triple EMA-based strategy\n",
    "    \"\"\"\n",
    "\n",
    "    period = 55\n",
    "\n",
    "    def init(self) -> None:\n",
    "        self.close = self.data[\"Close\"]\n",
    "        ema1 = talib.EMA(self.close, timeperiod=self.period)\n",
    "        ema2 = talib.EMA(ema1, timeperiod=self.period)\n",
    "        ema3 = talib.EMA(ema2, timeperiod=self.period)\n",
    "\n",
    "        # Revealing object\n",
    "        self.signal = self.I(pd.Series(((3 * ema1) - (3 * ema2) + ema3)).to_numpy)\n",
    "\n",
    "    def next(self) -> None:\n",
    "        if self.close[-1] > self.signal[-1]:  # self.signal[-1] == 1:\n",
    "            if not self.position.is_long:\n",
    "                self.buy()\n",
    "        elif self.close[-1] < self.signal[-1]:  # self.signal[-1] == -1:\n",
    "            if not self.position.is_short:\n",
    "                self.sell()"
   ]
  },
  {
   "cell_type": "code",
   "execution_count": 15,
   "metadata": {},
   "outputs": [
    {
     "data": {
      "text/plain": [
       "Start                     2023-01-01 00:00:00\n",
       "End                       2023-12-31 00:00:00\n",
       "Duration                    364 days 00:00:00\n",
       "Exposure Time [%]                   49.589041\n",
       "Equity Final [$]                138268.851749\n",
       "Equity Peak [$]                 144173.973819\n",
       "Commissions [$]                    466.459124\n",
       "Return [%]                          38.268852\n",
       "Buy & Hold Return [%]               30.928759\n",
       "Return (Ann.) [%]                   38.268852\n",
       "Volatility (Ann.) [%]               44.493751\n",
       "CAGR [%]                            38.391992\n",
       "Sharpe Ratio                         0.860095\n",
       "Sortino Ratio                        2.006077\n",
       "Calmar Ratio                         1.654169\n",
       "Alpha [%]                           28.061759\n",
       "Beta                                 0.330019\n",
       "Max. Drawdown [%]                  -23.134787\n",
       "Avg. Drawdown [%]                    -5.02087\n",
       "Max. Drawdown Duration      119 days 00:00:00\n",
       "Avg. Drawdown Duration       15 days 00:00:00\n",
       "# Trades                                    1\n",
       "Win Rate [%]                            100.0\n",
       "dtype: object"
      ]
     },
     "execution_count": 15,
     "metadata": {},
     "output_type": "execute_result"
    }
   ],
   "source": [
    "# Test a strategy (TEMAStrategy)\n",
    "bt = Backtest(\n",
    "    transform_for_backtesting(y_test, X_test),\n",
    "    TEMAStrategy,\n",
    "    cash=100000,\n",
    "    commission=0.002,\n",
    "    exclusive_orders=True,\n",
    ")\n",
    "stats = bt.run(period=55)\n",
    "stats[:23]"
   ]
  },
  {
   "cell_type": "code",
   "execution_count": 16,
   "metadata": {},
   "outputs": [
    {
     "name": "stderr",
     "output_type": "stream",
     "text": [
      "INFO:bokeh.io.state:Session output file 'TEMAStrategy_period-55_.html' already exists, will be overwritten.\n"
     ]
    },
    {
     "name": "stderr",
     "output_type": "stream",
     "text": [
      "c:\\ProgramData\\miniconda3\\envs\\hw_env\\lib\\site-packages\\backtesting\\_plotting.py:700: UserWarning: found multiple competing values for 'toolbar.active_drag' property; using the latest value\n",
      "  fig = gridplot(\n",
      "c:\\ProgramData\\miniconda3\\envs\\hw_env\\lib\\site-packages\\backtesting\\_plotting.py:700: UserWarning: found multiple competing values for 'toolbar.active_scroll' property; using the latest value\n",
      "  fig = gridplot(\n"
     ]
    },
    {
     "data": {
      "text/html": [
       "<div style=\"display: table;\"><div style=\"display: table-row;\"><div style=\"display: table-cell;\"><b title=\"bokeh.models.plots.GridPlot\">GridPlot</b>(</div><div style=\"display: table-cell;\">id&nbsp;=&nbsp;'p2445', <span id=\"p2466\" style=\"cursor: pointer;\">&hellip;)</span></div></div><div class=\"p2465\" style=\"display: none;\"><div style=\"display: table-cell;\"></div><div style=\"display: table-cell;\">align&nbsp;=&nbsp;'auto',</div></div><div class=\"p2465\" style=\"display: none;\"><div style=\"display: table-cell;\"></div><div style=\"display: table-cell;\">aspect_ratio&nbsp;=&nbsp;None,</div></div><div class=\"p2465\" style=\"display: none;\"><div style=\"display: table-cell;\"></div><div style=\"display: table-cell;\">children&nbsp;=&nbsp;[(figure(id='p2149', ...), 0, 0), (figure(id='p2247', ...), 1, 0), (figure(id='p2104', ...), 2, 0), (figure(id='p2303', ...), 3, 0), (figure(id='p2378', ...), 4, 0)],</div></div><div class=\"p2465\" style=\"display: none;\"><div style=\"display: table-cell;\"></div><div style=\"display: table-cell;\">cols&nbsp;=&nbsp;None,</div></div><div class=\"p2465\" style=\"display: none;\"><div style=\"display: table-cell;\"></div><div style=\"display: table-cell;\">context_menu&nbsp;=&nbsp;None,</div></div><div class=\"p2465\" style=\"display: none;\"><div style=\"display: table-cell;\"></div><div style=\"display: table-cell;\">css_classes&nbsp;=&nbsp;[],</div></div><div class=\"p2465\" style=\"display: none;\"><div style=\"display: table-cell;\"></div><div style=\"display: table-cell;\">css_variables&nbsp;=&nbsp;{},</div></div><div class=\"p2465\" style=\"display: none;\"><div style=\"display: table-cell;\"></div><div style=\"display: table-cell;\">disabled&nbsp;=&nbsp;False,</div></div><div class=\"p2465\" style=\"display: none;\"><div style=\"display: table-cell;\"></div><div style=\"display: table-cell;\">elements&nbsp;=&nbsp;[],</div></div><div class=\"p2465\" style=\"display: none;\"><div style=\"display: table-cell;\"></div><div style=\"display: table-cell;\">flow_mode&nbsp;=&nbsp;'block',</div></div><div class=\"p2465\" style=\"display: none;\"><div style=\"display: table-cell;\"></div><div style=\"display: table-cell;\">height&nbsp;=&nbsp;None,</div></div><div class=\"p2465\" style=\"display: none;\"><div style=\"display: table-cell;\"></div><div style=\"display: table-cell;\">height_policy&nbsp;=&nbsp;'auto',</div></div><div class=\"p2465\" style=\"display: none;\"><div style=\"display: table-cell;\"></div><div style=\"display: table-cell;\">js_event_callbacks&nbsp;=&nbsp;{},</div></div><div class=\"p2465\" style=\"display: none;\"><div style=\"display: table-cell;\"></div><div style=\"display: table-cell;\">js_property_callbacks&nbsp;=&nbsp;{},</div></div><div class=\"p2465\" style=\"display: none;\"><div style=\"display: table-cell;\"></div><div style=\"display: table-cell;\">margin&nbsp;=&nbsp;None,</div></div><div class=\"p2465\" style=\"display: none;\"><div style=\"display: table-cell;\"></div><div style=\"display: table-cell;\">max_height&nbsp;=&nbsp;None,</div></div><div class=\"p2465\" style=\"display: none;\"><div style=\"display: table-cell;\"></div><div style=\"display: table-cell;\">max_width&nbsp;=&nbsp;None,</div></div><div class=\"p2465\" style=\"display: none;\"><div style=\"display: table-cell;\"></div><div style=\"display: table-cell;\">min_height&nbsp;=&nbsp;None,</div></div><div class=\"p2465\" style=\"display: none;\"><div style=\"display: table-cell;\"></div><div style=\"display: table-cell;\">min_width&nbsp;=&nbsp;None,</div></div><div class=\"p2465\" style=\"display: none;\"><div style=\"display: table-cell;\"></div><div style=\"display: table-cell;\">name&nbsp;=&nbsp;None,</div></div><div class=\"p2465\" style=\"display: none;\"><div style=\"display: table-cell;\"></div><div style=\"display: table-cell;\">resizable&nbsp;=&nbsp;False,</div></div><div class=\"p2465\" style=\"display: none;\"><div style=\"display: table-cell;\"></div><div style=\"display: table-cell;\">rows&nbsp;=&nbsp;None,</div></div><div class=\"p2465\" style=\"display: none;\"><div style=\"display: table-cell;\"></div><div style=\"display: table-cell;\">sizing_mode&nbsp;=&nbsp;'stretch_width',</div></div><div class=\"p2465\" style=\"display: none;\"><div style=\"display: table-cell;\"></div><div style=\"display: table-cell;\">spacing&nbsp;=&nbsp;0,</div></div><div class=\"p2465\" style=\"display: none;\"><div style=\"display: table-cell;\"></div><div style=\"display: table-cell;\">styles&nbsp;=&nbsp;{},</div></div><div class=\"p2465\" style=\"display: none;\"><div style=\"display: table-cell;\"></div><div style=\"display: table-cell;\">stylesheets&nbsp;=&nbsp;[],</div></div><div class=\"p2465\" style=\"display: none;\"><div style=\"display: table-cell;\"></div><div style=\"display: table-cell;\">subscribed_events&nbsp;=&nbsp;PropertyValueSet(),</div></div><div class=\"p2465\" style=\"display: none;\"><div style=\"display: table-cell;\"></div><div style=\"display: table-cell;\">syncable&nbsp;=&nbsp;True,</div></div><div class=\"p2465\" style=\"display: none;\"><div style=\"display: table-cell;\"></div><div style=\"display: table-cell;\">tags&nbsp;=&nbsp;[],</div></div><div class=\"p2465\" style=\"display: none;\"><div style=\"display: table-cell;\"></div><div style=\"display: table-cell;\">toolbar&nbsp;=&nbsp;Toolbar(id='p2444', ...),</div></div><div class=\"p2465\" style=\"display: none;\"><div style=\"display: table-cell;\"></div><div style=\"display: table-cell;\">toolbar_location&nbsp;=&nbsp;'right',</div></div><div class=\"p2465\" style=\"display: none;\"><div style=\"display: table-cell;\"></div><div style=\"display: table-cell;\">visible&nbsp;=&nbsp;True,</div></div><div class=\"p2465\" style=\"display: none;\"><div style=\"display: table-cell;\"></div><div style=\"display: table-cell;\">width&nbsp;=&nbsp;None,</div></div><div class=\"p2465\" style=\"display: none;\"><div style=\"display: table-cell;\"></div><div style=\"display: table-cell;\">width_policy&nbsp;=&nbsp;'auto')</div></div></div>\n",
       "<script>\n",
       "(function() {\n",
       "  let expanded = false;\n",
       "  const ellipsis = document.getElementById(\"p2466\");\n",
       "  ellipsis.addEventListener(\"click\", function() {\n",
       "    const rows = document.getElementsByClassName(\"p2465\");\n",
       "    for (let i = 0; i < rows.length; i++) {\n",
       "      const el = rows[i];\n",
       "      el.style.display = expanded ? \"none\" : \"table-row\";\n",
       "    }\n",
       "    ellipsis.innerHTML = expanded ? \"&hellip;)\" : \"&lsaquo;&lsaquo;&lsaquo;\";\n",
       "    expanded = !expanded;\n",
       "  });\n",
       "})();\n",
       "</script>\n"
      ],
      "text/plain": [
       "GridPlot(id='p2445', ...)"
      ]
     },
     "execution_count": 16,
     "metadata": {},
     "output_type": "execute_result"
    }
   ],
   "source": [
    "bt.plot(superimpose=False)"
   ]
  },
  {
   "cell_type": "code",
   "execution_count": 17,
   "metadata": {},
   "outputs": [],
   "source": [
    "# Стратегия №5: Bollinger Bands\n",
    "class BollingerBandsStrategy(Strategy):\n",
    "    \"\"\"\n",
    "    Bollinger Bands-based strategy\n",
    "    \"\"\"\n",
    "\n",
    "    period = 55\n",
    "\n",
    "    def init(self) -> None:\n",
    "        self.close = self.data[\"Close\"]\n",
    "        self.ma = self.I(talib.SMA, self.close, timeperiod=self.period)\n",
    "        self.std = self.I(pd.Series(self.close).rolling(window=self.period).std)\n",
    "\n",
    "        # Upper and lower Bollinger Bands\n",
    "        self.upperbb_1sd = self.I(pd.Series(self.ma + (1 * self.std)).to_numpy)\n",
    "        self.upperbb_2sd = self.I(pd.Series(self.ma + (2 * self.std)).to_numpy)\n",
    "        self.lowerbb_1sd = self.I(pd.Series(self.ma - (1 * self.std)).to_numpy)\n",
    "        self.lowerbb_2sd = self.I(pd.Series(self.ma - (2 * self.std)).to_numpy)\n",
    "\n",
    "    def next(self) -> None:\n",
    "        # Position enter logic\n",
    "        if self.close[-1] > self.upperbb_1sd[-1]:\n",
    "            if not self.position.is_long:\n",
    "                self.buy()\n",
    "        elif self.close[-1] < self.lowerbb_1sd[-1]:\n",
    "            if not self.position.is_short:\n",
    "                self.sell()\n",
    "\n",
    "        # Position exit logic\n",
    "        if self.position.is_long:\n",
    "            if self.close[-1] < self.upperbb_1sd[-1]:\n",
    "                self.position.close()\n",
    "            if self.close[-1] > self.lowerbb_1sd[-1]:\n",
    "                self.position.close()"
   ]
  },
  {
   "cell_type": "code",
   "execution_count": 18,
   "metadata": {},
   "outputs": [
    {
     "data": {
      "text/plain": [
       "Start                     2023-01-01 00:00:00\n",
       "End                       2023-12-31 00:00:00\n",
       "Duration                    364 days 00:00:00\n",
       "Exposure Time [%]                   84.383562\n",
       "Equity Final [$]                 61106.030727\n",
       "Equity Peak [$]                 103779.620667\n",
       "Commissions [$]                  43831.910436\n",
       "Return [%]                         -38.893969\n",
       "Buy & Hold Return [%]               41.849618\n",
       "Return (Ann.) [%]                  -38.893969\n",
       "Volatility (Ann.) [%]               19.562627\n",
       "CAGR [%]                           -38.976601\n",
       "Sharpe Ratio                        -1.988177\n",
       "Sortino Ratio                       -1.808816\n",
       "Calmar Ratio                        -0.790415\n",
       "Alpha [%]                          -57.928986\n",
       "Beta                                 0.454843\n",
       "Max. Drawdown [%]                  -49.206995\n",
       "Avg. Drawdown [%]                  -18.897683\n",
       "Max. Drawdown Duration      290 days 00:00:00\n",
       "Avg. Drawdown Duration      103 days 00:00:00\n",
       "# Trades                                  154\n",
       "Win Rate [%]                        46.103896\n",
       "dtype: object"
      ]
     },
     "execution_count": 18,
     "metadata": {},
     "output_type": "execute_result"
    }
   ],
   "source": [
    "# Test a strategy (BollingerBandsStrategy)\n",
    "bt = Backtest(\n",
    "    transform_for_backtesting(y_test, X_test),\n",
    "    BollingerBandsStrategy,\n",
    "    cash=100000,\n",
    "    commission=0.002,\n",
    "    exclusive_orders=True,\n",
    ")\n",
    "stats = bt.run(period=55)\n",
    "stats[:23]"
   ]
  },
  {
   "cell_type": "code",
   "execution_count": 19,
   "metadata": {},
   "outputs": [
    {
     "name": "stderr",
     "output_type": "stream",
     "text": [
      "c:\\ProgramData\\miniconda3\\envs\\hw_env\\lib\\site-packages\\backtesting\\_plotting.py:700: UserWarning: found multiple competing values for 'toolbar.active_drag' property; using the latest value\n",
      "  fig = gridplot(\n",
      "c:\\ProgramData\\miniconda3\\envs\\hw_env\\lib\\site-packages\\backtesting\\_plotting.py:700: UserWarning: found multiple competing values for 'toolbar.active_scroll' property; using the latest value\n",
      "  fig = gridplot(\n"
     ]
    },
    {
     "data": {
      "text/html": [
       "<div style=\"display: table;\"><div style=\"display: table-row;\"><div style=\"display: table-cell;\"><b title=\"bokeh.models.plots.GridPlot\">GridPlot</b>(</div><div style=\"display: table-cell;\">id&nbsp;=&nbsp;'p2861', <span id=\"p2887\" style=\"cursor: pointer;\">&hellip;)</span></div></div><div class=\"p2886\" style=\"display: none;\"><div style=\"display: table-cell;\"></div><div style=\"display: table-cell;\">align&nbsp;=&nbsp;'auto',</div></div><div class=\"p2886\" style=\"display: none;\"><div style=\"display: table-cell;\"></div><div style=\"display: table-cell;\">aspect_ratio&nbsp;=&nbsp;None,</div></div><div class=\"p2886\" style=\"display: none;\"><div style=\"display: table-cell;\"></div><div style=\"display: table-cell;\">children&nbsp;=&nbsp;[(figure(id='p2514', ...), 0, 0), (figure(id='p2612', ...), 1, 0), (figure(id='p2469', ...), 2, 0), (figure(id='p2668', ...), 3, 0), (figure(id='p2753', ...), 4, 0)],</div></div><div class=\"p2886\" style=\"display: none;\"><div style=\"display: table-cell;\"></div><div style=\"display: table-cell;\">cols&nbsp;=&nbsp;None,</div></div><div class=\"p2886\" style=\"display: none;\"><div style=\"display: table-cell;\"></div><div style=\"display: table-cell;\">context_menu&nbsp;=&nbsp;None,</div></div><div class=\"p2886\" style=\"display: none;\"><div style=\"display: table-cell;\"></div><div style=\"display: table-cell;\">css_classes&nbsp;=&nbsp;[],</div></div><div class=\"p2886\" style=\"display: none;\"><div style=\"display: table-cell;\"></div><div style=\"display: table-cell;\">css_variables&nbsp;=&nbsp;{},</div></div><div class=\"p2886\" style=\"display: none;\"><div style=\"display: table-cell;\"></div><div style=\"display: table-cell;\">disabled&nbsp;=&nbsp;False,</div></div><div class=\"p2886\" style=\"display: none;\"><div style=\"display: table-cell;\"></div><div style=\"display: table-cell;\">elements&nbsp;=&nbsp;[],</div></div><div class=\"p2886\" style=\"display: none;\"><div style=\"display: table-cell;\"></div><div style=\"display: table-cell;\">flow_mode&nbsp;=&nbsp;'block',</div></div><div class=\"p2886\" style=\"display: none;\"><div style=\"display: table-cell;\"></div><div style=\"display: table-cell;\">height&nbsp;=&nbsp;None,</div></div><div class=\"p2886\" style=\"display: none;\"><div style=\"display: table-cell;\"></div><div style=\"display: table-cell;\">height_policy&nbsp;=&nbsp;'auto',</div></div><div class=\"p2886\" style=\"display: none;\"><div style=\"display: table-cell;\"></div><div style=\"display: table-cell;\">js_event_callbacks&nbsp;=&nbsp;{},</div></div><div class=\"p2886\" style=\"display: none;\"><div style=\"display: table-cell;\"></div><div style=\"display: table-cell;\">js_property_callbacks&nbsp;=&nbsp;{},</div></div><div class=\"p2886\" style=\"display: none;\"><div style=\"display: table-cell;\"></div><div style=\"display: table-cell;\">margin&nbsp;=&nbsp;None,</div></div><div class=\"p2886\" style=\"display: none;\"><div style=\"display: table-cell;\"></div><div style=\"display: table-cell;\">max_height&nbsp;=&nbsp;None,</div></div><div class=\"p2886\" style=\"display: none;\"><div style=\"display: table-cell;\"></div><div style=\"display: table-cell;\">max_width&nbsp;=&nbsp;None,</div></div><div class=\"p2886\" style=\"display: none;\"><div style=\"display: table-cell;\"></div><div style=\"display: table-cell;\">min_height&nbsp;=&nbsp;None,</div></div><div class=\"p2886\" style=\"display: none;\"><div style=\"display: table-cell;\"></div><div style=\"display: table-cell;\">min_width&nbsp;=&nbsp;None,</div></div><div class=\"p2886\" style=\"display: none;\"><div style=\"display: table-cell;\"></div><div style=\"display: table-cell;\">name&nbsp;=&nbsp;None,</div></div><div class=\"p2886\" style=\"display: none;\"><div style=\"display: table-cell;\"></div><div style=\"display: table-cell;\">resizable&nbsp;=&nbsp;False,</div></div><div class=\"p2886\" style=\"display: none;\"><div style=\"display: table-cell;\"></div><div style=\"display: table-cell;\">rows&nbsp;=&nbsp;None,</div></div><div class=\"p2886\" style=\"display: none;\"><div style=\"display: table-cell;\"></div><div style=\"display: table-cell;\">sizing_mode&nbsp;=&nbsp;'stretch_width',</div></div><div class=\"p2886\" style=\"display: none;\"><div style=\"display: table-cell;\"></div><div style=\"display: table-cell;\">spacing&nbsp;=&nbsp;0,</div></div><div class=\"p2886\" style=\"display: none;\"><div style=\"display: table-cell;\"></div><div style=\"display: table-cell;\">styles&nbsp;=&nbsp;{},</div></div><div class=\"p2886\" style=\"display: none;\"><div style=\"display: table-cell;\"></div><div style=\"display: table-cell;\">stylesheets&nbsp;=&nbsp;[],</div></div><div class=\"p2886\" style=\"display: none;\"><div style=\"display: table-cell;\"></div><div style=\"display: table-cell;\">subscribed_events&nbsp;=&nbsp;PropertyValueSet(),</div></div><div class=\"p2886\" style=\"display: none;\"><div style=\"display: table-cell;\"></div><div style=\"display: table-cell;\">syncable&nbsp;=&nbsp;True,</div></div><div class=\"p2886\" style=\"display: none;\"><div style=\"display: table-cell;\"></div><div style=\"display: table-cell;\">tags&nbsp;=&nbsp;[],</div></div><div class=\"p2886\" style=\"display: none;\"><div style=\"display: table-cell;\"></div><div style=\"display: table-cell;\">toolbar&nbsp;=&nbsp;Toolbar(id='p2860', ...),</div></div><div class=\"p2886\" style=\"display: none;\"><div style=\"display: table-cell;\"></div><div style=\"display: table-cell;\">toolbar_location&nbsp;=&nbsp;'right',</div></div><div class=\"p2886\" style=\"display: none;\"><div style=\"display: table-cell;\"></div><div style=\"display: table-cell;\">visible&nbsp;=&nbsp;True,</div></div><div class=\"p2886\" style=\"display: none;\"><div style=\"display: table-cell;\"></div><div style=\"display: table-cell;\">width&nbsp;=&nbsp;None,</div></div><div class=\"p2886\" style=\"display: none;\"><div style=\"display: table-cell;\"></div><div style=\"display: table-cell;\">width_policy&nbsp;=&nbsp;'auto')</div></div></div>\n",
       "<script>\n",
       "(function() {\n",
       "  let expanded = false;\n",
       "  const ellipsis = document.getElementById(\"p2887\");\n",
       "  ellipsis.addEventListener(\"click\", function() {\n",
       "    const rows = document.getElementsByClassName(\"p2886\");\n",
       "    for (let i = 0; i < rows.length; i++) {\n",
       "      const el = rows[i];\n",
       "      el.style.display = expanded ? \"none\" : \"table-row\";\n",
       "    }\n",
       "    ellipsis.innerHTML = expanded ? \"&hellip;)\" : \"&lsaquo;&lsaquo;&lsaquo;\";\n",
       "    expanded = !expanded;\n",
       "  });\n",
       "})();\n",
       "</script>\n"
      ],
      "text/plain": [
       "GridPlot(id='p2861', ...)"
      ]
     },
     "execution_count": 19,
     "metadata": {},
     "output_type": "execute_result"
    }
   ],
   "source": [
    "bt.plot(superimpose=False)"
   ]
  },
  {
   "cell_type": "code",
   "execution_count": null,
   "metadata": {},
   "outputs": [],
   "source": []
  },
  {
   "cell_type": "code",
   "execution_count": null,
   "metadata": {},
   "outputs": [],
   "source": []
  },
  {
   "cell_type": "code",
   "execution_count": null,
   "metadata": {},
   "outputs": [],
   "source": []
  }
 ],
 "metadata": {
  "kernelspec": {
   "display_name": "hw_env",
   "language": "python",
   "name": "python3"
  },
  "language_info": {
   "codemirror_mode": {
    "name": "ipython",
    "version": 3
   },
   "file_extension": ".py",
   "mimetype": "text/x-python",
   "name": "python",
   "nbconvert_exporter": "python",
   "pygments_lexer": "ipython3",
   "version": "3.9.21"
  }
 },
 "nbformat": 4,
 "nbformat_minor": 2
}
