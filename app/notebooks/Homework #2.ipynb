{
 "cells": [
  {
   "cell_type": "markdown",
   "metadata": {},
   "source": [
    "# Описание Домашнего Задания"
   ]
  },
  {
   "cell_type": "markdown",
   "metadata": {},
   "source": [
    "Технический анализ\n",
    "\n",
    "<b>Цель:</b>\n",
    "\n",
    "В данном домашнем задании вы потренируетесь в построении торговой стратегии на базе технического анализа. Также вы построите первую модель оценки эффективности торговой стратегии.\n",
    "\n",
    "\n",
    "<b>Описание/Пошаговая инструкция выполнения домашнего задания:</b>\n",
    "\n",
    "Уважаемый студент!\n",
    "\n",
    "…Итак, данные собраны и можно начинать анализ. Коллеги посоветовали вам выделить паттерны и на их основе построить торговую стратегию.\n",
    "\n",
    "\n",
    "Вы решили посмотреть сначала самые простые паттерны на основе скользящих средних и затем дополнить их более сложными шаблонами, такими как паттерны разворота, продолжения и свечного анализа.\n",
    "\n",
    "\n",
    "Также вы понимаете, что нужен инструмент оценки эффективности и поскольку, у вас уже есть данные прошлых периодов, вы решаете создать инструмент оценки эффективности новой стратегии, пока у вас есть немного свободного времени.\n",
    "\n",
    "На основании вышесказанного, вам необходимо построить модель, которая будет принимать решение о торговых операциях по одной или группе бумаг и криптовалют, и оценить ее эффективность на отложенных данных.\n",
    "\n",
    "\n",
    "<b>Вам предлагается на основе представленной информации:</b>\n",
    "\n",
    "1) Создать код на Python, который разделит ваши данные на тренировочный, тестовый и валидационный наборы данных.\n",
    "2) Построить одну или несколько моделей на основе паттернов технического анализа, которая будет принимать торговые решения по бумагам SnP500 и/или криптовалютам.\n",
    "3) Провести подбор гиперпараметров моделей с использованием обучающей и тестовой выборок.\n",
    "4) Провести финальное тестирование построенных торговых стратегий на валидационном наборе данных и сравнить их между собой.\n",
    "5) Сформировать дашборд, показывающий эффективность различных стратегий во времени."
   ]
  },
  {
   "cell_type": "markdown",
   "metadata": {},
   "source": [
    "# 1. Код на Python, разделяющий данные на тренировочный, тестовый и валидационный наборы данных"
   ]
  },
  {
   "cell_type": "markdown",
   "metadata": {},
   "source": [
    "Принимаемые допущения:\n",
    "- данные будем использовать из кэша (загрузка - отдельной, уже реализованной функцией);\n",
    "- в данных должен быть ровно один тикер (поскольку рассматриваемые в курсе решения не добрались до управления портфелем, + вероятно это впоследствии возможно будет распараллелить);\n",
    "- функционал разрабатываем на примере данных S&P500 (\"^GSPC\"), но делаем тикер управляемым параметром;\n",
    "- границы train/test/valid датасетов должны быть управляемыми, для дальнейшего тестирования на различных временных периодах;\n",
    "- в X_test / X_valid не должно быть \"протекающих\" признаков (Open / High / Low / Volume), при этом оставим возможность того, чтобы использовались другие признаки;\n",
    "- вероятно, для сравнимости результатов тестирования длины тестовой и валидационной выборок должны быть одинаковыми, вне зависимости от длины обучающей (разные тикеры / разные периоды тестирования), поэтому реализация будет через определение временных границ, а не train_size / test_size из sklearn.model_selection_train_test_split;"
   ]
  },
  {
   "cell_type": "code",
   "execution_count": 1,
   "metadata": {},
   "outputs": [],
   "source": [
    "# Относительные ссылки, включая импорты, относительно корневой папки проекта\n",
    "import os\n",
    "\n",
    "os.chdir(os.path.dirname(os.getcwd()))\n",
    "\n",
    "import main\n",
    "import logging\n",
    "\n",
    "from typing import Optional\n",
    "\n",
    "import pandas as pd\n",
    "\n",
    "from src.core import utils\n",
    "\n",
    "# initialize\n",
    "logger = logging.getLogger()\n",
    "# initialize config dict\n",
    "config = main.main_launch()\n",
    "# SUBSTITUTE FOR TESTING\n",
    "# TODO"
   ]
  },
  {
   "cell_type": "code",
   "execution_count": 2,
   "metadata": {},
   "outputs": [],
   "source": [
    "# Params for data download\n",
    "TICKER = \"^GSPC\"\n",
    "START_DT = '2010-01-01' # get as long as possible\n",
    "END_DT = config.END_DT # defaults to today\n",
    "INTERVAL = '1d'\n",
    "\n",
    "# params for split function\n",
    "train_start = None\n",
    "train_end = \"2023-01-01\"\n",
    "test_end = \"2024-01-01\"\n",
    "valid_end = \"2025-01-01\" #config.END_DT"
   ]
  },
  {
   "cell_type": "code",
   "execution_count": 3,
   "metadata": {},
   "outputs": [
    {
     "name": "stderr",
     "output_type": "stream",
     "text": [
      "[INFO   ] 2025-03-22@17:05:24: Made sure table in database for interval='1d' exists\n",
      "[INFO   ] 2025-03-22@17:05:24: Checking already available data...\n",
      "[INFO   ] 2025-03-22@17:05:27: 0 tickers have no data at all\n",
      "[INFO   ] 2025-03-22@17:05:27: 1 tickers lack history in start part\n",
      "[INFO   ] 2025-03-22@17:05:27: 1 tickers lack history in end part\n",
      "[INFO   ] 2025-03-22@17:05:27: Updating tickers lacking early history data...\n",
      "[INFO   ] 2025-03-22@17:05:27: Downloading data using yfinance\n"
     ]
    },
    {
     "name": "stdout",
     "output_type": "stream",
     "text": [
      "YF.download() has changed argument auto_adjust default to True\n"
     ]
    },
    {
     "name": "stderr",
     "output_type": "stream",
     "text": [
      "[*********************100%***********************]  1 of 1 completed\n",
      "[ERROR  ] 2025-03-22@17:05:28: \n",
      "1 Failed download:\n",
      "[ERROR  ] 2025-03-22@17:05:28: ['^GSPC']: YFPricesMissingError('possibly delisted; no price data found  (1d 2010-01-01 -> 2010-01-04 00:00:00)')\n",
      "[INFO   ] 2025-03-22@17:05:28: Downloaded data shape: (0, 6)\n",
      "[INFO   ] 2025-03-22@17:05:28: reshaped: (0, 7)\n",
      "[INFO   ] 2025-03-22@17:05:28: Updating tickers lacking late history data...\n",
      "[INFO   ] 2025-03-22@17:05:28: Downloading data using yfinance\n",
      "[*********************100%***********************]  1 of 1 completed\n",
      "[INFO   ] 2025-03-22@17:05:28: Downloaded data shape: (1, 5)\n",
      "[INFO   ] 2025-03-22@17:05:28: reshaped: (1, 7)\n",
      "[INFO   ] 2025-03-22@17:05:29: Data in caching DB updated\n"
     ]
    }
   ],
   "source": [
    "# Обновим данные в кэширующей базе\n",
    "utils.update_tickers_data(\n",
    "    tickers=TICKER, start_dt=START_DT, end_dt=END_DT, interval=INTERVAL\n",
    ")"
   ]
  },
  {
   "cell_type": "code",
   "execution_count": 4,
   "metadata": {},
   "outputs": [
    {
     "name": "stderr",
     "output_type": "stream",
     "text": [
      "[INFO   ] 2025-03-22@17:05:31: Getting history from local cache DB...\n",
      "[INFO   ] 2025-03-22@17:05:32: Got history of shape (3828, 7), 0 NaNs\n"
     ]
    },
    {
     "data": {
      "text/html": [
       "<div>\n",
       "<style scoped>\n",
       "    .dataframe tbody tr th:only-of-type {\n",
       "        vertical-align: middle;\n",
       "    }\n",
       "\n",
       "    .dataframe tbody tr th {\n",
       "        vertical-align: top;\n",
       "    }\n",
       "\n",
       "    .dataframe thead th {\n",
       "        text-align: right;\n",
       "    }\n",
       "</style>\n",
       "<table border=\"1\" class=\"dataframe\">\n",
       "  <thead>\n",
       "    <tr style=\"text-align: right;\">\n",
       "      <th></th>\n",
       "      <th>Date</th>\n",
       "      <th>Ticker</th>\n",
       "      <th>Open</th>\n",
       "      <th>Low</th>\n",
       "      <th>High</th>\n",
       "      <th>Close</th>\n",
       "      <th>Volume</th>\n",
       "    </tr>\n",
       "  </thead>\n",
       "  <tbody>\n",
       "    <tr>\n",
       "      <th>545</th>\n",
       "      <td>2011-07-07 00:00:00.000000</td>\n",
       "      <td>^GSPC</td>\n",
       "      <td>1339.619995</td>\n",
       "      <td>1339.619995</td>\n",
       "      <td>1356.479980</td>\n",
       "      <td>1353.219971</td>\n",
       "      <td>4.069530e+09</td>\n",
       "    </tr>\n",
       "    <tr>\n",
       "      <th>2115</th>\n",
       "      <td>2017-10-02 00:00:00.000000</td>\n",
       "      <td>^GSPC</td>\n",
       "      <td>2521.199951</td>\n",
       "      <td>2520.399902</td>\n",
       "      <td>2529.229980</td>\n",
       "      <td>2529.120117</td>\n",
       "      <td>3.226370e+09</td>\n",
       "    </tr>\n",
       "    <tr>\n",
       "      <th>2745</th>\n",
       "      <td>2020-04-03 00:00:00.000000</td>\n",
       "      <td>^GSPC</td>\n",
       "      <td>2514.919922</td>\n",
       "      <td>2459.959961</td>\n",
       "      <td>2538.179932</td>\n",
       "      <td>2488.649902</td>\n",
       "      <td>6.096970e+09</td>\n",
       "    </tr>\n",
       "  </tbody>\n",
       "</table>\n",
       "</div>"
      ],
      "text/plain": [
       "                            Date Ticker         Open          Low  \\\n",
       "545   2011-07-07 00:00:00.000000  ^GSPC  1339.619995  1339.619995   \n",
       "2115  2017-10-02 00:00:00.000000  ^GSPC  2521.199951  2520.399902   \n",
       "2745  2020-04-03 00:00:00.000000  ^GSPC  2514.919922  2459.959961   \n",
       "\n",
       "             High        Close        Volume  \n",
       "545   1356.479980  1353.219971  4.069530e+09  \n",
       "2115  2529.229980  2529.120117  3.226370e+09  \n",
       "2745  2538.179932  2488.649902  6.096970e+09  "
      ]
     },
     "execution_count": 4,
     "metadata": {},
     "output_type": "execute_result"
    }
   ],
   "source": [
    "# Загрузим данные для дальнейшего использования\n",
    "ticker_data = utils.get_history(\n",
    "    tickers=TICKER,\n",
    "    start=START_DT,\n",
    "    end=END_DT,\n",
    "    interval=INTERVAL,\n",
    "    update_cache=False,\n",
    ")\n",
    "\n",
    "ticker_data.sample(3)"
   ]
  },
  {
   "cell_type": "code",
   "execution_count": 5,
   "metadata": {},
   "outputs": [],
   "source": [
    "def train_test_valid_split(\n",
    "    ticker_data: pd.DataFrame,\n",
    "    train_start: Optional[str],\n",
    "    train_end: str,\n",
    "    test_end: str,\n",
    "    valid_end: str,\n",
    ") -> tuple[\n",
    "    pd.DataFrame, pd.DataFrame, pd.DataFrame, pd.DataFrame, pd.DataFrame, pd.DataFrame\n",
    "]:\n",
    "    \"\"\"\n",
    "    Split ticker data to training, testing and validation datasets\n",
    "    \"\"\"\n",
    "    logger.info(\"Splitting ticker data to train/test/validation parts\")\n",
    "    # 0. Make sure that Date is ascending. Also reset index\n",
    "    ticker_data[\"Date\"] = pd.to_datetime(ticker_data[\"Date\"])\n",
    "    ticker_data = ticker_data.sort_values(by=[\"Date\"], ascending=True).reset_index(\n",
    "        drop=True\n",
    "    )\n",
    "\n",
    "    # 1. Drop leaky columns\n",
    "    for col in [\"Ticker\", \"Open\", \"Low\", \"High\", \"Volume\"]:\n",
    "        try:\n",
    "            ticker_data.drop(columns=col, inplace=True)\n",
    "        except:\n",
    "            pass\n",
    "\n",
    "    # 2. Perform train/test/valid split based on 'Date'\n",
    "    # we don't need anything after validation end\n",
    "    ticker_data = ticker_data[ticker_data[\"Date\"] < valid_end].reset_index(drop=True)\n",
    "    # in case train_start is defined - cut it\n",
    "    if train_start is not None:\n",
    "        ticker_data = ticker_data[ticker_data[\"Date\"] >= train_start].reset_index(\n",
    "            drop=True\n",
    "        )\n",
    "    # Train parts\n",
    "    X_train = (\n",
    "        ticker_data[ticker_data[\"Date\"] < train_end]\n",
    "        .drop(columns=[\"Close\"])\n",
    "        .reset_index(drop=True)\n",
    "    )\n",
    "    y_train = ticker_data[ticker_data[\"Date\"] < train_end][\"Close\"].reset_index(\n",
    "        drop=True\n",
    "    )\n",
    "    # Test parts\n",
    "    X_test = (\n",
    "        ticker_data[\n",
    "            (ticker_data[\"Date\"] >= train_end) & (ticker_data[\"Date\"] < test_end)\n",
    "        ]\n",
    "        .drop(columns=[\"Close\"])\n",
    "        .reset_index(drop=True)\n",
    "    )\n",
    "    y_test = ticker_data[\n",
    "        (ticker_data[\"Date\"] >= train_end) & (ticker_data[\"Date\"] < test_end)\n",
    "    ][\"Close\"].reset_index(drop=True)\n",
    "    # Validation parts\n",
    "    X_val = (\n",
    "        ticker_data[ticker_data[\"Date\"] >= test_end]\n",
    "        .drop(columns=[\"Close\"])\n",
    "        .reset_index(drop=True)\n",
    "    )\n",
    "    y_val = ticker_data[ticker_data[\"Date\"] >= test_end][\"Close\"].reset_index(drop=True)\n",
    "\n",
    "    return X_train, y_train, X_test, y_test, X_val, y_val"
   ]
  },
  {
   "cell_type": "code",
   "execution_count": 6,
   "metadata": {},
   "outputs": [
    {
     "name": "stderr",
     "output_type": "stream",
     "text": [
      "[INFO   ] 2025-03-22@17:05:38: Splitting ticker data to train/test/validation parts\n"
     ]
    }
   ],
   "source": [
    "X_train, y_train, X_test, y_test, X_val, y_val = train_test_valid_split(\n",
    "    ticker_data, train_start, train_end, test_end, valid_end\n",
    ")"
   ]
  },
  {
   "cell_type": "code",
   "execution_count": null,
   "metadata": {},
   "outputs": [],
   "source": []
  },
  {
   "cell_type": "code",
   "execution_count": null,
   "metadata": {},
   "outputs": [],
   "source": []
  }
 ],
 "metadata": {
  "kernelspec": {
   "display_name": "hw_env",
   "language": "python",
   "name": "python3"
  },
  "language_info": {
   "codemirror_mode": {
    "name": "ipython",
    "version": 3
   },
   "file_extension": ".py",
   "mimetype": "text/x-python",
   "name": "python",
   "nbconvert_exporter": "python",
   "pygments_lexer": "ipython3",
   "version": "3.9.21"
  }
 },
 "nbformat": 4,
 "nbformat_minor": 2
}
