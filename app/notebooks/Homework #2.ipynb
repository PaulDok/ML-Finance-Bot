{
 "cells": [
  {
   "cell_type": "markdown",
   "metadata": {},
   "source": [
    "# Описание Домашнего Задания"
   ]
  },
  {
   "cell_type": "markdown",
   "metadata": {},
   "source": [
    "Технический анализ\n",
    "\n",
    "<b>Цель:</b>\n",
    "\n",
    "В данном домашнем задании вы потренируетесь в построении торговой стратегии на базе технического анализа. Также вы построите первую модель оценки эффективности торговой стратегии.\n",
    "\n",
    "\n",
    "<b>Описание/Пошаговая инструкция выполнения домашнего задания:</b>\n",
    "\n",
    "Уважаемый студент!\n",
    "\n",
    "…Итак, данные собраны и можно начинать анализ. Коллеги посоветовали вам выделить паттерны и на их основе построить торговую стратегию.\n",
    "\n",
    "\n",
    "Вы решили посмотреть сначала самые простые паттерны на основе скользящих средних и затем дополнить их более сложными шаблонами, такими как паттерны разворота, продолжения и свечного анализа.\n",
    "\n",
    "\n",
    "Также вы понимаете, что нужен инструмент оценки эффективности и поскольку, у вас уже есть данные прошлых периодов, вы решаете создать инструмент оценки эффективности новой стратегии, пока у вас есть немного свободного времени.\n",
    "\n",
    "На основании вышесказанного, вам необходимо построить модель, которая будет принимать решение о торговых операциях по одной или группе бумаг и криптовалют, и оценить ее эффективность на отложенных данных.\n",
    "\n",
    "\n",
    "<b>Вам предлагается на основе представленной информации:</b>\n",
    "\n",
    "1) Создать код на Python, который разделит ваши данные на тренировочный, тестовый и валидационный наборы данных.\n",
    "2) Построить одну или несколько моделей на основе паттернов технического анализа, которая будет принимать торговые решения по бумагам SnP500 и/или криптовалютам.\n",
    "3) Провести подбор гиперпараметров моделей с использованием обучающей и тестовой выборок.\n",
    "4) Провести финальное тестирование построенных торговых стратегий на валидационном наборе данных и сравнить их между собой.\n",
    "5) Сформировать дашборд, показывающий эффективность различных стратегий во времени."
   ]
  },
  {
   "cell_type": "markdown",
   "metadata": {},
   "source": [
    "# 1. Код на Python, разделяющий данные на тренировочный, тестовый и валидационный наборы данных"
   ]
  },
  {
   "cell_type": "markdown",
   "metadata": {},
   "source": [
    "Принимаемые допущения:\n",
    "- данные будем использовать из кэша (загрузка - отдельной, уже реализованной функцией);\n",
    "- в данных должен быть ровно один тикер (поскольку рассматриваемые в курсе решения не добрались до управления портфелем, + вероятно это впоследствии возможно будет распараллелить);\n",
    "- функционал разрабатываем на примере данных Ethereum (\"ETH-USD\"), но делаем тикер управляемым параметром;\n",
    "- границы train/test/valid датасетов должны быть управляемыми, для дальнейшего тестирования на различных временных периодах;\n",
    "- в X_test / X_valid не должно быть \"протекающих\" признаков (Open / High / Low / Volume), при этом оставим возможность того, чтобы использовались другие признаки;\n",
    "- вероятно, для сравнимости результатов тестирования длины тестовой и валидационной выборок должны быть одинаковыми, вне зависимости от длины обучающей (разные тикеры / разные периоды тестирования), поэтому реализация будет через определение временных границ, а не train_size / test_size из sklearn.model_selection_train_test_split;"
   ]
  },
  {
   "cell_type": "code",
   "execution_count": 1,
   "metadata": {},
   "outputs": [],
   "source": [
    "# Относительные ссылки, включая импорты, относительно корневой папки проекта\n",
    "import os\n",
    "\n",
    "os.chdir(os.path.dirname(os.getcwd()))\n",
    "\n",
    "import main\n",
    "import logging\n",
    "\n",
    "from typing import Optional\n",
    "\n",
    "import pandas as pd\n",
    "\n",
    "from src.core import utils\n",
    "\n",
    "# initialize\n",
    "logger = logging.getLogger()\n",
    "# initialize config dict\n",
    "config = main.main_launch()\n",
    "# SUBSTITUTE FOR TESTING\n",
    "# TODO"
   ]
  },
  {
   "cell_type": "code",
   "execution_count": 2,
   "metadata": {},
   "outputs": [],
   "source": [
    "# Params for data download\n",
    "TICKER = \"ETH-USD\"\n",
    "START_DT = '2010-01-01' # get as long as possible\n",
    "END_DT = config.END_DT # defaults to today\n",
    "INTERVAL = '1d'\n",
    "\n",
    "# params for split function\n",
    "train_start = None\n",
    "train_end = \"2023-01-01\"\n",
    "test_end = \"2024-01-01\"\n",
    "valid_end = \"2025-01-01\" #config.END_DT"
   ]
  },
  {
   "cell_type": "code",
   "execution_count": 3,
   "metadata": {},
   "outputs": [
    {
     "name": "stderr",
     "output_type": "stream",
     "text": [
      "[INFO   ] 2025-03-22@20:00:23: Made sure table in database for interval='1d' exists\n",
      "[INFO   ] 2025-03-22@20:00:23: Checking already available data...\n",
      "[INFO   ] 2025-03-22@20:00:26: 0 tickers have no data at all\n",
      "[INFO   ] 2025-03-22@20:00:26: 1 tickers lack history in start part\n",
      "[INFO   ] 2025-03-22@20:00:26: 1 tickers lack history in end part\n",
      "[INFO   ] 2025-03-22@20:00:26: Updating tickers lacking early history data...\n",
      "[INFO   ] 2025-03-22@20:00:26: Downloading data using yfinance\n"
     ]
    },
    {
     "name": "stdout",
     "output_type": "stream",
     "text": [
      "YF.download() has changed argument auto_adjust default to True\n"
     ]
    },
    {
     "name": "stderr",
     "output_type": "stream",
     "text": [
      "[*********************100%***********************]  1 of 1 completed\n",
      "[INFO   ] 2025-03-22@20:00:26: Downloaded data shape: (0, 5)\n",
      "[INFO   ] 2025-03-22@20:00:26: reshaped: (0, 7)\n",
      "[INFO   ] 2025-03-22@20:00:27: Updating tickers lacking late history data...\n",
      "[INFO   ] 2025-03-22@20:00:27: Downloading data using yfinance\n",
      "[*********************100%***********************]  1 of 1 completed\n",
      "[INFO   ] 2025-03-22@20:00:27: Downloaded data shape: (1, 5)\n",
      "[INFO   ] 2025-03-22@20:00:27: reshaped: (1, 7)\n",
      "[INFO   ] 2025-03-22@20:00:28: Data in caching DB updated\n"
     ]
    }
   ],
   "source": [
    "# Обновим данные в кэширующей базе\n",
    "utils.update_tickers_data(\n",
    "    tickers=TICKER, start_dt=START_DT, end_dt=END_DT, interval=INTERVAL\n",
    ")"
   ]
  },
  {
   "cell_type": "code",
   "execution_count": 4,
   "metadata": {},
   "outputs": [
    {
     "name": "stderr",
     "output_type": "stream",
     "text": [
      "[INFO   ] 2025-03-22@20:00:29: Getting history from local cache DB...\n",
      "[INFO   ] 2025-03-22@20:00:30: Got history of shape (2690, 7), 0 NaNs\n"
     ]
    },
    {
     "data": {
      "text/html": [
       "<div>\n",
       "<style scoped>\n",
       "    .dataframe tbody tr th:only-of-type {\n",
       "        vertical-align: middle;\n",
       "    }\n",
       "\n",
       "    .dataframe tbody tr th {\n",
       "        vertical-align: top;\n",
       "    }\n",
       "\n",
       "    .dataframe thead th {\n",
       "        text-align: right;\n",
       "    }\n",
       "</style>\n",
       "<table border=\"1\" class=\"dataframe\">\n",
       "  <thead>\n",
       "    <tr style=\"text-align: right;\">\n",
       "      <th></th>\n",
       "      <th>Date</th>\n",
       "      <th>Ticker</th>\n",
       "      <th>Open</th>\n",
       "      <th>Low</th>\n",
       "      <th>High</th>\n",
       "      <th>Close</th>\n",
       "      <th>Volume</th>\n",
       "    </tr>\n",
       "  </thead>\n",
       "  <tbody>\n",
       "    <tr>\n",
       "      <th>2551</th>\n",
       "      <td>2024-03-08 00:00:00.000000</td>\n",
       "      <td>ETH-USD</td>\n",
       "      <td>3874.830811</td>\n",
       "      <td>3828.363281</td>\n",
       "      <td>3998.826416</td>\n",
       "      <td>3892.061035</td>\n",
       "      <td>2.613549e+10</td>\n",
       "    </tr>\n",
       "    <tr>\n",
       "      <th>1980</th>\n",
       "      <td>2022-08-15 00:00:00.000000</td>\n",
       "      <td>ETH-USD</td>\n",
       "      <td>1936.760498</td>\n",
       "      <td>1881.856812</td>\n",
       "      <td>2007.210327</td>\n",
       "      <td>1904.228149</td>\n",
       "      <td>2.034993e+10</td>\n",
       "    </tr>\n",
       "    <tr>\n",
       "      <th>2277</th>\n",
       "      <td>2023-06-08 00:00:00.000000</td>\n",
       "      <td>ETH-USD</td>\n",
       "      <td>1832.513550</td>\n",
       "      <td>1830.165039</td>\n",
       "      <td>1861.136108</td>\n",
       "      <td>1846.301880</td>\n",
       "      <td>4.536042e+09</td>\n",
       "    </tr>\n",
       "  </tbody>\n",
       "</table>\n",
       "</div>"
      ],
      "text/plain": [
       "                            Date   Ticker         Open          Low  \\\n",
       "2551  2024-03-08 00:00:00.000000  ETH-USD  3874.830811  3828.363281   \n",
       "1980  2022-08-15 00:00:00.000000  ETH-USD  1936.760498  1881.856812   \n",
       "2277  2023-06-08 00:00:00.000000  ETH-USD  1832.513550  1830.165039   \n",
       "\n",
       "             High        Close        Volume  \n",
       "2551  3998.826416  3892.061035  2.613549e+10  \n",
       "1980  2007.210327  1904.228149  2.034993e+10  \n",
       "2277  1861.136108  1846.301880  4.536042e+09  "
      ]
     },
     "execution_count": 4,
     "metadata": {},
     "output_type": "execute_result"
    }
   ],
   "source": [
    "# Загрузим данные для дальнейшего использования\n",
    "ticker_data = utils.get_history(\n",
    "    tickers=TICKER,\n",
    "    start=START_DT,\n",
    "    end=END_DT,\n",
    "    interval=INTERVAL,\n",
    "    update_cache=False,\n",
    ")\n",
    "\n",
    "ticker_data.sample(3)"
   ]
  },
  {
   "cell_type": "code",
   "execution_count": 5,
   "metadata": {},
   "outputs": [],
   "source": [
    "def train_test_valid_split(\n",
    "    ticker_data: pd.DataFrame,\n",
    "    train_start: Optional[str],\n",
    "    train_end: str,\n",
    "    test_end: str,\n",
    "    valid_end: str,\n",
    "    drop_leaky:bool=True\n",
    ") -> tuple[\n",
    "    pd.DataFrame, pd.DataFrame, pd.DataFrame, pd.DataFrame, pd.DataFrame, pd.DataFrame\n",
    "]:\n",
    "    \"\"\"\n",
    "    Split ticker data to training, testing and validation datasets\n",
    "    \"\"\"\n",
    "    logger.info(\"Splitting ticker data to train/test/validation parts\")\n",
    "    # 0. Make sure that Date is ascending. Also reset index\n",
    "    ticker_data[\"Date\"] = pd.to_datetime(ticker_data[\"Date\"])\n",
    "    ticker_data = ticker_data.sort_values(by=[\"Date\"], ascending=True).reset_index(\n",
    "        drop=True\n",
    "    )\n",
    "\n",
    "    # 1. Drop leaky columns\n",
    "    try:\n",
    "        ticker_data.drop(columns=[\"Ticker\"], inplace=True)\n",
    "    except:\n",
    "        pass\n",
    "    if drop_leaky:\n",
    "        for col in [\"Open\", \"Low\", \"High\", \"Volume\"]:\n",
    "            try:\n",
    "                ticker_data.drop(columns=col, inplace=True)\n",
    "            except:\n",
    "                pass\n",
    "\n",
    "    # 2. Perform train/test/valid split based on 'Date'\n",
    "    # we don't need anything after validation end\n",
    "    ticker_data = ticker_data[ticker_data[\"Date\"] < valid_end].reset_index(drop=True)\n",
    "    # in case train_start is defined - cut it\n",
    "    if train_start is not None:\n",
    "        ticker_data = ticker_data[ticker_data[\"Date\"] >= train_start].reset_index(\n",
    "            drop=True\n",
    "        )\n",
    "    # Train parts\n",
    "    X_train = (\n",
    "        ticker_data[ticker_data[\"Date\"] < train_end]\n",
    "        .drop(columns=[\"Close\"])\n",
    "        .reset_index(drop=True)\n",
    "    )\n",
    "    y_train = ticker_data[ticker_data[\"Date\"] < train_end][\"Close\"].reset_index(\n",
    "        drop=True\n",
    "    )\n",
    "    # Test parts\n",
    "    X_test = (\n",
    "        ticker_data[\n",
    "            (ticker_data[\"Date\"] >= train_end) & (ticker_data[\"Date\"] < test_end)\n",
    "        ]\n",
    "        .drop(columns=[\"Close\"])\n",
    "        .reset_index(drop=True)\n",
    "    )\n",
    "    y_test = ticker_data[\n",
    "        (ticker_data[\"Date\"] >= train_end) & (ticker_data[\"Date\"] < test_end)\n",
    "    ][\"Close\"].reset_index(drop=True)\n",
    "    # Validation parts\n",
    "    X_val = (\n",
    "        ticker_data[ticker_data[\"Date\"] >= test_end]\n",
    "        .drop(columns=[\"Close\"])\n",
    "        .reset_index(drop=True)\n",
    "    )\n",
    "    y_val = ticker_data[ticker_data[\"Date\"] >= test_end][\"Close\"].reset_index(drop=True)\n",
    "\n",
    "    return X_train, y_train, X_test, y_test, X_val, y_val"
   ]
  },
  {
   "cell_type": "code",
   "execution_count": 6,
   "metadata": {},
   "outputs": [
    {
     "name": "stderr",
     "output_type": "stream",
     "text": [
      "[INFO   ] 2025-03-22@20:00:35: Splitting ticker data to train/test/validation parts\n"
     ]
    }
   ],
   "source": [
    "X_train, y_train, X_test, y_test, X_val, y_val = train_test_valid_split(\n",
    "    ticker_data, train_start, train_end, test_end, valid_end\n",
    ")"
   ]
  },
  {
   "cell_type": "markdown",
   "metadata": {},
   "source": [
    "# 2. Модель на основе паттернов технического анализа, которая будет принимать торговые решения по бумагам SnP500 и/или криптовалютам"
   ]
  },
  {
   "cell_type": "markdown",
   "metadata": {},
   "source": [
    "**Учитывая что модель должна работать по паттернам техического анализа - неочевидно зачем в предыдущем пункте вообще нужна обучающая выборка, ведь стратегия тестируется сразу на тестовой выборке**\n",
    "\n",
    "План:\n",
    "- реализовать несколько классов, наследуясь от backtesting.Strategy;\n",
    "- гиперпараметры в них - это параметры для расчета конкретных показателей (например, длина окна скользящей средней);\n",
    "- реализованные модели сохранить в /app/src/strategy в отдельные модули для дальнейшего использования;"
   ]
  },
  {
   "cell_type": "code",
   "execution_count": 1,
   "metadata": {},
   "outputs": [],
   "source": [
    "# Относительные ссылки, включая импорты, относительно корневой папки проекта\n",
    "import os\n",
    "\n",
    "os.chdir(os.path.dirname(os.getcwd()))\n",
    "\n",
    "import main\n",
    "import logging\n",
    "\n",
    "import pandas as pd\n",
    "\n",
    "import talib\n",
    "from backtesting import Backtest, Strategy\n",
    "from backtesting.lib import crossover\n",
    "\n",
    "from src.core import utils\n",
    "\n",
    "# initialize\n",
    "logger = logging.getLogger()\n",
    "# initialize config dict\n",
    "config = main.main_launch()\n",
    "# SUBSTITUTE FOR TESTING"
   ]
  },
  {
   "cell_type": "code",
   "execution_count": 2,
   "metadata": {},
   "outputs": [],
   "source": [
    "# Params for data download\n",
    "TICKER = \"ETH-USD\"\n",
    "START_DT = \"2010-01-01\"  # get as long as possible\n",
    "END_DT = config.END_DT  # defaults to today\n",
    "INTERVAL = \"1d\"\n",
    "\n",
    "# params for split function\n",
    "train_start = None\n",
    "train_end = \"2023-01-01\"\n",
    "test_end = \"2024-01-01\"\n",
    "valid_end = \"2025-01-01\"  # config.END_DT"
   ]
  },
  {
   "cell_type": "code",
   "execution_count": 3,
   "metadata": {},
   "outputs": [
    {
     "name": "stderr",
     "output_type": "stream",
     "text": [
      "[INFO   ] 2025-03-22@20:47:15: Getting history from local cache DB...\n",
      "[INFO   ] 2025-03-22@20:47:15: Got history of shape (2690, 7), 0 NaNs\n",
      "[INFO   ] 2025-03-22@20:47:15: Splitting ticker data to train/test/validation parts\n"
     ]
    }
   ],
   "source": [
    "# Возьмём данные - с разбивкой на train/test/valid\n",
    "ticker_data = utils.get_history(\n",
    "    tickers=TICKER,\n",
    "    start=START_DT,\n",
    "    end=END_DT,\n",
    "    interval=INTERVAL,\n",
    "    update_cache=False,\n",
    ")\n",
    "X_train, y_train, X_test, y_test, X_val, y_val = utils.train_test_valid_split(\n",
    "    ticker_data, train_start, train_end, test_end, valid_end, drop_leaky=False\n",
    ")"
   ]
  },
  {
   "cell_type": "code",
   "execution_count": 4,
   "metadata": {},
   "outputs": [],
   "source": [
    "# Для трансформации данных к виду, ожидаемому библоиотекой Backtesting, используем сервисную функцию\n",
    "def transform_for_backtesting(y_test: pd.DataFrame, X_test:pd.DataFrame) -> pd.DataFrame:\n",
    "    \"\"\"\n",
    "    Transform data after train/test split to the format fit for Backtesing library\n",
    "    \"\"\"\n",
    "    bt_df = pd.concat([X_test, y_test], axis=1)\n",
    "    # bt_df[\"Open\"] = 0\n",
    "    # bt_df[\"High\"] = 0\n",
    "    # bt_df[\"Low\"] = 0\n",
    "    bt_df[\"Date\"] = pd.to_datetime(bt_df[\"Date\"])\n",
    "    bt_df.set_index(\"Date\", inplace=True)\n",
    "    return bt_df"
   ]
  },
  {
   "cell_type": "code",
   "execution_count": 5,
   "metadata": {},
   "outputs": [],
   "source": [
    "# Стратегия №1: пересечение скользящих средних (быстрой и медленной)\n",
    "class SmaCross(Strategy):\n",
    "    \"\"\"\n",
    "    Basis Simple Moving Average crossover strategy\n",
    "    \"\"\"\n",
    "    ma_fast_periods = 10\n",
    "    ma_slow_periods = 20\n",
    "\n",
    "    def init(self)->None:\n",
    "        price = self.data['Close']\n",
    "        self.ma1 = self.I(talib.SMA, price, self.ma_fast_periods)\n",
    "        self.ma2 = self.I(talib.SMA, price, self.ma_slow_periods)\n",
    "\n",
    "    def next(self)->None:\n",
    "        if crossover(self.ma1, self.ma2):\n",
    "            self.buy()\n",
    "        elif crossover(self.ma2, self.ma2):\n",
    "            self.sell()"
   ]
  },
  {
   "cell_type": "code",
   "execution_count": 6,
   "metadata": {},
   "outputs": [
    {
     "data": {
      "text/plain": [
       "Start                     2023-01-01 00:00:00\n",
       "End                       2023-12-31 00:00:00\n",
       "Duration                    364 days 00:00:00\n",
       "Exposure Time [%]                   89.315068\n",
       "Equity Final [$]                133197.215895\n",
       "Equity Peak [$]                 138838.806227\n",
       "Commissions [$]                   7892.035338\n",
       "Return [%]                          33.197216\n",
       "Buy & Hold Return [%]               47.124591\n",
       "Return (Ann.) [%]                   33.197216\n",
       "Volatility (Ann.) [%]               61.035247\n",
       "CAGR [%]                            33.302154\n",
       "Sharpe Ratio                         0.543902\n",
       "Sortino Ratio                         1.19076\n",
       "Calmar Ratio                         1.114676\n",
       "Alpha [%]                           -8.268368\n",
       "Beta                                 0.879914\n",
       "Max. Drawdown [%]                  -29.781949\n",
       "Avg. Drawdown [%]                     -6.2029\n",
       "Max. Drawdown Duration      232 days 00:00:00\n",
       "Avg. Drawdown Duration       22 days 00:00:00\n",
       "# Trades                                   18\n",
       "Win Rate [%]                        61.111111\n",
       "dtype: object"
      ]
     },
     "execution_count": 6,
     "metadata": {},
     "output_type": "execute_result"
    }
   ],
   "source": [
    "# Test a strategy (SmaCross)\n",
    "bt = Backtest(\n",
    "    transform_for_backtesting(y_test, X_test),\n",
    "    SmaCross,\n",
    "    cash=100000,\n",
    "    commission=0.002,\n",
    "    exclusive_orders=True,\n",
    ")\n",
    "stats = bt.run(ma_fast_periods=3, ma_slow_periods=14)\n",
    "stats[:23]"
   ]
  },
  {
   "cell_type": "code",
   "execution_count": 7,
   "metadata": {},
   "outputs": [
    {
     "name": "stderr",
     "output_type": "stream",
     "text": [
      "INFO:bokeh.io.state:Session output file 'SmaCross_ma_fast_periods-3,ma_slow_periods-14_.html' already exists, will be overwritten.\n",
      "c:\\ProgramData\\miniconda3\\envs\\hw_env\\lib\\site-packages\\backtesting\\_plotting.py:700: UserWarning: found multiple competing values for 'toolbar.active_drag' property; using the latest value\n",
      "  fig = gridplot(\n",
      "c:\\ProgramData\\miniconda3\\envs\\hw_env\\lib\\site-packages\\backtesting\\_plotting.py:700: UserWarning: found multiple competing values for 'toolbar.active_scroll' property; using the latest value\n",
      "  fig = gridplot(\n"
     ]
    },
    {
     "data": {
      "text/html": [
       "<div style=\"display: table;\"><div style=\"display: table-row;\"><div style=\"display: table-cell;\"><b title=\"bokeh.models.plots.GridPlot\">GridPlot</b>(</div><div style=\"display: table-cell;\">id&nbsp;=&nbsp;'p1317', <span id=\"p1339\" style=\"cursor: pointer;\">&hellip;)</span></div></div><div class=\"p1338\" style=\"display: none;\"><div style=\"display: table-cell;\"></div><div style=\"display: table-cell;\">align&nbsp;=&nbsp;'auto',</div></div><div class=\"p1338\" style=\"display: none;\"><div style=\"display: table-cell;\"></div><div style=\"display: table-cell;\">aspect_ratio&nbsp;=&nbsp;None,</div></div><div class=\"p1338\" style=\"display: none;\"><div style=\"display: table-cell;\"></div><div style=\"display: table-cell;\">children&nbsp;=&nbsp;[(figure(id='p1048', ...), 0, 0), (figure(id='p1146', ...), 1, 0), (figure(id='p1003', ...), 2, 0), (figure(id='p1202', ...), 3, 0)],</div></div><div class=\"p1338\" style=\"display: none;\"><div style=\"display: table-cell;\"></div><div style=\"display: table-cell;\">cols&nbsp;=&nbsp;None,</div></div><div class=\"p1338\" style=\"display: none;\"><div style=\"display: table-cell;\"></div><div style=\"display: table-cell;\">context_menu&nbsp;=&nbsp;None,</div></div><div class=\"p1338\" style=\"display: none;\"><div style=\"display: table-cell;\"></div><div style=\"display: table-cell;\">css_classes&nbsp;=&nbsp;[],</div></div><div class=\"p1338\" style=\"display: none;\"><div style=\"display: table-cell;\"></div><div style=\"display: table-cell;\">css_variables&nbsp;=&nbsp;{},</div></div><div class=\"p1338\" style=\"display: none;\"><div style=\"display: table-cell;\"></div><div style=\"display: table-cell;\">disabled&nbsp;=&nbsp;False,</div></div><div class=\"p1338\" style=\"display: none;\"><div style=\"display: table-cell;\"></div><div style=\"display: table-cell;\">elements&nbsp;=&nbsp;[],</div></div><div class=\"p1338\" style=\"display: none;\"><div style=\"display: table-cell;\"></div><div style=\"display: table-cell;\">flow_mode&nbsp;=&nbsp;'block',</div></div><div class=\"p1338\" style=\"display: none;\"><div style=\"display: table-cell;\"></div><div style=\"display: table-cell;\">height&nbsp;=&nbsp;None,</div></div><div class=\"p1338\" style=\"display: none;\"><div style=\"display: table-cell;\"></div><div style=\"display: table-cell;\">height_policy&nbsp;=&nbsp;'auto',</div></div><div class=\"p1338\" style=\"display: none;\"><div style=\"display: table-cell;\"></div><div style=\"display: table-cell;\">js_event_callbacks&nbsp;=&nbsp;{},</div></div><div class=\"p1338\" style=\"display: none;\"><div style=\"display: table-cell;\"></div><div style=\"display: table-cell;\">js_property_callbacks&nbsp;=&nbsp;{},</div></div><div class=\"p1338\" style=\"display: none;\"><div style=\"display: table-cell;\"></div><div style=\"display: table-cell;\">margin&nbsp;=&nbsp;None,</div></div><div class=\"p1338\" style=\"display: none;\"><div style=\"display: table-cell;\"></div><div style=\"display: table-cell;\">max_height&nbsp;=&nbsp;None,</div></div><div class=\"p1338\" style=\"display: none;\"><div style=\"display: table-cell;\"></div><div style=\"display: table-cell;\">max_width&nbsp;=&nbsp;None,</div></div><div class=\"p1338\" style=\"display: none;\"><div style=\"display: table-cell;\"></div><div style=\"display: table-cell;\">min_height&nbsp;=&nbsp;None,</div></div><div class=\"p1338\" style=\"display: none;\"><div style=\"display: table-cell;\"></div><div style=\"display: table-cell;\">min_width&nbsp;=&nbsp;None,</div></div><div class=\"p1338\" style=\"display: none;\"><div style=\"display: table-cell;\"></div><div style=\"display: table-cell;\">name&nbsp;=&nbsp;None,</div></div><div class=\"p1338\" style=\"display: none;\"><div style=\"display: table-cell;\"></div><div style=\"display: table-cell;\">resizable&nbsp;=&nbsp;False,</div></div><div class=\"p1338\" style=\"display: none;\"><div style=\"display: table-cell;\"></div><div style=\"display: table-cell;\">rows&nbsp;=&nbsp;None,</div></div><div class=\"p1338\" style=\"display: none;\"><div style=\"display: table-cell;\"></div><div style=\"display: table-cell;\">sizing_mode&nbsp;=&nbsp;'stretch_width',</div></div><div class=\"p1338\" style=\"display: none;\"><div style=\"display: table-cell;\"></div><div style=\"display: table-cell;\">spacing&nbsp;=&nbsp;0,</div></div><div class=\"p1338\" style=\"display: none;\"><div style=\"display: table-cell;\"></div><div style=\"display: table-cell;\">styles&nbsp;=&nbsp;{},</div></div><div class=\"p1338\" style=\"display: none;\"><div style=\"display: table-cell;\"></div><div style=\"display: table-cell;\">stylesheets&nbsp;=&nbsp;[],</div></div><div class=\"p1338\" style=\"display: none;\"><div style=\"display: table-cell;\"></div><div style=\"display: table-cell;\">subscribed_events&nbsp;=&nbsp;PropertyValueSet(),</div></div><div class=\"p1338\" style=\"display: none;\"><div style=\"display: table-cell;\"></div><div style=\"display: table-cell;\">syncable&nbsp;=&nbsp;True,</div></div><div class=\"p1338\" style=\"display: none;\"><div style=\"display: table-cell;\"></div><div style=\"display: table-cell;\">tags&nbsp;=&nbsp;[],</div></div><div class=\"p1338\" style=\"display: none;\"><div style=\"display: table-cell;\"></div><div style=\"display: table-cell;\">toolbar&nbsp;=&nbsp;Toolbar(id='p1316', ...),</div></div><div class=\"p1338\" style=\"display: none;\"><div style=\"display: table-cell;\"></div><div style=\"display: table-cell;\">toolbar_location&nbsp;=&nbsp;'right',</div></div><div class=\"p1338\" style=\"display: none;\"><div style=\"display: table-cell;\"></div><div style=\"display: table-cell;\">visible&nbsp;=&nbsp;True,</div></div><div class=\"p1338\" style=\"display: none;\"><div style=\"display: table-cell;\"></div><div style=\"display: table-cell;\">width&nbsp;=&nbsp;None,</div></div><div class=\"p1338\" style=\"display: none;\"><div style=\"display: table-cell;\"></div><div style=\"display: table-cell;\">width_policy&nbsp;=&nbsp;'auto')</div></div></div>\n",
       "<script>\n",
       "(function() {\n",
       "  let expanded = false;\n",
       "  const ellipsis = document.getElementById(\"p1339\");\n",
       "  ellipsis.addEventListener(\"click\", function() {\n",
       "    const rows = document.getElementsByClassName(\"p1338\");\n",
       "    for (let i = 0; i < rows.length; i++) {\n",
       "      const el = rows[i];\n",
       "      el.style.display = expanded ? \"none\" : \"table-row\";\n",
       "    }\n",
       "    ellipsis.innerHTML = expanded ? \"&hellip;)\" : \"&lsaquo;&lsaquo;&lsaquo;\";\n",
       "    expanded = !expanded;\n",
       "  });\n",
       "})();\n",
       "</script>\n"
      ],
      "text/plain": [
       "GridPlot(id='p1317', ...)"
      ]
     },
     "execution_count": 7,
     "metadata": {},
     "output_type": "execute_result"
    }
   ],
   "source": [
    "bt.plot(superimpose=False)"
   ]
  },
  {
   "cell_type": "code",
   "execution_count": 8,
   "metadata": {},
   "outputs": [],
   "source": [
    "# Стратегия №2: MACD\n",
    "class MACDStrategy(Strategy):\n",
    "    \"\"\"\n",
    "    Moving Average Convergence-Divergence strategy\n",
    "    \"\"\"\n",
    "\n",
    "    fastperiod = 12\n",
    "    slowperiod = 26\n",
    "    signalperiod = 9\n",
    "\n",
    "    def init(self) -> None:\n",
    "        price = self.data[\"Close\"]\n",
    "\n",
    "        # Revealing object\n",
    "        self.signal = self.I(\n",
    "            talib.MACD,\n",
    "            price,\n",
    "            fastperiod=self.fastperiod,\n",
    "            slowperiod=self.slowperiod,\n",
    "            signalperiod=self.signalperiod,\n",
    "        )\n",
    "\n",
    "    def next(self) -> None:\n",
    "        if self.signal[0][-1] > self.signal[1][-1]:  # self.signal[-1] == 1:\n",
    "            if not self.position.is_long:\n",
    "                self.buy()\n",
    "        elif self.signal[0][-1] < self.signal[1][-1]:  # self.signal[-1] == -1:\n",
    "            if not self.position.is_short:\n",
    "                self.sell()"
   ]
  },
  {
   "cell_type": "code",
   "execution_count": 9,
   "metadata": {},
   "outputs": [
    {
     "data": {
      "text/plain": [
       "Start                     2023-01-01 00:00:00\n",
       "End                       2023-12-31 00:00:00\n",
       "Duration                    364 days 00:00:00\n",
       "Exposure Time [%]                   90.136986\n",
       "Equity Final [$]                 79124.413613\n",
       "Equity Peak [$]                 112136.229905\n",
       "Commissions [$]                   9012.901032\n",
       "Return [%]                         -20.875586\n",
       "Buy & Hold Return [%]               37.046236\n",
       "Return (Ann.) [%]                  -20.875586\n",
       "Volatility (Ann.) [%]               35.387794\n",
       "CAGR [%]                           -20.926468\n",
       "Sharpe Ratio                        -0.589909\n",
       "Sortino Ratio                       -0.696776\n",
       "Calmar Ratio                        -0.701459\n",
       "Alpha [%]                          -21.595475\n",
       "Beta                                 0.019432\n",
       "Max. Drawdown [%]                  -29.760248\n",
       "Avg. Drawdown [%]                   -11.59813\n",
       "Max. Drawdown Duration      181 days 00:00:00\n",
       "Avg. Drawdown Duration       66 days 00:00:00\n",
       "# Trades                                   24\n",
       "Win Rate [%]                             37.5\n",
       "dtype: object"
      ]
     },
     "execution_count": 9,
     "metadata": {},
     "output_type": "execute_result"
    }
   ],
   "source": [
    "# Test a strategy (MACDStrategy)\n",
    "bt = Backtest(\n",
    "    transform_for_backtesting(y_test, X_test),\n",
    "    MACDStrategy,\n",
    "    cash=100000,\n",
    "    commission=0.002,\n",
    "    exclusive_orders=True,\n",
    ")\n",
    "stats = bt.run(fastperiod=12, slowperiod=26, signalperiod=9)\n",
    "stats[:23]"
   ]
  },
  {
   "cell_type": "code",
   "execution_count": 10,
   "metadata": {},
   "outputs": [
    {
     "name": "stderr",
     "output_type": "stream",
     "text": [
      "INFO:bokeh.io.state:Session output file 'MACDStrategy_fastperiod-12,slowperiod-26,signalperiod-9_.html' already exists, will be overwritten.\n"
     ]
    },
    {
     "name": "stderr",
     "output_type": "stream",
     "text": [
      "c:\\ProgramData\\miniconda3\\envs\\hw_env\\lib\\site-packages\\backtesting\\_plotting.py:700: UserWarning: found multiple competing values for 'toolbar.active_drag' property; using the latest value\n",
      "  fig = gridplot(\n",
      "c:\\ProgramData\\miniconda3\\envs\\hw_env\\lib\\site-packages\\backtesting\\_plotting.py:700: UserWarning: found multiple competing values for 'toolbar.active_scroll' property; using the latest value\n",
      "  fig = gridplot(\n"
     ]
    },
    {
     "data": {
      "text/html": [
       "<div style=\"display: table;\"><div style=\"display: table-row;\"><div style=\"display: table-cell;\"><b title=\"bokeh.models.plots.GridPlot\">GridPlot</b>(</div><div style=\"display: table-cell;\">id&nbsp;=&nbsp;'p1701', <span id=\"p1724\" style=\"cursor: pointer;\">&hellip;)</span></div></div><div class=\"p1723\" style=\"display: none;\"><div style=\"display: table-cell;\"></div><div style=\"display: table-cell;\">align&nbsp;=&nbsp;'auto',</div></div><div class=\"p1723\" style=\"display: none;\"><div style=\"display: table-cell;\"></div><div style=\"display: table-cell;\">aspect_ratio&nbsp;=&nbsp;None,</div></div><div class=\"p1723\" style=\"display: none;\"><div style=\"display: table-cell;\"></div><div style=\"display: table-cell;\">children&nbsp;=&nbsp;[(figure(id='p1387', ...), 0, 0), (figure(id='p1485', ...), 1, 0), (figure(id='p1342', ...), 2, 0), (figure(id='p1541', ...), 3, 0), (figure(id='p1616', ...), 4, 0)],</div></div><div class=\"p1723\" style=\"display: none;\"><div style=\"display: table-cell;\"></div><div style=\"display: table-cell;\">cols&nbsp;=&nbsp;None,</div></div><div class=\"p1723\" style=\"display: none;\"><div style=\"display: table-cell;\"></div><div style=\"display: table-cell;\">context_menu&nbsp;=&nbsp;None,</div></div><div class=\"p1723\" style=\"display: none;\"><div style=\"display: table-cell;\"></div><div style=\"display: table-cell;\">css_classes&nbsp;=&nbsp;[],</div></div><div class=\"p1723\" style=\"display: none;\"><div style=\"display: table-cell;\"></div><div style=\"display: table-cell;\">css_variables&nbsp;=&nbsp;{},</div></div><div class=\"p1723\" style=\"display: none;\"><div style=\"display: table-cell;\"></div><div style=\"display: table-cell;\">disabled&nbsp;=&nbsp;False,</div></div><div class=\"p1723\" style=\"display: none;\"><div style=\"display: table-cell;\"></div><div style=\"display: table-cell;\">elements&nbsp;=&nbsp;[],</div></div><div class=\"p1723\" style=\"display: none;\"><div style=\"display: table-cell;\"></div><div style=\"display: table-cell;\">flow_mode&nbsp;=&nbsp;'block',</div></div><div class=\"p1723\" style=\"display: none;\"><div style=\"display: table-cell;\"></div><div style=\"display: table-cell;\">height&nbsp;=&nbsp;None,</div></div><div class=\"p1723\" style=\"display: none;\"><div style=\"display: table-cell;\"></div><div style=\"display: table-cell;\">height_policy&nbsp;=&nbsp;'auto',</div></div><div class=\"p1723\" style=\"display: none;\"><div style=\"display: table-cell;\"></div><div style=\"display: table-cell;\">js_event_callbacks&nbsp;=&nbsp;{},</div></div><div class=\"p1723\" style=\"display: none;\"><div style=\"display: table-cell;\"></div><div style=\"display: table-cell;\">js_property_callbacks&nbsp;=&nbsp;{},</div></div><div class=\"p1723\" style=\"display: none;\"><div style=\"display: table-cell;\"></div><div style=\"display: table-cell;\">margin&nbsp;=&nbsp;None,</div></div><div class=\"p1723\" style=\"display: none;\"><div style=\"display: table-cell;\"></div><div style=\"display: table-cell;\">max_height&nbsp;=&nbsp;None,</div></div><div class=\"p1723\" style=\"display: none;\"><div style=\"display: table-cell;\"></div><div style=\"display: table-cell;\">max_width&nbsp;=&nbsp;None,</div></div><div class=\"p1723\" style=\"display: none;\"><div style=\"display: table-cell;\"></div><div style=\"display: table-cell;\">min_height&nbsp;=&nbsp;None,</div></div><div class=\"p1723\" style=\"display: none;\"><div style=\"display: table-cell;\"></div><div style=\"display: table-cell;\">min_width&nbsp;=&nbsp;None,</div></div><div class=\"p1723\" style=\"display: none;\"><div style=\"display: table-cell;\"></div><div style=\"display: table-cell;\">name&nbsp;=&nbsp;None,</div></div><div class=\"p1723\" style=\"display: none;\"><div style=\"display: table-cell;\"></div><div style=\"display: table-cell;\">resizable&nbsp;=&nbsp;False,</div></div><div class=\"p1723\" style=\"display: none;\"><div style=\"display: table-cell;\"></div><div style=\"display: table-cell;\">rows&nbsp;=&nbsp;None,</div></div><div class=\"p1723\" style=\"display: none;\"><div style=\"display: table-cell;\"></div><div style=\"display: table-cell;\">sizing_mode&nbsp;=&nbsp;'stretch_width',</div></div><div class=\"p1723\" style=\"display: none;\"><div style=\"display: table-cell;\"></div><div style=\"display: table-cell;\">spacing&nbsp;=&nbsp;0,</div></div><div class=\"p1723\" style=\"display: none;\"><div style=\"display: table-cell;\"></div><div style=\"display: table-cell;\">styles&nbsp;=&nbsp;{},</div></div><div class=\"p1723\" style=\"display: none;\"><div style=\"display: table-cell;\"></div><div style=\"display: table-cell;\">stylesheets&nbsp;=&nbsp;[],</div></div><div class=\"p1723\" style=\"display: none;\"><div style=\"display: table-cell;\"></div><div style=\"display: table-cell;\">subscribed_events&nbsp;=&nbsp;PropertyValueSet(),</div></div><div class=\"p1723\" style=\"display: none;\"><div style=\"display: table-cell;\"></div><div style=\"display: table-cell;\">syncable&nbsp;=&nbsp;True,</div></div><div class=\"p1723\" style=\"display: none;\"><div style=\"display: table-cell;\"></div><div style=\"display: table-cell;\">tags&nbsp;=&nbsp;[],</div></div><div class=\"p1723\" style=\"display: none;\"><div style=\"display: table-cell;\"></div><div style=\"display: table-cell;\">toolbar&nbsp;=&nbsp;Toolbar(id='p1700', ...),</div></div><div class=\"p1723\" style=\"display: none;\"><div style=\"display: table-cell;\"></div><div style=\"display: table-cell;\">toolbar_location&nbsp;=&nbsp;'right',</div></div><div class=\"p1723\" style=\"display: none;\"><div style=\"display: table-cell;\"></div><div style=\"display: table-cell;\">visible&nbsp;=&nbsp;True,</div></div><div class=\"p1723\" style=\"display: none;\"><div style=\"display: table-cell;\"></div><div style=\"display: table-cell;\">width&nbsp;=&nbsp;None,</div></div><div class=\"p1723\" style=\"display: none;\"><div style=\"display: table-cell;\"></div><div style=\"display: table-cell;\">width_policy&nbsp;=&nbsp;'auto')</div></div></div>\n",
       "<script>\n",
       "(function() {\n",
       "  let expanded = false;\n",
       "  const ellipsis = document.getElementById(\"p1724\");\n",
       "  ellipsis.addEventListener(\"click\", function() {\n",
       "    const rows = document.getElementsByClassName(\"p1723\");\n",
       "    for (let i = 0; i < rows.length; i++) {\n",
       "      const el = rows[i];\n",
       "      el.style.display = expanded ? \"none\" : \"table-row\";\n",
       "    }\n",
       "    ellipsis.innerHTML = expanded ? \"&hellip;)\" : \"&lsaquo;&lsaquo;&lsaquo;\";\n",
       "    expanded = !expanded;\n",
       "  });\n",
       "})();\n",
       "</script>\n"
      ],
      "text/plain": [
       "GridPlot(id='p1701', ...)"
      ]
     },
     "execution_count": 10,
     "metadata": {},
     "output_type": "execute_result"
    }
   ],
   "source": [
    "bt.plot(superimpose=False)"
   ]
  },
  {
   "cell_type": "code",
   "execution_count": 11,
   "metadata": {},
   "outputs": [],
   "source": [
    "# Стратегия №3: STOCH\n",
    "class STOCHStrategy(Strategy):\n",
    "    \"\"\"\n",
    "    Stochastic Oscillator-based strategy\n",
    "    \"\"\"\n",
    "\n",
    "    fastk_period = 14\n",
    "    slowk_period = 7\n",
    "    slowk_matype = 0\n",
    "    slowd_period = 7\n",
    "    slowd_matype = 0\n",
    "\n",
    "    def init(self) -> None:\n",
    "        high = self.data['High']\n",
    "        low = self.data['Low']\n",
    "        close = self.data['Close']\n",
    "\n",
    "        # Revealing object\n",
    "        self.signal = self.I(\n",
    "            talib.STOCH,\n",
    "            high,\n",
    "            low,\n",
    "            close,\n",
    "            fastk_period=self.fastk_period,\n",
    "            slowk_period=self.slowk_period,\n",
    "            slowk_matype=self.slowk_matype,\n",
    "            slowd_period=self.slowd_period,\n",
    "            slowd_matype=self.slowd_matype,\n",
    "        )\n",
    "\n",
    "    def next(self) -> None:\n",
    "        if self.signal[0][-1] > self.signal[1][-1]:  # self.signal[-1] == 1:\n",
    "            if not self.position.is_long:\n",
    "                self.buy()\n",
    "        elif self.signal[0][-1] < self.signal[1][-1]:  # self.signal[-1] == -1:\n",
    "            if not self.position.is_short:\n",
    "                self.sell()"
   ]
  },
  {
   "cell_type": "code",
   "execution_count": 12,
   "metadata": {},
   "outputs": [
    {
     "data": {
      "text/plain": [
       "Start                     2023-01-01 00:00:00\n",
       "End                       2023-12-31 00:00:00\n",
       "Duration                    364 days 00:00:00\n",
       "Exposure Time [%]                   90.684932\n",
       "Equity Final [$]                 81295.286939\n",
       "Equity Peak [$]                 101711.359798\n",
       "Commissions [$]                  12366.313239\n",
       "Return [%]                         -18.704713\n",
       "Buy & Hold Return [%]               42.315683\n",
       "Return (Ann.) [%]                  -18.704713\n",
       "Volatility (Ann.) [%]               37.435525\n",
       "CAGR [%]                           -18.750949\n",
       "Sharpe Ratio                        -0.499651\n",
       "Sortino Ratio                       -0.631175\n",
       "Calmar Ratio                        -0.517654\n",
       "Alpha [%]                          -22.056002\n",
       "Beta                                 0.079197\n",
       "Max. Drawdown [%]                  -36.133639\n",
       "Avg. Drawdown [%]                  -20.320724\n",
       "Max. Drawdown Duration      335 days 00:00:00\n",
       "Avg. Drawdown Duration      169 days 00:00:00\n",
       "# Trades                                   39\n",
       "Win Rate [%]                        38.461538\n",
       "dtype: object"
      ]
     },
     "execution_count": 12,
     "metadata": {},
     "output_type": "execute_result"
    }
   ],
   "source": [
    "# Test a strategy (STOCHStrategy)\n",
    "bt = Backtest(\n",
    "    transform_for_backtesting(y_test, X_test),\n",
    "    STOCHStrategy,\n",
    "    cash=100000,\n",
    "    commission=0.002,\n",
    "    exclusive_orders=True,\n",
    ")\n",
    "stats = bt.run(fastk_period=14, slowk_period = 7, slowk_matype = 0, slowd_period = 7, slowd_matype = 0)\n",
    "stats[:23]"
   ]
  },
  {
   "cell_type": "code",
   "execution_count": 13,
   "metadata": {},
   "outputs": [
    {
     "name": "stderr",
     "output_type": "stream",
     "text": [
      "INFO:bokeh.io.state:Session output file 'STOCHStrategy_fastk_period-14,slowk_period-7,slowk_matype-0,slowd_period-7,slowd_matype-0_.html' already exists, will be overwritten.\n"
     ]
    },
    {
     "name": "stderr",
     "output_type": "stream",
     "text": [
      "c:\\ProgramData\\miniconda3\\envs\\hw_env\\lib\\site-packages\\backtesting\\_plotting.py:700: UserWarning: found multiple competing values for 'toolbar.active_drag' property; using the latest value\n",
      "  fig = gridplot(\n",
      "c:\\ProgramData\\miniconda3\\envs\\hw_env\\lib\\site-packages\\backtesting\\_plotting.py:700: UserWarning: found multiple competing values for 'toolbar.active_scroll' property; using the latest value\n",
      "  fig = gridplot(\n"
     ]
    },
    {
     "data": {
      "text/html": [
       "<div style=\"display: table;\"><div style=\"display: table-row;\"><div style=\"display: table-cell;\"><b title=\"bokeh.models.plots.GridPlot\">GridPlot</b>(</div><div style=\"display: table-cell;\">id&nbsp;=&nbsp;'p2079', <span id=\"p2101\" style=\"cursor: pointer;\">&hellip;)</span></div></div><div class=\"p2100\" style=\"display: none;\"><div style=\"display: table-cell;\"></div><div style=\"display: table-cell;\">align&nbsp;=&nbsp;'auto',</div></div><div class=\"p2100\" style=\"display: none;\"><div style=\"display: table-cell;\"></div><div style=\"display: table-cell;\">aspect_ratio&nbsp;=&nbsp;None,</div></div><div class=\"p2100\" style=\"display: none;\"><div style=\"display: table-cell;\"></div><div style=\"display: table-cell;\">children&nbsp;=&nbsp;[(figure(id='p1772', ...), 0, 0), (figure(id='p1870', ...), 1, 0), (figure(id='p1727', ...), 2, 0), (figure(id='p1926', ...), 3, 0), (figure(id='p2001', ...), 4, 0)],</div></div><div class=\"p2100\" style=\"display: none;\"><div style=\"display: table-cell;\"></div><div style=\"display: table-cell;\">cols&nbsp;=&nbsp;None,</div></div><div class=\"p2100\" style=\"display: none;\"><div style=\"display: table-cell;\"></div><div style=\"display: table-cell;\">context_menu&nbsp;=&nbsp;None,</div></div><div class=\"p2100\" style=\"display: none;\"><div style=\"display: table-cell;\"></div><div style=\"display: table-cell;\">css_classes&nbsp;=&nbsp;[],</div></div><div class=\"p2100\" style=\"display: none;\"><div style=\"display: table-cell;\"></div><div style=\"display: table-cell;\">css_variables&nbsp;=&nbsp;{},</div></div><div class=\"p2100\" style=\"display: none;\"><div style=\"display: table-cell;\"></div><div style=\"display: table-cell;\">disabled&nbsp;=&nbsp;False,</div></div><div class=\"p2100\" style=\"display: none;\"><div style=\"display: table-cell;\"></div><div style=\"display: table-cell;\">elements&nbsp;=&nbsp;[],</div></div><div class=\"p2100\" style=\"display: none;\"><div style=\"display: table-cell;\"></div><div style=\"display: table-cell;\">flow_mode&nbsp;=&nbsp;'block',</div></div><div class=\"p2100\" style=\"display: none;\"><div style=\"display: table-cell;\"></div><div style=\"display: table-cell;\">height&nbsp;=&nbsp;None,</div></div><div class=\"p2100\" style=\"display: none;\"><div style=\"display: table-cell;\"></div><div style=\"display: table-cell;\">height_policy&nbsp;=&nbsp;'auto',</div></div><div class=\"p2100\" style=\"display: none;\"><div style=\"display: table-cell;\"></div><div style=\"display: table-cell;\">js_event_callbacks&nbsp;=&nbsp;{},</div></div><div class=\"p2100\" style=\"display: none;\"><div style=\"display: table-cell;\"></div><div style=\"display: table-cell;\">js_property_callbacks&nbsp;=&nbsp;{},</div></div><div class=\"p2100\" style=\"display: none;\"><div style=\"display: table-cell;\"></div><div style=\"display: table-cell;\">margin&nbsp;=&nbsp;None,</div></div><div class=\"p2100\" style=\"display: none;\"><div style=\"display: table-cell;\"></div><div style=\"display: table-cell;\">max_height&nbsp;=&nbsp;None,</div></div><div class=\"p2100\" style=\"display: none;\"><div style=\"display: table-cell;\"></div><div style=\"display: table-cell;\">max_width&nbsp;=&nbsp;None,</div></div><div class=\"p2100\" style=\"display: none;\"><div style=\"display: table-cell;\"></div><div style=\"display: table-cell;\">min_height&nbsp;=&nbsp;None,</div></div><div class=\"p2100\" style=\"display: none;\"><div style=\"display: table-cell;\"></div><div style=\"display: table-cell;\">min_width&nbsp;=&nbsp;None,</div></div><div class=\"p2100\" style=\"display: none;\"><div style=\"display: table-cell;\"></div><div style=\"display: table-cell;\">name&nbsp;=&nbsp;None,</div></div><div class=\"p2100\" style=\"display: none;\"><div style=\"display: table-cell;\"></div><div style=\"display: table-cell;\">resizable&nbsp;=&nbsp;False,</div></div><div class=\"p2100\" style=\"display: none;\"><div style=\"display: table-cell;\"></div><div style=\"display: table-cell;\">rows&nbsp;=&nbsp;None,</div></div><div class=\"p2100\" style=\"display: none;\"><div style=\"display: table-cell;\"></div><div style=\"display: table-cell;\">sizing_mode&nbsp;=&nbsp;'stretch_width',</div></div><div class=\"p2100\" style=\"display: none;\"><div style=\"display: table-cell;\"></div><div style=\"display: table-cell;\">spacing&nbsp;=&nbsp;0,</div></div><div class=\"p2100\" style=\"display: none;\"><div style=\"display: table-cell;\"></div><div style=\"display: table-cell;\">styles&nbsp;=&nbsp;{},</div></div><div class=\"p2100\" style=\"display: none;\"><div style=\"display: table-cell;\"></div><div style=\"display: table-cell;\">stylesheets&nbsp;=&nbsp;[],</div></div><div class=\"p2100\" style=\"display: none;\"><div style=\"display: table-cell;\"></div><div style=\"display: table-cell;\">subscribed_events&nbsp;=&nbsp;PropertyValueSet(),</div></div><div class=\"p2100\" style=\"display: none;\"><div style=\"display: table-cell;\"></div><div style=\"display: table-cell;\">syncable&nbsp;=&nbsp;True,</div></div><div class=\"p2100\" style=\"display: none;\"><div style=\"display: table-cell;\"></div><div style=\"display: table-cell;\">tags&nbsp;=&nbsp;[],</div></div><div class=\"p2100\" style=\"display: none;\"><div style=\"display: table-cell;\"></div><div style=\"display: table-cell;\">toolbar&nbsp;=&nbsp;Toolbar(id='p2078', ...),</div></div><div class=\"p2100\" style=\"display: none;\"><div style=\"display: table-cell;\"></div><div style=\"display: table-cell;\">toolbar_location&nbsp;=&nbsp;'right',</div></div><div class=\"p2100\" style=\"display: none;\"><div style=\"display: table-cell;\"></div><div style=\"display: table-cell;\">visible&nbsp;=&nbsp;True,</div></div><div class=\"p2100\" style=\"display: none;\"><div style=\"display: table-cell;\"></div><div style=\"display: table-cell;\">width&nbsp;=&nbsp;None,</div></div><div class=\"p2100\" style=\"display: none;\"><div style=\"display: table-cell;\"></div><div style=\"display: table-cell;\">width_policy&nbsp;=&nbsp;'auto')</div></div></div>\n",
       "<script>\n",
       "(function() {\n",
       "  let expanded = false;\n",
       "  const ellipsis = document.getElementById(\"p2101\");\n",
       "  ellipsis.addEventListener(\"click\", function() {\n",
       "    const rows = document.getElementsByClassName(\"p2100\");\n",
       "    for (let i = 0; i < rows.length; i++) {\n",
       "      const el = rows[i];\n",
       "      el.style.display = expanded ? \"none\" : \"table-row\";\n",
       "    }\n",
       "    ellipsis.innerHTML = expanded ? \"&hellip;)\" : \"&lsaquo;&lsaquo;&lsaquo;\";\n",
       "    expanded = !expanded;\n",
       "  });\n",
       "})();\n",
       "</script>\n"
      ],
      "text/plain": [
       "GridPlot(id='p2079', ...)"
      ]
     },
     "execution_count": 13,
     "metadata": {},
     "output_type": "execute_result"
    }
   ],
   "source": [
    "bt.plot(superimpose=False)"
   ]
  },
  {
   "cell_type": "code",
   "execution_count": 14,
   "metadata": {},
   "outputs": [],
   "source": [
    "# Стратегия №4: TEMA\n",
    "class TEMAStrategy(Strategy):\n",
    "    \"\"\"\n",
    "    Triple EMA-based strategy\n",
    "    \"\"\"\n",
    "\n",
    "    period = 55\n",
    "\n",
    "    def init(self) -> None:\n",
    "        self.close = self.data[\"Close\"]\n",
    "        ema1 = talib.EMA(self.close, timeperiod=self.period)\n",
    "        ema2 = talib.EMA(ema1, timeperiod=self.period)\n",
    "        ema3 = talib.EMA(ema2, timeperiod=self.period)\n",
    "\n",
    "        # Revealing object\n",
    "        self.signal = self.I(pd.Series(((3 * ema1) - (3 * ema2) + ema3)).to_numpy)\n",
    "\n",
    "    def next(self) -> None:\n",
    "        if self.close[-1] > self.signal[-1]:  # self.signal[-1] == 1:\n",
    "            if not self.position.is_long:\n",
    "                self.buy()\n",
    "        elif self.close[-1] < self.signal[-1]:  # self.signal[-1] == -1:\n",
    "            if not self.position.is_short:\n",
    "                self.sell()"
   ]
  },
  {
   "cell_type": "code",
   "execution_count": 15,
   "metadata": {},
   "outputs": [
    {
     "data": {
      "text/plain": [
       "Start                     2023-01-01 00:00:00\n",
       "End                       2023-12-31 00:00:00\n",
       "Duration                    364 days 00:00:00\n",
       "Exposure Time [%]                   49.589041\n",
       "Equity Final [$]                138268.851749\n",
       "Equity Peak [$]                 144173.973819\n",
       "Commissions [$]                    466.459124\n",
       "Return [%]                          38.268852\n",
       "Buy & Hold Return [%]               30.928759\n",
       "Return (Ann.) [%]                   38.268852\n",
       "Volatility (Ann.) [%]               44.493751\n",
       "CAGR [%]                            38.391992\n",
       "Sharpe Ratio                         0.860095\n",
       "Sortino Ratio                        2.006077\n",
       "Calmar Ratio                         1.654169\n",
       "Alpha [%]                           28.061759\n",
       "Beta                                 0.330019\n",
       "Max. Drawdown [%]                  -23.134787\n",
       "Avg. Drawdown [%]                    -5.02087\n",
       "Max. Drawdown Duration      119 days 00:00:00\n",
       "Avg. Drawdown Duration       15 days 00:00:00\n",
       "# Trades                                    1\n",
       "Win Rate [%]                            100.0\n",
       "dtype: object"
      ]
     },
     "execution_count": 15,
     "metadata": {},
     "output_type": "execute_result"
    }
   ],
   "source": [
    "# Test a strategy (TEMAStrategy)\n",
    "bt = Backtest(\n",
    "    transform_for_backtesting(y_test, X_test),\n",
    "    TEMAStrategy,\n",
    "    cash=100000,\n",
    "    commission=0.002,\n",
    "    exclusive_orders=True,\n",
    ")\n",
    "stats = bt.run(period=55)\n",
    "stats[:23]"
   ]
  },
  {
   "cell_type": "code",
   "execution_count": 16,
   "metadata": {},
   "outputs": [
    {
     "name": "stderr",
     "output_type": "stream",
     "text": [
      "INFO:bokeh.io.state:Session output file 'TEMAStrategy_period-55_.html' already exists, will be overwritten.\n"
     ]
    },
    {
     "name": "stderr",
     "output_type": "stream",
     "text": [
      "c:\\ProgramData\\miniconda3\\envs\\hw_env\\lib\\site-packages\\backtesting\\_plotting.py:700: UserWarning: found multiple competing values for 'toolbar.active_drag' property; using the latest value\n",
      "  fig = gridplot(\n",
      "c:\\ProgramData\\miniconda3\\envs\\hw_env\\lib\\site-packages\\backtesting\\_plotting.py:700: UserWarning: found multiple competing values for 'toolbar.active_scroll' property; using the latest value\n",
      "  fig = gridplot(\n"
     ]
    },
    {
     "data": {
      "text/html": [
       "<div style=\"display: table;\"><div style=\"display: table-row;\"><div style=\"display: table-cell;\"><b title=\"bokeh.models.plots.GridPlot\">GridPlot</b>(</div><div style=\"display: table-cell;\">id&nbsp;=&nbsp;'p2445', <span id=\"p2466\" style=\"cursor: pointer;\">&hellip;)</span></div></div><div class=\"p2465\" style=\"display: none;\"><div style=\"display: table-cell;\"></div><div style=\"display: table-cell;\">align&nbsp;=&nbsp;'auto',</div></div><div class=\"p2465\" style=\"display: none;\"><div style=\"display: table-cell;\"></div><div style=\"display: table-cell;\">aspect_ratio&nbsp;=&nbsp;None,</div></div><div class=\"p2465\" style=\"display: none;\"><div style=\"display: table-cell;\"></div><div style=\"display: table-cell;\">children&nbsp;=&nbsp;[(figure(id='p2149', ...), 0, 0), (figure(id='p2247', ...), 1, 0), (figure(id='p2104', ...), 2, 0), (figure(id='p2303', ...), 3, 0), (figure(id='p2378', ...), 4, 0)],</div></div><div class=\"p2465\" style=\"display: none;\"><div style=\"display: table-cell;\"></div><div style=\"display: table-cell;\">cols&nbsp;=&nbsp;None,</div></div><div class=\"p2465\" style=\"display: none;\"><div style=\"display: table-cell;\"></div><div style=\"display: table-cell;\">context_menu&nbsp;=&nbsp;None,</div></div><div class=\"p2465\" style=\"display: none;\"><div style=\"display: table-cell;\"></div><div style=\"display: table-cell;\">css_classes&nbsp;=&nbsp;[],</div></div><div class=\"p2465\" style=\"display: none;\"><div style=\"display: table-cell;\"></div><div style=\"display: table-cell;\">css_variables&nbsp;=&nbsp;{},</div></div><div class=\"p2465\" style=\"display: none;\"><div style=\"display: table-cell;\"></div><div style=\"display: table-cell;\">disabled&nbsp;=&nbsp;False,</div></div><div class=\"p2465\" style=\"display: none;\"><div style=\"display: table-cell;\"></div><div style=\"display: table-cell;\">elements&nbsp;=&nbsp;[],</div></div><div class=\"p2465\" style=\"display: none;\"><div style=\"display: table-cell;\"></div><div style=\"display: table-cell;\">flow_mode&nbsp;=&nbsp;'block',</div></div><div class=\"p2465\" style=\"display: none;\"><div style=\"display: table-cell;\"></div><div style=\"display: table-cell;\">height&nbsp;=&nbsp;None,</div></div><div class=\"p2465\" style=\"display: none;\"><div style=\"display: table-cell;\"></div><div style=\"display: table-cell;\">height_policy&nbsp;=&nbsp;'auto',</div></div><div class=\"p2465\" style=\"display: none;\"><div style=\"display: table-cell;\"></div><div style=\"display: table-cell;\">js_event_callbacks&nbsp;=&nbsp;{},</div></div><div class=\"p2465\" style=\"display: none;\"><div style=\"display: table-cell;\"></div><div style=\"display: table-cell;\">js_property_callbacks&nbsp;=&nbsp;{},</div></div><div class=\"p2465\" style=\"display: none;\"><div style=\"display: table-cell;\"></div><div style=\"display: table-cell;\">margin&nbsp;=&nbsp;None,</div></div><div class=\"p2465\" style=\"display: none;\"><div style=\"display: table-cell;\"></div><div style=\"display: table-cell;\">max_height&nbsp;=&nbsp;None,</div></div><div class=\"p2465\" style=\"display: none;\"><div style=\"display: table-cell;\"></div><div style=\"display: table-cell;\">max_width&nbsp;=&nbsp;None,</div></div><div class=\"p2465\" style=\"display: none;\"><div style=\"display: table-cell;\"></div><div style=\"display: table-cell;\">min_height&nbsp;=&nbsp;None,</div></div><div class=\"p2465\" style=\"display: none;\"><div style=\"display: table-cell;\"></div><div style=\"display: table-cell;\">min_width&nbsp;=&nbsp;None,</div></div><div class=\"p2465\" style=\"display: none;\"><div style=\"display: table-cell;\"></div><div style=\"display: table-cell;\">name&nbsp;=&nbsp;None,</div></div><div class=\"p2465\" style=\"display: none;\"><div style=\"display: table-cell;\"></div><div style=\"display: table-cell;\">resizable&nbsp;=&nbsp;False,</div></div><div class=\"p2465\" style=\"display: none;\"><div style=\"display: table-cell;\"></div><div style=\"display: table-cell;\">rows&nbsp;=&nbsp;None,</div></div><div class=\"p2465\" style=\"display: none;\"><div style=\"display: table-cell;\"></div><div style=\"display: table-cell;\">sizing_mode&nbsp;=&nbsp;'stretch_width',</div></div><div class=\"p2465\" style=\"display: none;\"><div style=\"display: table-cell;\"></div><div style=\"display: table-cell;\">spacing&nbsp;=&nbsp;0,</div></div><div class=\"p2465\" style=\"display: none;\"><div style=\"display: table-cell;\"></div><div style=\"display: table-cell;\">styles&nbsp;=&nbsp;{},</div></div><div class=\"p2465\" style=\"display: none;\"><div style=\"display: table-cell;\"></div><div style=\"display: table-cell;\">stylesheets&nbsp;=&nbsp;[],</div></div><div class=\"p2465\" style=\"display: none;\"><div style=\"display: table-cell;\"></div><div style=\"display: table-cell;\">subscribed_events&nbsp;=&nbsp;PropertyValueSet(),</div></div><div class=\"p2465\" style=\"display: none;\"><div style=\"display: table-cell;\"></div><div style=\"display: table-cell;\">syncable&nbsp;=&nbsp;True,</div></div><div class=\"p2465\" style=\"display: none;\"><div style=\"display: table-cell;\"></div><div style=\"display: table-cell;\">tags&nbsp;=&nbsp;[],</div></div><div class=\"p2465\" style=\"display: none;\"><div style=\"display: table-cell;\"></div><div style=\"display: table-cell;\">toolbar&nbsp;=&nbsp;Toolbar(id='p2444', ...),</div></div><div class=\"p2465\" style=\"display: none;\"><div style=\"display: table-cell;\"></div><div style=\"display: table-cell;\">toolbar_location&nbsp;=&nbsp;'right',</div></div><div class=\"p2465\" style=\"display: none;\"><div style=\"display: table-cell;\"></div><div style=\"display: table-cell;\">visible&nbsp;=&nbsp;True,</div></div><div class=\"p2465\" style=\"display: none;\"><div style=\"display: table-cell;\"></div><div style=\"display: table-cell;\">width&nbsp;=&nbsp;None,</div></div><div class=\"p2465\" style=\"display: none;\"><div style=\"display: table-cell;\"></div><div style=\"display: table-cell;\">width_policy&nbsp;=&nbsp;'auto')</div></div></div>\n",
       "<script>\n",
       "(function() {\n",
       "  let expanded = false;\n",
       "  const ellipsis = document.getElementById(\"p2466\");\n",
       "  ellipsis.addEventListener(\"click\", function() {\n",
       "    const rows = document.getElementsByClassName(\"p2465\");\n",
       "    for (let i = 0; i < rows.length; i++) {\n",
       "      const el = rows[i];\n",
       "      el.style.display = expanded ? \"none\" : \"table-row\";\n",
       "    }\n",
       "    ellipsis.innerHTML = expanded ? \"&hellip;)\" : \"&lsaquo;&lsaquo;&lsaquo;\";\n",
       "    expanded = !expanded;\n",
       "  });\n",
       "})();\n",
       "</script>\n"
      ],
      "text/plain": [
       "GridPlot(id='p2445', ...)"
      ]
     },
     "execution_count": 16,
     "metadata": {},
     "output_type": "execute_result"
    }
   ],
   "source": [
    "bt.plot(superimpose=False)"
   ]
  },
  {
   "cell_type": "code",
   "execution_count": 17,
   "metadata": {},
   "outputs": [],
   "source": [
    "# Стратегия №5: Bollinger Bands\n",
    "class BollingerBandsStrategy(Strategy):\n",
    "    \"\"\"\n",
    "    Bollinger Bands-based strategy\n",
    "    \"\"\"\n",
    "\n",
    "    period = 55\n",
    "\n",
    "    def init(self) -> None:\n",
    "        self.close = self.data[\"Close\"]\n",
    "        self.ma = self.I(talib.SMA, self.close, timeperiod=self.period)\n",
    "        self.std = self.I(pd.Series(self.close).rolling(window=self.period).std)\n",
    "\n",
    "        # Upper and lower Bollinger Bands\n",
    "        self.upperbb_1sd = self.I(pd.Series(self.ma + (1 * self.std)).to_numpy)\n",
    "        self.upperbb_2sd = self.I(pd.Series(self.ma + (2 * self.std)).to_numpy)\n",
    "        self.lowerbb_1sd = self.I(pd.Series(self.ma - (1 * self.std)).to_numpy)\n",
    "        self.lowerbb_2sd = self.I(pd.Series(self.ma - (2 * self.std)).to_numpy)\n",
    "\n",
    "    def next(self) -> None:\n",
    "        # Position enter logic\n",
    "        if self.close[-1] > self.upperbb_1sd[-1]:\n",
    "            if not self.position.is_long:\n",
    "                self.buy()\n",
    "        elif self.close[-1] < self.lowerbb_1sd[-1]:\n",
    "            if not self.position.is_short:\n",
    "                self.sell()\n",
    "\n",
    "        # Position exit logic\n",
    "        if self.position.is_long:\n",
    "            if self.close[-1] < self.upperbb_1sd[-1]:\n",
    "                self.position.close()\n",
    "            if self.close[-1] > self.lowerbb_1sd[-1]:\n",
    "                self.position.close()"
   ]
  },
  {
   "cell_type": "code",
   "execution_count": 18,
   "metadata": {},
   "outputs": [
    {
     "data": {
      "text/plain": [
       "Start                     2023-01-01 00:00:00\n",
       "End                       2023-12-31 00:00:00\n",
       "Duration                    364 days 00:00:00\n",
       "Exposure Time [%]                   84.383562\n",
       "Equity Final [$]                 61106.030727\n",
       "Equity Peak [$]                 103779.620667\n",
       "Commissions [$]                  43831.910436\n",
       "Return [%]                         -38.893969\n",
       "Buy & Hold Return [%]               41.849618\n",
       "Return (Ann.) [%]                  -38.893969\n",
       "Volatility (Ann.) [%]               19.562627\n",
       "CAGR [%]                           -38.976601\n",
       "Sharpe Ratio                        -1.988177\n",
       "Sortino Ratio                       -1.808816\n",
       "Calmar Ratio                        -0.790415\n",
       "Alpha [%]                          -57.928986\n",
       "Beta                                 0.454843\n",
       "Max. Drawdown [%]                  -49.206995\n",
       "Avg. Drawdown [%]                  -18.897683\n",
       "Max. Drawdown Duration      290 days 00:00:00\n",
       "Avg. Drawdown Duration      103 days 00:00:00\n",
       "# Trades                                  154\n",
       "Win Rate [%]                        46.103896\n",
       "dtype: object"
      ]
     },
     "execution_count": 18,
     "metadata": {},
     "output_type": "execute_result"
    }
   ],
   "source": [
    "# Test a strategy (BollingerBandsStrategy)\n",
    "bt = Backtest(\n",
    "    transform_for_backtesting(y_test, X_test),\n",
    "    BollingerBandsStrategy,\n",
    "    cash=100000,\n",
    "    commission=0.002,\n",
    "    exclusive_orders=True,\n",
    ")\n",
    "stats = bt.run(period=55)\n",
    "stats[:23]"
   ]
  },
  {
   "cell_type": "code",
   "execution_count": 19,
   "metadata": {},
   "outputs": [
    {
     "name": "stderr",
     "output_type": "stream",
     "text": [
      "c:\\ProgramData\\miniconda3\\envs\\hw_env\\lib\\site-packages\\backtesting\\_plotting.py:700: UserWarning: found multiple competing values for 'toolbar.active_drag' property; using the latest value\n",
      "  fig = gridplot(\n",
      "c:\\ProgramData\\miniconda3\\envs\\hw_env\\lib\\site-packages\\backtesting\\_plotting.py:700: UserWarning: found multiple competing values for 'toolbar.active_scroll' property; using the latest value\n",
      "  fig = gridplot(\n"
     ]
    },
    {
     "data": {
      "text/html": [
       "<div style=\"display: table;\"><div style=\"display: table-row;\"><div style=\"display: table-cell;\"><b title=\"bokeh.models.plots.GridPlot\">GridPlot</b>(</div><div style=\"display: table-cell;\">id&nbsp;=&nbsp;'p2861', <span id=\"p2887\" style=\"cursor: pointer;\">&hellip;)</span></div></div><div class=\"p2886\" style=\"display: none;\"><div style=\"display: table-cell;\"></div><div style=\"display: table-cell;\">align&nbsp;=&nbsp;'auto',</div></div><div class=\"p2886\" style=\"display: none;\"><div style=\"display: table-cell;\"></div><div style=\"display: table-cell;\">aspect_ratio&nbsp;=&nbsp;None,</div></div><div class=\"p2886\" style=\"display: none;\"><div style=\"display: table-cell;\"></div><div style=\"display: table-cell;\">children&nbsp;=&nbsp;[(figure(id='p2514', ...), 0, 0), (figure(id='p2612', ...), 1, 0), (figure(id='p2469', ...), 2, 0), (figure(id='p2668', ...), 3, 0), (figure(id='p2753', ...), 4, 0)],</div></div><div class=\"p2886\" style=\"display: none;\"><div style=\"display: table-cell;\"></div><div style=\"display: table-cell;\">cols&nbsp;=&nbsp;None,</div></div><div class=\"p2886\" style=\"display: none;\"><div style=\"display: table-cell;\"></div><div style=\"display: table-cell;\">context_menu&nbsp;=&nbsp;None,</div></div><div class=\"p2886\" style=\"display: none;\"><div style=\"display: table-cell;\"></div><div style=\"display: table-cell;\">css_classes&nbsp;=&nbsp;[],</div></div><div class=\"p2886\" style=\"display: none;\"><div style=\"display: table-cell;\"></div><div style=\"display: table-cell;\">css_variables&nbsp;=&nbsp;{},</div></div><div class=\"p2886\" style=\"display: none;\"><div style=\"display: table-cell;\"></div><div style=\"display: table-cell;\">disabled&nbsp;=&nbsp;False,</div></div><div class=\"p2886\" style=\"display: none;\"><div style=\"display: table-cell;\"></div><div style=\"display: table-cell;\">elements&nbsp;=&nbsp;[],</div></div><div class=\"p2886\" style=\"display: none;\"><div style=\"display: table-cell;\"></div><div style=\"display: table-cell;\">flow_mode&nbsp;=&nbsp;'block',</div></div><div class=\"p2886\" style=\"display: none;\"><div style=\"display: table-cell;\"></div><div style=\"display: table-cell;\">height&nbsp;=&nbsp;None,</div></div><div class=\"p2886\" style=\"display: none;\"><div style=\"display: table-cell;\"></div><div style=\"display: table-cell;\">height_policy&nbsp;=&nbsp;'auto',</div></div><div class=\"p2886\" style=\"display: none;\"><div style=\"display: table-cell;\"></div><div style=\"display: table-cell;\">js_event_callbacks&nbsp;=&nbsp;{},</div></div><div class=\"p2886\" style=\"display: none;\"><div style=\"display: table-cell;\"></div><div style=\"display: table-cell;\">js_property_callbacks&nbsp;=&nbsp;{},</div></div><div class=\"p2886\" style=\"display: none;\"><div style=\"display: table-cell;\"></div><div style=\"display: table-cell;\">margin&nbsp;=&nbsp;None,</div></div><div class=\"p2886\" style=\"display: none;\"><div style=\"display: table-cell;\"></div><div style=\"display: table-cell;\">max_height&nbsp;=&nbsp;None,</div></div><div class=\"p2886\" style=\"display: none;\"><div style=\"display: table-cell;\"></div><div style=\"display: table-cell;\">max_width&nbsp;=&nbsp;None,</div></div><div class=\"p2886\" style=\"display: none;\"><div style=\"display: table-cell;\"></div><div style=\"display: table-cell;\">min_height&nbsp;=&nbsp;None,</div></div><div class=\"p2886\" style=\"display: none;\"><div style=\"display: table-cell;\"></div><div style=\"display: table-cell;\">min_width&nbsp;=&nbsp;None,</div></div><div class=\"p2886\" style=\"display: none;\"><div style=\"display: table-cell;\"></div><div style=\"display: table-cell;\">name&nbsp;=&nbsp;None,</div></div><div class=\"p2886\" style=\"display: none;\"><div style=\"display: table-cell;\"></div><div style=\"display: table-cell;\">resizable&nbsp;=&nbsp;False,</div></div><div class=\"p2886\" style=\"display: none;\"><div style=\"display: table-cell;\"></div><div style=\"display: table-cell;\">rows&nbsp;=&nbsp;None,</div></div><div class=\"p2886\" style=\"display: none;\"><div style=\"display: table-cell;\"></div><div style=\"display: table-cell;\">sizing_mode&nbsp;=&nbsp;'stretch_width',</div></div><div class=\"p2886\" style=\"display: none;\"><div style=\"display: table-cell;\"></div><div style=\"display: table-cell;\">spacing&nbsp;=&nbsp;0,</div></div><div class=\"p2886\" style=\"display: none;\"><div style=\"display: table-cell;\"></div><div style=\"display: table-cell;\">styles&nbsp;=&nbsp;{},</div></div><div class=\"p2886\" style=\"display: none;\"><div style=\"display: table-cell;\"></div><div style=\"display: table-cell;\">stylesheets&nbsp;=&nbsp;[],</div></div><div class=\"p2886\" style=\"display: none;\"><div style=\"display: table-cell;\"></div><div style=\"display: table-cell;\">subscribed_events&nbsp;=&nbsp;PropertyValueSet(),</div></div><div class=\"p2886\" style=\"display: none;\"><div style=\"display: table-cell;\"></div><div style=\"display: table-cell;\">syncable&nbsp;=&nbsp;True,</div></div><div class=\"p2886\" style=\"display: none;\"><div style=\"display: table-cell;\"></div><div style=\"display: table-cell;\">tags&nbsp;=&nbsp;[],</div></div><div class=\"p2886\" style=\"display: none;\"><div style=\"display: table-cell;\"></div><div style=\"display: table-cell;\">toolbar&nbsp;=&nbsp;Toolbar(id='p2860', ...),</div></div><div class=\"p2886\" style=\"display: none;\"><div style=\"display: table-cell;\"></div><div style=\"display: table-cell;\">toolbar_location&nbsp;=&nbsp;'right',</div></div><div class=\"p2886\" style=\"display: none;\"><div style=\"display: table-cell;\"></div><div style=\"display: table-cell;\">visible&nbsp;=&nbsp;True,</div></div><div class=\"p2886\" style=\"display: none;\"><div style=\"display: table-cell;\"></div><div style=\"display: table-cell;\">width&nbsp;=&nbsp;None,</div></div><div class=\"p2886\" style=\"display: none;\"><div style=\"display: table-cell;\"></div><div style=\"display: table-cell;\">width_policy&nbsp;=&nbsp;'auto')</div></div></div>\n",
       "<script>\n",
       "(function() {\n",
       "  let expanded = false;\n",
       "  const ellipsis = document.getElementById(\"p2887\");\n",
       "  ellipsis.addEventListener(\"click\", function() {\n",
       "    const rows = document.getElementsByClassName(\"p2886\");\n",
       "    for (let i = 0; i < rows.length; i++) {\n",
       "      const el = rows[i];\n",
       "      el.style.display = expanded ? \"none\" : \"table-row\";\n",
       "    }\n",
       "    ellipsis.innerHTML = expanded ? \"&hellip;)\" : \"&lsaquo;&lsaquo;&lsaquo;\";\n",
       "    expanded = !expanded;\n",
       "  });\n",
       "})();\n",
       "</script>\n"
      ],
      "text/plain": [
       "GridPlot(id='p2861', ...)"
      ]
     },
     "execution_count": 19,
     "metadata": {},
     "output_type": "execute_result"
    }
   ],
   "source": [
    "bt.plot(superimpose=False)"
   ]
  },
  {
   "cell_type": "markdown",
   "metadata": {},
   "source": [
    "# 3. Подбор гиперпараметров моделей с использованием обучающей и тестовой выборок"
   ]
  },
  {
   "cell_type": "markdown",
   "metadata": {},
   "source": [
    "Обучающая выборка здесь вновь не релевантна, поскольку \"модель\" в данном контексте имеет заранее определённую логику, а не создаёт внутреннее представление на основе данных из обучающей выборки.\n",
    "Соответственно, gridsearch и прочие optuna не применимы, необходима самописная реализация.\n",
    "Реализация - ~то что было продемонстрировано на 10 лекции, но адаптированное под данные в данном проекте"
   ]
  },
  {
   "cell_type": "code",
   "execution_count": 1,
   "metadata": {},
   "outputs": [
    {
     "name": "stderr",
     "output_type": "stream",
     "text": [
      "c:\\ProgramData\\miniconda3\\envs\\hw_env\\lib\\site-packages\\backtesting\\_plotting.py:55: UserWarning: Jupyter Notebook detected. Setting Bokeh output to notebook. This may not work in Jupyter clients without JavaScript support, such as old IDEs. Reset with `backtesting.set_bokeh_output(notebook=False)`.\n",
      "  warnings.warn('Jupyter Notebook detected. '\n"
     ]
    },
    {
     "data": {
      "text/html": [
       "    <style>\n",
       "        .bk-notebook-logo {\n",
       "            display: block;\n",
       "            width: 20px;\n",
       "            height: 20px;\n",
       "            background-image: url(data:image/png;base64,iVBORw0KGgoAAAANSUhEUgAAABQAAAAUCAYAAACNiR0NAAAABHNCSVQICAgIfAhkiAAAAAlwSFlzAAALEgAACxIB0t1+/AAAABx0RVh0U29mdHdhcmUAQWRvYmUgRmlyZXdvcmtzIENTNui8sowAAAOkSURBVDiNjZRtaJVlGMd/1/08zzln5zjP1LWcU9N0NkN8m2CYjpgQYQXqSs0I84OLIC0hkEKoPtiH3gmKoiJDU7QpLgoLjLIQCpEsNJ1vqUOdO7ppbuec5+V+rj4ctwzd8IIbbi6u+8f1539dt3A78eXC7QizUF7gyV1fD1Yqg4JWz84yffhm0qkFqBogB9rM8tZdtwVsPUhWhGcFJngGeWrPzHm5oaMmkfEg1usvLFyc8jLRqDOMru7AyC8saQr7GG7f5fvDeH7Ej8CM66nIF+8yngt6HWaKh7k49Soy9nXurCi1o3qUbS3zWfrYeQDTB/Qj6kX6Ybhw4B+bOYoLKCC9H3Nu/leUTZ1JdRWkkn2ldcCamzrcf47KKXdAJllSlxAOkRgyHsGC/zRday5Qld9DyoM4/q/rUoy/CXh3jzOu3bHUVZeU+DEn8FInkPBFlu3+nW3Nw0mk6vCDiWg8CeJaxEwuHS3+z5RgY+YBR6V1Z1nxSOfoaPa4LASWxxdNp+VWTk7+4vzaou8v8PN+xo+KY2xsw6une2frhw05CTYOmQvsEhjhWjn0bmXPjpE1+kplmmkP3suftwTubK9Vq22qKmrBhpY4jvd5afdRA3wGjFAgcnTK2s4hY0/GPNIb0nErGMCRxWOOX64Z8RAC4oCXdklmEvcL8o0BfkNK4lUg9HTl+oPlQxdNo3Mg4Nv175e/1LDGzZen30MEjRUtmXSfiTVu1kK8W4txyV6BMKlbgk3lMwYCiusNy9fVfvvwMxv8Ynl6vxoByANLTWplvuj/nF9m2+PDtt1eiHPBr1oIfhCChQMBw6Aw0UulqTKZdfVvfG7VcfIqLG9bcldL/+pdWTLxLUy8Qq38heUIjh4XlzZxzQm19lLFlr8vdQ97rjZVOLf8nclzckbcD4wxXMidpX30sFd37Fv/GtwwhzhxGVAprjbg0gCAEeIgwCZyTV2Z1REEW8O4py0wsjeloKoMr6iCY6dP92H6Vw/oTyICIthibxjm/DfN9lVz8IqtqKYLUXfoKVMVQVVJOElGjrnnUt9T9wbgp8AyYKaGlqingHZU/uG2NTZSVqwHQTWkx9hxjkpWDaCg6Ckj5qebgBVbT3V3NNXMSiWSDdGV3hrtzla7J+duwPOToIg42ChPQOQjspnSlp1V+Gjdged7+8UN5CRAV7a5EdFNwCjEaBR27b3W890TE7g24NAP/mMDXRWrGoFPQI9ls/MWO2dWFAar/xcOIImbbpA3zgAAAABJRU5ErkJggg==);\n",
       "        }\n",
       "    </style>\n",
       "    <div>\n",
       "        <a href=\"https://bokeh.org\" target=\"_blank\" class=\"bk-notebook-logo\"></a>\n",
       "        <span id=\"b7c20737-b17f-418b-8737-b7008a35a920\">Loading BokehJS ...</span>\n",
       "    </div>\n"
      ]
     },
     "metadata": {},
     "output_type": "display_data"
    },
    {
     "data": {
      "application/javascript": "'use strict';\n(function(root) {\n  function now() {\n    return new Date();\n  }\n\n  const force = true;\n\n  if (typeof root._bokeh_onload_callbacks === \"undefined\" || force === true) {\n    root._bokeh_onload_callbacks = [];\n    root._bokeh_is_loading = undefined;\n  }\n\nconst JS_MIME_TYPE = 'application/javascript';\n  const HTML_MIME_TYPE = 'text/html';\n  const EXEC_MIME_TYPE = 'application/vnd.bokehjs_exec.v0+json';\n  const CLASS_NAME = 'output_bokeh rendered_html';\n\n  /**\n   * Render data to the DOM node\n   */\n  function render(props, node) {\n    const script = document.createElement(\"script\");\n    node.appendChild(script);\n  }\n\n  /**\n   * Handle when an output is cleared or removed\n   */\n  function handleClearOutput(event, handle) {\n    function drop(id) {\n      const view = Bokeh.index.get_by_id(id)\n      if (view != null) {\n        view.model.document.clear()\n        Bokeh.index.delete(view)\n      }\n    }\n\n    const cell = handle.cell;\n\n    const id = cell.output_area._bokeh_element_id;\n    const server_id = cell.output_area._bokeh_server_id;\n\n    // Clean up Bokeh references\n    if (id != null) {\n      drop(id)\n    }\n\n    if (server_id !== undefined) {\n      // Clean up Bokeh references\n      const cmd_clean = \"from bokeh.io.state import curstate; print(curstate().uuid_to_server['\" + server_id + \"'].get_sessions()[0].document.roots[0]._id)\";\n      cell.notebook.kernel.execute(cmd_clean, {\n        iopub: {\n          output: function(msg) {\n            const id = msg.content.text.trim()\n            drop(id)\n          }\n        }\n      });\n      // Destroy server and session\n      const cmd_destroy = \"import bokeh.io.notebook as ion; ion.destroy_server('\" + server_id + \"')\";\n      cell.notebook.kernel.execute(cmd_destroy);\n    }\n  }\n\n  /**\n   * Handle when a new output is added\n   */\n  function handleAddOutput(event, handle) {\n    const output_area = handle.output_area;\n    const output = handle.output;\n\n    // limit handleAddOutput to display_data with EXEC_MIME_TYPE content only\n    if ((output.output_type != \"display_data\") || (!Object.prototype.hasOwnProperty.call(output.data, EXEC_MIME_TYPE))) {\n      return\n    }\n\n    const toinsert = output_area.element.find(\".\" + CLASS_NAME.split(' ')[0]);\n\n    if (output.metadata[EXEC_MIME_TYPE][\"id\"] !== undefined) {\n      toinsert[toinsert.length - 1].firstChild.textContent = output.data[JS_MIME_TYPE];\n      // store reference to embed id on output_area\n      output_area._bokeh_element_id = output.metadata[EXEC_MIME_TYPE][\"id\"];\n    }\n    if (output.metadata[EXEC_MIME_TYPE][\"server_id\"] !== undefined) {\n      const bk_div = document.createElement(\"div\");\n      bk_div.innerHTML = output.data[HTML_MIME_TYPE];\n      const script_attrs = bk_div.children[0].attributes;\n      for (let i = 0; i < script_attrs.length; i++) {\n        toinsert[toinsert.length - 1].firstChild.setAttribute(script_attrs[i].name, script_attrs[i].value);\n        toinsert[toinsert.length - 1].firstChild.textContent = bk_div.children[0].textContent\n      }\n      // store reference to server id on output_area\n      output_area._bokeh_server_id = output.metadata[EXEC_MIME_TYPE][\"server_id\"];\n    }\n  }\n\n  function register_renderer(events, OutputArea) {\n\n    function append_mime(data, metadata, element) {\n      // create a DOM node to render to\n      const toinsert = this.create_output_subarea(\n        metadata,\n        CLASS_NAME,\n        EXEC_MIME_TYPE\n      );\n      this.keyboard_manager.register_events(toinsert);\n      // Render to node\n      const props = {data: data, metadata: metadata[EXEC_MIME_TYPE]};\n      render(props, toinsert[toinsert.length - 1]);\n      element.append(toinsert);\n      return toinsert\n    }\n\n    /* Handle when an output is cleared or removed */\n    events.on('clear_output.CodeCell', handleClearOutput);\n    events.on('delete.Cell', handleClearOutput);\n\n    /* Handle when a new output is added */\n    events.on('output_added.OutputArea', handleAddOutput);\n\n    /**\n     * Register the mime type and append_mime function with output_area\n     */\n    OutputArea.prototype.register_mime_type(EXEC_MIME_TYPE, append_mime, {\n      /* Is output safe? */\n      safe: true,\n      /* Index of renderer in `output_area.display_order` */\n      index: 0\n    });\n  }\n\n  // register the mime type if in Jupyter Notebook environment and previously unregistered\n  if (root.Jupyter !== undefined) {\n    const events = require('base/js/events');\n    const OutputArea = require('notebook/js/outputarea').OutputArea;\n\n    if (OutputArea.prototype.mime_types().indexOf(EXEC_MIME_TYPE) == -1) {\n      register_renderer(events, OutputArea);\n    }\n  }\n  if (typeof (root._bokeh_timeout) === \"undefined\" || force === true) {\n    root._bokeh_timeout = Date.now() + 5000;\n    root._bokeh_failed_load = false;\n  }\n\n  const NB_LOAD_WARNING = {'data': {'text/html':\n     \"<div style='background-color: #fdd'>\\n\"+\n     \"<p>\\n\"+\n     \"BokehJS does not appear to have successfully loaded. If loading BokehJS from CDN, this \\n\"+\n     \"may be due to a slow or bad network connection. Possible fixes:\\n\"+\n     \"</p>\\n\"+\n     \"<ul>\\n\"+\n     \"<li>re-rerun `output_notebook()` to attempt to load from CDN again, or</li>\\n\"+\n     \"<li>use INLINE resources instead, as so:</li>\\n\"+\n     \"</ul>\\n\"+\n     \"<code>\\n\"+\n     \"from bokeh.resources import INLINE\\n\"+\n     \"output_notebook(resources=INLINE)\\n\"+\n     \"</code>\\n\"+\n     \"</div>\"}};\n\n  function display_loaded(error = null) {\n    const el = document.getElementById(\"b7c20737-b17f-418b-8737-b7008a35a920\");\n    if (el != null) {\n      const html = (() => {\n        if (typeof root.Bokeh === \"undefined\") {\n          if (error == null) {\n            return \"BokehJS is loading ...\";\n          } else {\n            return \"BokehJS failed to load.\";\n          }\n        } else {\n          const prefix = `BokehJS ${root.Bokeh.version}`;\n          if (error == null) {\n            return `${prefix} successfully loaded.`;\n          } else {\n            return `${prefix} <b>encountered errors</b> while loading and may not function as expected.`;\n          }\n        }\n      })();\n      el.innerHTML = html;\n\n      if (error != null) {\n        const wrapper = document.createElement(\"div\");\n        wrapper.style.overflow = \"auto\";\n        wrapper.style.height = \"5em\";\n        wrapper.style.resize = \"vertical\";\n        const content = document.createElement(\"div\");\n        content.style.fontFamily = \"monospace\";\n        content.style.whiteSpace = \"pre-wrap\";\n        content.style.backgroundColor = \"rgb(255, 221, 221)\";\n        content.textContent = error.stack ?? error.toString();\n        wrapper.append(content);\n        el.append(wrapper);\n      }\n    } else if (Date.now() < root._bokeh_timeout) {\n      setTimeout(() => display_loaded(error), 100);\n    }\n  }\n\n  function run_callbacks() {\n    try {\n      root._bokeh_onload_callbacks.forEach(function(callback) {\n        if (callback != null)\n          callback();\n      });\n    } finally {\n      delete root._bokeh_onload_callbacks\n    }\n    console.debug(\"Bokeh: all callbacks have finished\");\n  }\n\n  function load_libs(css_urls, js_urls, callback) {\n    if (css_urls == null) css_urls = [];\n    if (js_urls == null) js_urls = [];\n\n    root._bokeh_onload_callbacks.push(callback);\n    if (root._bokeh_is_loading > 0) {\n      console.debug(\"Bokeh: BokehJS is being loaded, scheduling callback at\", now());\n      return null;\n    }\n    if (js_urls == null || js_urls.length === 0) {\n      run_callbacks();\n      return null;\n    }\n    console.debug(\"Bokeh: BokehJS not loaded, scheduling load and callback at\", now());\n    root._bokeh_is_loading = css_urls.length + js_urls.length;\n\n    function on_load() {\n      root._bokeh_is_loading--;\n      if (root._bokeh_is_loading === 0) {\n        console.debug(\"Bokeh: all BokehJS libraries/stylesheets loaded\");\n        run_callbacks()\n      }\n    }\n\n    function on_error(url) {\n      console.error(\"failed to load \" + url);\n    }\n\n    for (let i = 0; i < css_urls.length; i++) {\n      const url = css_urls[i];\n      const element = document.createElement(\"link\");\n      element.onload = on_load;\n      element.onerror = on_error.bind(null, url);\n      element.rel = \"stylesheet\";\n      element.type = \"text/css\";\n      element.href = url;\n      console.debug(\"Bokeh: injecting link tag for BokehJS stylesheet: \", url);\n      document.body.appendChild(element);\n    }\n\n    for (let i = 0; i < js_urls.length; i++) {\n      const url = js_urls[i];\n      const element = document.createElement('script');\n      element.onload = on_load;\n      element.onerror = on_error.bind(null, url);\n      element.async = false;\n      element.src = url;\n      console.debug(\"Bokeh: injecting script tag for BokehJS library: \", url);\n      document.head.appendChild(element);\n    }\n  };\n\n  function inject_raw_css(css) {\n    const element = document.createElement(\"style\");\n    element.appendChild(document.createTextNode(css));\n    document.body.appendChild(element);\n  }\n\n  const js_urls = [\"https://cdn.bokeh.org/bokeh/release/bokeh-3.4.3.min.js\", \"https://cdn.bokeh.org/bokeh/release/bokeh-gl-3.4.3.min.js\", \"https://cdn.bokeh.org/bokeh/release/bokeh-widgets-3.4.3.min.js\", \"https://cdn.bokeh.org/bokeh/release/bokeh-tables-3.4.3.min.js\", \"https://cdn.bokeh.org/bokeh/release/bokeh-mathjax-3.4.3.min.js\"];\n  const css_urls = [];\n\n  const inline_js = [    function(Bokeh) {\n      Bokeh.set_log_level(\"info\");\n    },\nfunction(Bokeh) {\n    }\n  ];\n\n  function run_inline_js() {\n    if (root.Bokeh !== undefined || force === true) {\n      try {\n            for (let i = 0; i < inline_js.length; i++) {\n      inline_js[i].call(root, root.Bokeh);\n    }\n\n      } catch (error) {display_loaded(error);throw error;\n      }if (force === true) {\n        display_loaded();\n      }} else if (Date.now() < root._bokeh_timeout) {\n      setTimeout(run_inline_js, 100);\n    } else if (!root._bokeh_failed_load) {\n      console.log(\"Bokeh: BokehJS failed to load within specified timeout.\");\n      root._bokeh_failed_load = true;\n    } else if (force !== true) {\n      const cell = $(document.getElementById(\"b7c20737-b17f-418b-8737-b7008a35a920\")).parents('.cell').data().cell;\n      cell.output_area.append_execute_result(NB_LOAD_WARNING)\n    }\n  }\n\n  if (root._bokeh_is_loading === 0) {\n    console.debug(\"Bokeh: BokehJS loaded, going straight to plotting\");\n    run_inline_js();\n  } else {\n    load_libs(css_urls, js_urls, function() {\n      console.debug(\"Bokeh: BokehJS plotting callback run at\", now());\n      run_inline_js();\n    });\n  }\n}(window));",
      "application/vnd.bokehjs_load.v0+json": ""
     },
     "metadata": {},
     "output_type": "display_data"
    }
   ],
   "source": [
    "# Относительные ссылки, включая импорты, относительно корневой папки проекта\n",
    "import os\n",
    "\n",
    "os.chdir(os.path.dirname(os.getcwd()))\n",
    "\n",
    "import main\n",
    "import logging\n",
    "\n",
    "import itertools\n",
    "import pandas as pd\n",
    "from backtesting import Strategy, Backtest\n",
    "\n",
    "from src.core import utils\n",
    "from src.strategy.sma_cross_strategy import SmaCross\n",
    "from src.strategy.macd_strategy import MACDStrategy\n",
    "from src.strategy.stoch_strategy import STOCHStrategy\n",
    "from src.strategy.tema_strategy import TEMAStrategy\n",
    "from src.strategy.bb_strategy import BollingerBandsStrategy\n",
    "\n",
    "# initialize\n",
    "logger = logging.getLogger()\n",
    "# initialize config dict\n",
    "config = main.main_launch()\n",
    "# SUBSTITUTE FOR TESTING"
   ]
  },
  {
   "cell_type": "code",
   "execution_count": 2,
   "metadata": {},
   "outputs": [],
   "source": [
    "# Params for data download\n",
    "TICKER = \"ETH-USD\"\n",
    "START_DT = \"2010-01-01\"  # get as long as possible\n",
    "END_DT = config.END_DT  # defaults to today\n",
    "INTERVAL = \"1d\"\n",
    "\n",
    "# params for split function\n",
    "train_start = None\n",
    "train_end = \"2023-01-01\"\n",
    "test_end = \"2024-01-01\"\n",
    "valid_end = \"2025-01-01\"  # config.END_DT"
   ]
  },
  {
   "cell_type": "code",
   "execution_count": 3,
   "metadata": {},
   "outputs": [
    {
     "name": "stderr",
     "output_type": "stream",
     "text": [
      "[INFO   ] 2025-03-24@16:07:57: Getting history from local cache DB...\n",
      "[INFO   ] 2025-03-24@16:07:58: Got history of shape (2690, 7), 0 NaNs\n",
      "[INFO   ] 2025-03-24@16:07:58: Splitting ticker data to train/test/validation parts\n"
     ]
    }
   ],
   "source": [
    "# Возьмём данные - с разбивкой на train/test/valid\n",
    "ticker_data = utils.get_history(\n",
    "    tickers=TICKER,\n",
    "    start=START_DT,\n",
    "    end=END_DT,\n",
    "    interval=INTERVAL,\n",
    "    update_cache=False,\n",
    ")\n",
    "X_train, y_train, X_test, y_test, X_val, y_val = utils.train_test_valid_split(\n",
    "    ticker_data, train_start, train_end, test_end, valid_end, drop_leaky=False\n",
    ")"
   ]
  },
  {
   "cell_type": "code",
   "execution_count": 4,
   "metadata": {},
   "outputs": [],
   "source": [
    "# 1. Нам нужна функция, которая будет производить 1 итерацию бэктеста, после ее зациклим\n",
    "def backtest_strategy(strategy_class, y_test:pd.Series, X_test:pd.DataFrame, strategy_params:dict):\n",
    "    \"\"\"\n",
    "    Perform a backtest of strategy_class with params on test dataset\n",
    "    \"\"\"\n",
    "    # Initialize Backtest object\n",
    "    bt = Backtest(\n",
    "        utils.transform_for_backtesting(y_test=y_test, X_test=X_test),\n",
    "        strategy_class,\n",
    "        cash=100000,\n",
    "        commission=0.002,\n",
    "        exclusive_orders=True\n",
    "    )\n",
    "    # Run, using selected Strategy parameters\n",
    "    stats = bt.run(**strategy_params)\n",
    "    return stats"
   ]
  },
  {
   "cell_type": "code",
   "execution_count": 5,
   "metadata": {},
   "outputs": [],
   "source": [
    "# 2. Функция для нахождения лучшего набора параметров для ОДНОГО типа стратегии\n",
    "def get_best_strategy_params(strategy_class, y_test:pd.Series, X_test:pd.DataFrame, strategy_params_options:dict, kpi:str=\"Return [%]\"):\n",
    "    \"\"\"\n",
    "    Iterate over combinations of strategy_params_options for strategy_class\n",
    "    Perform backtesting experiment for each of them, and return best (on \"Return [%]\") params and performance\n",
    "    \"\"\"\n",
    "    # Variables to hold best params\n",
    "    best_params = None\n",
    "    best_performance = -float('inf')\n",
    "\n",
    "    for param_option in itertools.product(*strategy_params_options.values()):\n",
    "        # Generate strategy params from options\n",
    "        strategy_params = dict(zip(strategy_params_options.keys(), param_option))\n",
    "        # logger.info(f\"Testing with params: {strategy_params}\")\n",
    "\n",
    "        # Perform backtest\n",
    "        stats = backtest_strategy(\n",
    "            strategy_class,\n",
    "            y_test=y_test,\n",
    "            X_test=X_test,\n",
    "            strategy_params=strategy_params,\n",
    "        )\n",
    "\n",
    "        # Get key performance indicator among all metrics\n",
    "        performance = stats[kpi]\n",
    "\n",
    "        # Check if it's better than others\n",
    "        if performance > best_performance:\n",
    "            best_performance = performance\n",
    "            best_params = strategy_params\n",
    "\n",
    "    logger.info(f\"Best Performance: {best_performance}\")\n",
    "    logger.info(f\"Best Parameters: {best_params}\")\n",
    "\n",
    "    return best_params, best_performance\n"
   ]
  },
  {
   "cell_type": "code",
   "execution_count": 6,
   "metadata": {},
   "outputs": [],
   "source": [
    "# 3. Функция для нахождения лучшего набора параметров и типа стратегии, включая выбор среди нескольких из них\n",
    "def get_best_strategy(full_strategy_test_list:dict, y_test:pd.Series, X_test:pd.DataFrame):\n",
    "    # A dictionary to return all bests for strategies\n",
    "    full_test_summary = {}\n",
    "\n",
    "    # Variables to hold best params\n",
    "    best_strategy_class = None\n",
    "    best_params = None\n",
    "    best_performance = -float('inf')\n",
    "\n",
    "    for e in full_strategy_test_list:\n",
    "        logger.info(\"= = = = = = = = = = = = = = = = = = = = = = = =\")\n",
    "        logger.info(f\"Searching best params for {e['strategy_type']}...\")\n",
    "        class_params, class_performance = get_best_strategy_params(\n",
    "            e['strategy_class'],\n",
    "            y_test=y_test,\n",
    "            X_test=X_test,\n",
    "            strategy_params_options=e['strategy_params_options'],\n",
    "        )\n",
    "\n",
    "        full_test_summary[e['strategy_type']] = {'strategy_class': e['strategy_class'], 'params': class_params, 'performance': class_performance}\n",
    "\n",
    "        # Check if it's better than others\n",
    "        if class_performance > best_performance:\n",
    "            best_performance = class_performance\n",
    "            best_params = class_params\n",
    "            best_strategy_class = e['strategy_class']\n",
    "\n",
    "    logger.info(\"= = = = = = = = = = = = = = = = = = = = = = = =\")\n",
    "    logger.info(f\"Best Strategy Class: {str(best_strategy_class)}\")\n",
    "    logger.info(f\"Best Performance: {best_performance}\")\n",
    "    logger.info(f\"Best Parameters: {best_params}\")\n",
    "    logger.info(\"= = = = = = = = = = = = = = = = = = = = = = = =\")\n",
    "\n",
    "    return best_strategy_class, best_params, best_performance, full_test_summary"
   ]
  },
  {
   "cell_type": "code",
   "execution_count": 7,
   "metadata": {},
   "outputs": [],
   "source": [
    "# Список моделей и их гиперпараметров\n",
    "full_strategy_test_list = [\n",
    "    {\n",
    "        \"strategy_type\": \"SmaCross\",\n",
    "        \"strategy_class\": SmaCross,\n",
    "        \"strategy_params_options\": {\n",
    "            \"ma_fast_periods\": [2, 3, 5, 7, 10],\n",
    "            \"ma_slow_periods\": [5, 7, 10, 14, 20, 30],\n",
    "        },\n",
    "    },\n",
    "    {\n",
    "        \"strategy_type\": \"MACDStrategy\",\n",
    "        \"strategy_class\": MACDStrategy,\n",
    "        \"strategy_params_options\": {\n",
    "            \"fastperiod\": [3, 5, 7, 14, 20],\n",
    "            \"slowperiod\": [14, 20, 26, 30, 40],\n",
    "            \"signalperiod\": [7, 9, 11, 14],\n",
    "        },\n",
    "    },\n",
    "    {\n",
    "        \"strategy_type\": \"STOCHStrategy\",\n",
    "        \"strategy_class\": STOCHStrategy,\n",
    "        \"strategy_params_options\": {\n",
    "            \"fastk_period\": [7, 10, 14, 20],\n",
    "            \"slowk_period\": [5, 7, 10],\n",
    "            \"slowk_matype\": [0],\n",
    "            \"slowd_period\": [3, 7, 10],\n",
    "            \"slowd_matype\": [0],\n",
    "        },\n",
    "    },\n",
    "    {\n",
    "        \"strategy_type\": \"TEMAStrategy\",\n",
    "        \"strategy_class\": TEMAStrategy,\n",
    "        \"strategy_params_options\": {\n",
    "            \"period\": [14, 21, 28, 40, 55, 70, 90],\n",
    "        },\n",
    "    },\n",
    "    {\n",
    "        \"strategy_type\": \"BollingerBandsStrategy\",\n",
    "        \"strategy_class\": BollingerBandsStrategy,\n",
    "        \"strategy_params_options\": {\n",
    "            \"period\": [14, 21, 28, 40, 55, 70, 90],\n",
    "        },\n",
    "    },\n",
    "]"
   ]
  },
  {
   "cell_type": "code",
   "execution_count": 8,
   "metadata": {},
   "outputs": [
    {
     "name": "stderr",
     "output_type": "stream",
     "text": [
      "[INFO   ] 2025-03-24@16:10:44: = = = = = = = = = = = = = = = = = = = = = = = =\n",
      "[INFO   ] 2025-03-24@16:10:44: Searching best params for SmaCross...\n",
      "[INFO   ] 2025-03-24@16:10:45: Best Performance: 35.37140273535159\n",
      "[INFO   ] 2025-03-24@16:10:45: Best Parameters: {'ma_fast_periods': 3, 'ma_slow_periods': 30}\n",
      "[INFO   ] 2025-03-24@16:10:45: = = = = = = = = = = = = = = = = = = = = = = = =\n",
      "[INFO   ] 2025-03-24@16:10:45: Searching best params for MACDStrategy...\n",
      "[INFO   ] 2025-03-24@16:10:50: Best Performance: 0.0\n",
      "[INFO   ] 2025-03-24@16:10:50: Best Parameters: {'fastperiod': 14, 'slowperiod': 14, 'signalperiod': 7}\n",
      "[INFO   ] 2025-03-24@16:10:50: = = = = = = = = = = = = = = = = = = = = = = = =\n",
      "[INFO   ] 2025-03-24@16:10:50: Searching best params for STOCHStrategy...\n",
      "[INFO   ] 2025-03-24@16:10:52: Best Performance: 69.95620107568364\n",
      "[INFO   ] 2025-03-24@16:10:52: Best Parameters: {'fastk_period': 14, 'slowk_period': 5, 'slowk_matype': 0, 'slowd_period': 3, 'slowd_matype': 0}\n",
      "[INFO   ] 2025-03-24@16:10:52: = = = = = = = = = = = = = = = = = = = = = = = =\n",
      "[INFO   ] 2025-03-24@16:10:52: Searching best params for TEMAStrategy...\n",
      "[INFO   ] 2025-03-24@16:10:52: Best Performance: 79.25398813867184\n",
      "[INFO   ] 2025-03-24@16:10:52: Best Parameters: {'period': 14}\n",
      "[INFO   ] 2025-03-24@16:10:52: = = = = = = = = = = = = = = = = = = = = = = = =\n",
      "[INFO   ] 2025-03-24@16:10:52: Searching best params for BollingerBandsStrategy...\n",
      "[INFO   ] 2025-03-24@16:10:53: Best Performance: -21.74908141357421\n",
      "[INFO   ] 2025-03-24@16:10:53: Best Parameters: {'period': 40}\n",
      "[INFO   ] 2025-03-24@16:10:53: = = = = = = = = = = = = = = = = = = = = = = = =\n",
      "[INFO   ] 2025-03-24@16:10:53: Best Strategy Class: <class 'src.strategy.tema_strategy.TEMAStrategy'>\n",
      "[INFO   ] 2025-03-24@16:10:53: Best Performance: 79.25398813867184\n",
      "[INFO   ] 2025-03-24@16:10:53: Best Parameters: {'period': 14}\n",
      "[INFO   ] 2025-03-24@16:10:53: = = = = = = = = = = = = = = = = = = = = = = = =\n"
     ]
    }
   ],
   "source": [
    "# Проведём тестирование\n",
    "best_strategy_class, best_params, best_performance, full_test_summary = (\n",
    "    get_best_strategy(full_strategy_test_list, y_test=y_test, X_test=X_test)\n",
    ")"
   ]
  },
  {
   "cell_type": "code",
   "execution_count": 9,
   "metadata": {},
   "outputs": [
    {
     "data": {
      "text/plain": [
       "{'SmaCross': {'strategy_class': src.strategy.sma_cross_strategy.SmaCross,\n",
       "  'params': {'ma_fast_periods': 3, 'ma_slow_periods': 30},\n",
       "  'performance': 35.37140273535159},\n",
       " 'MACDStrategy': {'strategy_class': src.strategy.macd_strategy.MACDStrategy,\n",
       "  'params': {'fastperiod': 14, 'slowperiod': 14, 'signalperiod': 7},\n",
       "  'performance': 0.0},\n",
       " 'STOCHStrategy': {'strategy_class': src.strategy.stoch_strategy.STOCHStrategy,\n",
       "  'params': {'fastk_period': 14,\n",
       "   'slowk_period': 5,\n",
       "   'slowk_matype': 0,\n",
       "   'slowd_period': 3,\n",
       "   'slowd_matype': 0},\n",
       "  'performance': 69.95620107568364},\n",
       " 'TEMAStrategy': {'strategy_class': src.strategy.tema_strategy.TEMAStrategy,\n",
       "  'params': {'period': 14},\n",
       "  'performance': 79.25398813867184},\n",
       " 'BollingerBandsStrategy': {'strategy_class': src.strategy.bb_strategy.BollingerBandsStrategy,\n",
       "  'params': {'period': 40},\n",
       "  'performance': -21.74908141357421}}"
      ]
     },
     "execution_count": 9,
     "metadata": {},
     "output_type": "execute_result"
    }
   ],
   "source": [
    "full_test_summary"
   ]
  },
  {
   "cell_type": "code",
   "execution_count": 12,
   "metadata": {},
   "outputs": [
    {
     "data": {
      "text/plain": [
       "Start                     2023-01-01 00:00:00\n",
       "End                       2023-12-31 00:00:00\n",
       "Duration                    364 days 00:00:00\n",
       "Exposure Time [%]                   87.945205\n",
       "Equity Final [$]                179253.988139\n",
       "Equity Peak [$]                 179253.988139\n",
       "Commissions [$]                     1762.7239\n",
       "Return [%]                          79.253988\n",
       "Buy & Hold Return [%]               47.530703\n",
       "Return (Ann.) [%]                   79.253988\n",
       "Volatility (Ann.) [%]               79.805868\n",
       "CAGR [%]                            79.541633\n",
       "Sharpe Ratio                         0.993085\n",
       "Sortino Ratio                        3.064639\n",
       "Calmar Ratio                         2.922893\n",
       "Alpha [%]                           42.329143\n",
       "Beta                                 0.776863\n",
       "Max. Drawdown [%]                  -27.114909\n",
       "Avg. Drawdown [%]                   -4.724186\n",
       "Max. Drawdown Duration      207 days 00:00:00\n",
       "Avg. Drawdown Duration       17 days 00:00:00\n",
       "# Trades                                    3\n",
       "Win Rate [%]                            100.0\n",
       "dtype: object"
      ]
     },
     "execution_count": 12,
     "metadata": {},
     "output_type": "execute_result"
    }
   ],
   "source": [
    "# Replicate best strategy\n",
    "bt = Backtest(\n",
    "    utils.transform_for_backtesting(y_test, X_test),\n",
    "    best_strategy_class,\n",
    "    cash=100000,\n",
    "    commission=0.002,\n",
    "    exclusive_orders=True,\n",
    ")\n",
    "stats = bt.run(**best_params)\n",
    "stats[:23]"
   ]
  },
  {
   "cell_type": "code",
   "execution_count": 13,
   "metadata": {},
   "outputs": [
    {
     "name": "stderr",
     "output_type": "stream",
     "text": [
      "c:\\ProgramData\\miniconda3\\envs\\hw_env\\lib\\site-packages\\backtesting\\_plotting.py:700: UserWarning: found multiple competing values for 'toolbar.active_drag' property; using the latest value\n",
      "  fig = gridplot(\n",
      "c:\\ProgramData\\miniconda3\\envs\\hw_env\\lib\\site-packages\\backtesting\\_plotting.py:700: UserWarning: found multiple competing values for 'toolbar.active_scroll' property; using the latest value\n",
      "  fig = gridplot(\n"
     ]
    },
    {
     "data": {
      "text/html": [
       "\n",
       "  <div id=\"f80fd1ee-8173-44fc-9305-5dec0dc2f75a\" data-root-id=\"p1307\" style=\"display: contents;\"></div>\n"
      ]
     },
     "metadata": {},
     "output_type": "display_data"
    },
    {
     "data": {
      "application/javascript": "(function(root) {\n  function embed_document(root) {\n  const docs_json = {\"2a00779a-cabc-4f05-bf29-381002ea5f25\":{\"version\":\"3.4.3\",\"title\":\"Bokeh Application\",\"roots\":[{\"type\":\"object\",\"name\":\"GridPlot\",\"id\":\"p1307\",\"attributes\":{\"rows\":null,\"cols\":null,\"sizing_mode\":\"stretch_width\",\"toolbar\":{\"type\":\"object\",\"name\":\"Toolbar\",\"id\":\"p1306\",\"attributes\":{\"logo\":null,\"tools\":[{\"type\":\"object\",\"name\":\"ToolProxy\",\"id\":\"p1293\",\"attributes\":{\"tools\":[{\"type\":\"object\",\"name\":\"PanTool\",\"id\":\"p1069\",\"attributes\":{\"dimensions\":\"width\"}},{\"type\":\"object\",\"name\":\"PanTool\",\"id\":\"p1167\",\"attributes\":{\"dimensions\":\"width\"}},{\"type\":\"object\",\"name\":\"PanTool\",\"id\":\"p1024\",\"attributes\":{\"dimensions\":\"width\"}},{\"type\":\"object\",\"name\":\"PanTool\",\"id\":\"p1223\",\"attributes\":{\"dimensions\":\"width\"}}]}},{\"type\":\"object\",\"name\":\"ToolProxy\",\"id\":\"p1294\",\"attributes\":{\"tools\":[{\"type\":\"object\",\"name\":\"WheelZoomTool\",\"id\":\"p1070\",\"attributes\":{\"dimensions\":\"width\",\"renderers\":\"auto\",\"maintain_focus\":false}},{\"type\":\"object\",\"name\":\"WheelZoomTool\",\"id\":\"p1168\",\"attributes\":{\"dimensions\":\"width\",\"renderers\":\"auto\",\"maintain_focus\":false}},{\"type\":\"object\",\"name\":\"WheelZoomTool\",\"id\":\"p1025\",\"attributes\":{\"dimensions\":\"width\",\"renderers\":\"auto\",\"maintain_focus\":false}},{\"type\":\"object\",\"name\":\"WheelZoomTool\",\"id\":\"p1224\",\"attributes\":{\"dimensions\":\"width\",\"renderers\":\"auto\",\"maintain_focus\":false}}]}},{\"type\":\"object\",\"name\":\"ToolProxy\",\"id\":\"p1295\",\"attributes\":{\"tools\":[{\"type\":\"object\",\"name\":\"WheelPanTool\",\"id\":\"p1071\"},{\"type\":\"object\",\"name\":\"WheelPanTool\",\"id\":\"p1169\"},{\"type\":\"object\",\"name\":\"WheelPanTool\",\"id\":\"p1026\"},{\"type\":\"object\",\"name\":\"WheelPanTool\",\"id\":\"p1225\"}]}},{\"type\":\"object\",\"name\":\"ToolProxy\",\"id\":\"p1296\",\"attributes\":{\"tools\":[{\"type\":\"object\",\"name\":\"BoxZoomTool\",\"id\":\"p1072\",\"attributes\":{\"overlay\":{\"type\":\"object\",\"name\":\"BoxAnnotation\",\"id\":\"p1073\",\"attributes\":{\"syncable\":false,\"level\":\"overlay\",\"visible\":false,\"left\":{\"type\":\"number\",\"value\":\"nan\"},\"right\":{\"type\":\"number\",\"value\":\"nan\"},\"top\":{\"type\":\"number\",\"value\":\"nan\"},\"bottom\":{\"type\":\"number\",\"value\":\"nan\"},\"left_units\":\"canvas\",\"right_units\":\"canvas\",\"top_units\":\"canvas\",\"bottom_units\":\"canvas\",\"line_color\":\"black\",\"line_alpha\":1.0,\"line_width\":2,\"line_dash\":[4,4],\"fill_color\":\"lightgrey\",\"fill_alpha\":0.5}}}},{\"type\":\"object\",\"name\":\"BoxZoomTool\",\"id\":\"p1170\",\"attributes\":{\"overlay\":{\"type\":\"object\",\"name\":\"BoxAnnotation\",\"id\":\"p1171\",\"attributes\":{\"syncable\":false,\"level\":\"overlay\",\"visible\":false,\"left\":{\"type\":\"number\",\"value\":\"nan\"},\"right\":{\"type\":\"number\",\"value\":\"nan\"},\"top\":{\"type\":\"number\",\"value\":\"nan\"},\"bottom\":{\"type\":\"number\",\"value\":\"nan\"},\"left_units\":\"canvas\",\"right_units\":\"canvas\",\"top_units\":\"canvas\",\"bottom_units\":\"canvas\",\"line_color\":\"black\",\"line_alpha\":1.0,\"line_width\":2,\"line_dash\":[4,4],\"fill_color\":\"lightgrey\",\"fill_alpha\":0.5}}}},{\"type\":\"object\",\"name\":\"BoxZoomTool\",\"id\":\"p1027\",\"attributes\":{\"overlay\":{\"type\":\"object\",\"name\":\"BoxAnnotation\",\"id\":\"p1028\",\"attributes\":{\"syncable\":false,\"level\":\"overlay\",\"visible\":false,\"left\":{\"type\":\"number\",\"value\":\"nan\"},\"right\":{\"type\":\"number\",\"value\":\"nan\"},\"top\":{\"type\":\"number\",\"value\":\"nan\"},\"bottom\":{\"type\":\"number\",\"value\":\"nan\"},\"left_units\":\"canvas\",\"right_units\":\"canvas\",\"top_units\":\"canvas\",\"bottom_units\":\"canvas\",\"line_color\":\"black\",\"line_alpha\":1.0,\"line_width\":2,\"line_dash\":[4,4],\"fill_color\":\"lightgrey\",\"fill_alpha\":0.5}}}},{\"type\":\"object\",\"name\":\"BoxZoomTool\",\"id\":\"p1226\",\"attributes\":{\"overlay\":{\"type\":\"object\",\"name\":\"BoxAnnotation\",\"id\":\"p1227\",\"attributes\":{\"syncable\":false,\"level\":\"overlay\",\"visible\":false,\"left\":{\"type\":\"number\",\"value\":\"nan\"},\"right\":{\"type\":\"number\",\"value\":\"nan\"},\"top\":{\"type\":\"number\",\"value\":\"nan\"},\"bottom\":{\"type\":\"number\",\"value\":\"nan\"},\"left_units\":\"canvas\",\"right_units\":\"canvas\",\"top_units\":\"canvas\",\"bottom_units\":\"canvas\",\"line_color\":\"black\",\"line_alpha\":1.0,\"line_width\":2,\"line_dash\":[4,4],\"fill_color\":\"lightgrey\",\"fill_alpha\":0.5}}}}]}},{\"type\":\"object\",\"name\":\"ToolProxy\",\"id\":\"p1297\",\"attributes\":{\"tools\":[{\"type\":\"object\",\"name\":\"UndoTool\",\"id\":\"p1078\"},{\"type\":\"object\",\"name\":\"UndoTool\",\"id\":\"p1176\"},{\"type\":\"object\",\"name\":\"UndoTool\",\"id\":\"p1033\"},{\"type\":\"object\",\"name\":\"UndoTool\",\"id\":\"p1232\"}]}},{\"type\":\"object\",\"name\":\"ToolProxy\",\"id\":\"p1298\",\"attributes\":{\"tools\":[{\"type\":\"object\",\"name\":\"RedoTool\",\"id\":\"p1079\"},{\"type\":\"object\",\"name\":\"RedoTool\",\"id\":\"p1177\"},{\"type\":\"object\",\"name\":\"RedoTool\",\"id\":\"p1034\"},{\"type\":\"object\",\"name\":\"RedoTool\",\"id\":\"p1233\"}]}},{\"type\":\"object\",\"name\":\"ToolProxy\",\"id\":\"p1299\",\"attributes\":{\"tools\":[{\"type\":\"object\",\"name\":\"ResetTool\",\"id\":\"p1080\"},{\"type\":\"object\",\"name\":\"ResetTool\",\"id\":\"p1178\"},{\"type\":\"object\",\"name\":\"ResetTool\",\"id\":\"p1035\"},{\"type\":\"object\",\"name\":\"ResetTool\",\"id\":\"p1234\"}]}},{\"type\":\"object\",\"name\":\"SaveTool\",\"id\":\"p1300\"},{\"type\":\"object\",\"name\":\"ToolProxy\",\"id\":\"p1301\",\"attributes\":{\"tools\":[{\"type\":\"object\",\"name\":\"HoverTool\",\"id\":\"p1103\",\"attributes\":{\"renderers\":[{\"type\":\"object\",\"name\":\"GlyphRenderer\",\"id\":\"p1100\",\"attributes\":{\"data_source\":{\"type\":\"object\",\"name\":\"ColumnDataSource\",\"id\":\"p1037\",\"attributes\":{\"selected\":{\"type\":\"object\",\"name\":\"Selection\",\"id\":\"p1038\",\"attributes\":{\"indices\":[],\"line_indices\":[]}},\"selection_policy\":{\"type\":\"object\",\"name\":\"UnionRenderers\",\"id\":\"p1039\"},\"data\":{\"type\":\"map\",\"entries\":[[\"index\",{\"type\":\"ndarray\",\"array\":{\"type\":\"bytes\",\"data\":\"AAAAAAEAAAACAAAAAwAAAAQAAAAFAAAABgAAAAcAAAAIAAAACQAAAAoAAAALAAAADAAAAA0AAAAOAAAADwAAABAAAAARAAAAEgAAABMAAAAUAAAAFQAAABYAAAAXAAAAGAAAABkAAAAaAAAAGwAAABwAAAAdAAAAHgAAAB8AAAAgAAAAIQAAACIAAAAjAAAAJAAAACUAAAAmAAAAJwAAACgAAAApAAAAKgAAACsAAAAsAAAALQAAAC4AAAAvAAAAMAAAADEAAAAyAAAAMwAAADQAAAA1AAAANgAAADcAAAA4AAAAOQAAADoAAAA7AAAAPAAAAD0AAAA+AAAAPwAAAEAAAABBAAAAQgAAAEMAAABEAAAARQAAAEYAAABHAAAASAAAAEkAAABKAAAASwAAAEwAAABNAAAATgAAAE8AAABQAAAAUQAAAFIAAABTAAAAVAAAAFUAAABWAAAAVwAAAFgAAABZAAAAWgAAAFsAAABcAAAAXQAAAF4AAABfAAAAYAAAAGEAAABiAAAAYwAAAGQAAABlAAAAZgAAAGcAAABoAAAAaQAAAGoAAABrAAAAbAAAAG0AAABuAAAAbwAAAHAAAABxAAAAcgAAAHMAAAB0AAAAdQAAAHYAAAB3AAAAeAAAAHkAAAB6AAAAewAAAHwAAAB9AAAAfgAAAH8AAACAAAAAgQAAAIIAAACDAAAAhAAAAIUAAACGAAAAhwAAAIgAAACJAAAAigAAAIsAAACMAAAAjQAAAI4AAACPAAAAkAAAAJEAAACSAAAAkwAAAJQAAACVAAAAlgAAAJcAAACYAAAAmQAAAJoAAACbAAAAnAAAAJ0AAACeAAAAnwAAAKAAAAChAAAAogAAAKMAAACkAAAApQAAAKYAAACnAAAAqAAAAKkAAACqAAAAqwAAAKwAAACtAAAArgAAAK8AAACwAAAAsQAAALIAAACzAAAAtAAAALUAAAC2AAAAtwAAALgAAAC5AAAAugAAALsAAAC8AAAAvQAAAL4AAAC/AAAAwAAAAMEAAADCAAAAwwAAAMQAAADFAAAAxgAAAMcAAADIAAAAyQAAAMoAAADLAAAAzAAAAM0AAADOAAAAzwAAANAAAADRAAAA0gAAANMAAADUAAAA1QAAANYAAADXAAAA2AAAANkAAADaAAAA2wAAANwAAADdAAAA3gAAAN8AAADgAAAA4QAAAOIAAADjAAAA5AAAAOUAAADmAAAA5wAAAOgAAADpAAAA6gAAAOsAAADsAAAA7QAAAO4AAADvAAAA8AAAAPEAAADyAAAA8wAAAPQAAAD1AAAA9gAAAPcAAAD4AAAA+QAAAPoAAAD7AAAA/AAAAP0AAAD+AAAA/wAAAAABAAABAQAAAgEAAAMBAAAEAQAABQEAAAYBAAAHAQAACAEAAAkBAAAKAQAACwEAAAwBAAANAQAADgEAAA8BAAAQAQAAEQEAABIBAAATAQAAFAEAABUBAAAWAQAAFwEAABgBAAAZAQAAGgEAABsBAAAcAQAAHQEAAB4BAAAfAQAAIAEAACEBAAAiAQAAIwEAACQBAAAlAQAAJgEAACcBAAAoAQAAKQEAACoBAAArAQAALAEAAC0BAAAuAQAALwEAADABAAAxAQAAMgEAADMBAAA0AQAANQEAADYBAAA3AQAAOAEAADkBAAA6AQAAOwEAADwBAAA9AQAAPgEAAD8BAABAAQAAQQEAAEIBAABDAQAARAEAAEUBAABGAQAARwEAAEgBAABJAQAASgEAAEsBAABMAQAATQEAAE4BAABPAQAAUAEAAFEBAABSAQAAUwEAAFQBAABVAQAAVgEAAFcBAABYAQAAWQEAAFoBAABbAQAAXAEAAF0BAABeAQAAXwEAAGABAABhAQAAYgEAAGMBAABkAQAAZQEAAGYBAABnAQAAaAEAAGkBAABqAQAAawEAAGwBAAA=\"},\"shape\":[365],\"dtype\":\"int32\",\"order\":\"little\"}],[\"Open\",{\"type\":\"ndarray\",\"array\":{\"type\":\"bytes\",\"data\":\"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\"},\"shape\":[365],\"dtype\":\"float64\",\"order\":\"little\"}],[\"High\",{\"type\":\"ndarray\",\"array\":{\"type\":\"bytes\",\"data\":\"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\"},\"shape\":[365],\"dtype\":\"float64\",\"order\":\"little\"}],[\"Low\",{\"type\":\"ndarray\",\"array\":{\"type\":\"bytes\",\"data\":\"AAAAoIqjkkAAAAAg3KySQAAAAGD33ZJAAAAA4Kz0kkAAAABAsXSTQAAAAEDKY5NAAAAAoBW5k0AAAABA6LCTQAAAACC5GpRAAAAA4BualEAAAAAgVa6UQAAAAECwiZVAAAAAgBjwlUAAAAAg9KuWQAAAAECTw5dAAAAAYEvml0AAAAAAWEWYQAAAAACxlZdAAAAAIIWpl0AAAADgqyOYQAAAAIBAa5lAAAAAwFcwmUAAAADAnB+ZQAAAACCPPZhAAAAAADHrl0AAAACAZMqYQAAAAOD6dJhAAAAAgI91mEAAAACA8IOYQAAAAKCkKphAAAAAoDdvmEAAAADgbXuYQAAAAGBKpZlAAAAAwOSImUAAAADAwcCZQAAAAECRQZlAAAAAwEYtmUAAAADAczuZQAAAAGAPjZlAAAAAoLoEmEAAAACAVoOXQAAAAICWmJdAAAAAINl1l0AAAACAGPiWQAAAACDHZJdAAAAAQMImmEAAAAAAlZiZQAAAAACykJlAAAAAQK5OmkAAAABgoCeaQAAAACAu7ZlAAAAAQJapmUAAAACgNhOZQAAAAMBDgplAAAAAYJe8mEAAAADghn6YQAAAAICS2ZhAAAAAQI09mUAAAABgtgmZQAAAAMAxBplAAAAAYGZamUAAAABgzkGYQAAAAIDyPphAAAAAANFfmEAAAABAdFWYQAAAAKCCHJhAAAAAYFr4l0AAAAAgDz2WQAAAAAAaipVAAAAAgORSlkAAAACgcdaWQAAAAIBMkJhAAAAAAJwHmkAAAACAhUKZQAAAAAAMnZlAAAAAAIcMmkAAAAAgDV2bQAAAAGDai5tAAAAAQGoAm0AAAACAB/SaQAAAAIAP15pAAAAAQBkSm0AAAADgZQmbQAAAAKCb0ppAAAAAQLs0m0AAAAAAEWqaQAAAAEBCmppAAAAAgJmzm0AAAADg/pibQAAAAKCR3JtAAAAAYHlMnEAAAABgfbubQAAAAGATlptAAAAAYNIrnEAAAACAxCedQAAAACBXBJ1AAAAAwPnXnEAAAACAgOOcQAAAAODMkpxAAAAAIKjgnEAAAAAAI3qdQAAAAMAlEJ1AAAAAAHG3nUAAAABgA26fQAAAAIAFOaBAAAAAAKo5oEAAAADAEx6gQAAAAMBOE6BAAAAA4FQinkAAAAAAiPidQAAAAOAnj5xAAAAAoGXXnEAAAABA+LucQAAAACArT5xAAAAAoEo1nEAAAAAA2wGcQAAAAICXHJ1AAAAA4CpRnUAAAABA9n+dQAAAAICyU51AAAAA4MVEnEAAAADgToGcQAAAAMB815xAAAAA4IQynUAAAABgyVOdQAAAACBsOp1AAAAAQE5EnUAAAABgzWmcQAAAAMCgo5xAAAAA4KwOnEAAAADAh7ibQAAAAICdOZtAAAAAAOfxm0AAAABA6gScQAAAAEAl7ptAAAAAAGAXnEAAAAAgsOqbQAAAAMDHuJtAAAAA4LwVnEAAAADgL0CcQAAAAKDJH5xAAAAAYOUEnEAAAADgJmGcQAAAAMCz05tAAAAA4HWNm0AAAADAnxmcQAAAAOD3ZZxAAAAAgN6FnEAAAABgT1ydQAAAACC9b51AAAAAAGHwnEAAAADg6NicQAAAAODb75xAAAAAIPF1nUAAAACAm3adQAAAAKDY0JtAAAAAAJ8lnEAAAABgNnmcQAAAAACpmJxAAAAAoC2SnEAAAADAxeWaQAAAACBxNJtAAAAAIKDrmkAAAADg//6aQAAAAEDAlJlAAAAAoI1gmUAAAAAAr9SZQAAAAICayJpAAAAAIHLYmkAAAAAAQaeaQAAAAMBezZpAAAAAAPXxm0AAAACggS+dQAAAAKDEJJ1AAAAAAD8vnUAAAACAZjudQAAAAEDcwJxAAAAAgFoDnUAAAABAaXicQAAAAMA8kJxAAAAAwB+dnEAAAAAAZdudQAAAAMCgn51AAAAAYME6nkAAAAAAcjKeQAAAAMB/pJ1AAAAAIGffnEAAAAAAGqCcQAAAACCR0pxAAAAAQP4GnUAAAADgG+OcQAAAAODfHJ1AAAAAINcmnUAAAAAA/CGdQAAAAOBxtZ1AAAAA4L8gnkAAAAAgLfWdQAAAAEB7TJ1AAAAAwN9anUAAAADARGydQAAAAADwXp1AAAAAYC91nUAAAAAAX/ycQAAAAIBGDp1AAAAA4GiznEAAAAAg7decQAAAAGC/5ZxAAAAAQEn9nEAAAAAgMgSdQAAAAOBVOZ1AAAAAgOnunEAAAABgqe+cQAAAAOCuZ5xAAAAAoGR5nEAAAAAgZIWcQAAAAMCnZZxAAAAAYDuDnEAAAABg8oOcQAAAAODdMpxAAAAAYLiBnEAAAACA9dWcQAAAAODE1ZxAAAAA4Ea+nEAAAACA4NacQAAAAKA3q5xAAAAAoDOrnEAAAADgTGGcQAAAAODdG5xAAAAAYNo+mEAAAABAubOZQAAAAKBN2JlAAAAAIJv7mUAAAADg1s+ZQAAAAECJ8ZhAAAAAAFN2mUAAAAAggqaZQAAAAKDej5lAAAAAwNmumUAAAACAnLeZQAAAAIDJbZlAAAAAAE6emUAAAADAloSaQAAAAGBni5lAAAAAACMMmUAAAACA52+ZQAAAAGBbaJlAAAAAQBhKmUAAAACgkCiZQAAAAECXLJlAAAAAwOFcmUAAAACgL0eZQAAAAMCkdplAAAAAgCkQmUAAAAAAtfWXQAAAAKD5NZhAAAAAwN64mEAAAAAA8R6ZQAAAAKD+NJlAAAAAwE+CmUAAAAAAHkOZQAAAAGDUJ5lAAAAAIKdxmUAAAADgrimZQAAAACA5lZhAAAAAwGesmEAAAADgUNGYQAAAACAio5hAAAAAIBp0mEAAAACAqbCYQAAAAMB5xZhAAAAAwC31mEAAAABAoMKZQAAAAGBBCppAAAAAIFQYmkAAAACAT7iZQAAAAGD8sZlAAAAA4LR1mUAAAABgZieZQAAAAIB2LZlAAAAAAKJ8mUAAAADAwUiZQAAAACAHRJhAAAAAgCBEmEAAAAAA7DOYQAAAAEDzzJdAAAAAQK8HmEAAAACA9CaYQAAAAOA3OphAAAAAYPVPmEAAAACgnEmYQAAAAADyUphAAAAAIFcemEAAAAAgNmmYQAAAAMDK5ZhAAAAAYPBfmUAAAADAyv2ZQAAAAKDCeptAAAAAoJaIm0AAAABgDZCbQAAAAKDCXZtAAAAAIL+1m0AAAABANpibQAAAAEB1zZtAAAAAQEXim0AAAABgo+mbQAAAAIB1+JtAAAAAwIrOm0AAAABA8oacQAAAAAB74pxAAAAAYOQ/nUAAAADgKfOcQAAAAMAuSp1AAAAAQNFwnUAAAADARCigQAAAACBUzJ9AAAAAwByMn0AAAAAg0b+fQAAAACAfTZ5AAAAAQBnDnkAAAAAATFKeQAAAACDI2Z1AAAAA4D8EnkAAAACAmmOeQAAAAGAtMJ9AAAAAYEREnkAAAADgpjSeQAAAAGDb5Z9AAAAAgP8ZoEAAAACg1SegQAAAAOBm2p9AAAAAQHsQn0AAAABAQjOfQAAAAMAGk59AAAAA4NiZn0AAAABgOvqfQAAAAODQTqBAAAAAIHHPoEAAAADAAyKhQAAAAEBaHqFAAAAAgClioUAAAADgGWKhQAAAAEDXSaJAAAAAAFU3okAAAADAzyaiQAAAAGC34KBAAAAAQIrtoEAAAABAgs2gQAAAAIC7fqFAAAAAwIZMoUAAAAAAGkuhQAAAAACGJ6FAAAAAQEGQoEAAAABgcregQAAAAABw4qBAAAAAoLYRoUAAAADAEHOhQAAAAKDbvKFAAAAAAPiToUAAAAAgJp2hQAAAAGBzCKFAAAAA4EdOoUAAAABgaEWiQAAAAKDzraFAAAAAIAa8oUAAAADgyaqhQA==\"},\"shape\":[365],\"dtype\":\"float64\",\"order\":\"little\"}],[\"Close\",{\"type\":\"ndarray\",\"array\":{\"type\":\"bytes\",\"data\":\"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\"},\"shape\":[365],\"dtype\":\"float64\",\"order\":\"little\"}],[\"Volume\",{\"type\":\"ndarray\",\"array\":{\"type\":\"bytes\",\"data\":\"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\"},\"shape\":[365],\"dtype\":\"float64\",\"order\":\"little\"}],[\"datetime\",{\"type\":\"ndarray\",\"array\":{\"type\":\"bytes\",\"data\":\"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\"},\"shape\":[365],\"dtype\":\"float64\",\"order\":\"little\"}],[\"inc\",{\"type\":\"ndarray\",\"array\":[\"1\",\"1\",\"1\",\"1\",\"0\",\"1\",\"0\",\"1\",\"1\",\"1\",\"1\",\"1\",\"1\",\"1\",\"1\",\"1\",\"0\",\"0\",\"1\",\"1\",\"0\",\"1\",\"0\",\"0\",\"1\",\"0\",\"0\",\"0\",\"1\",\"0\",\"1\",\"1\",\"1\",\"1\",\"1\",\"0\",\"0\",\"1\",\"0\",\"0\",\"0\",\"1\",\"0\",\"0\",\"1\",\"1\",\"0\",\"1\",\"0\",\"0\",\"1\",\"0\",\"0\",\"1\",\"0\",\"0\",\"1\",\"0\",\"0\",\"1\",\"0\",\"0\",\"0\",\"0\",\"1\",\"0\",\"0\",\"0\",\"0\",\"1\",\"1\",\"1\",\"1\",\"0\",\"1\",\"1\",\"0\",\"1\",\"0\",\"1\",\"0\",\"1\",\"0\",\"0\",\"1\",\"0\",\"1\",\"1\",\"0\",\"1\",\"0\",\"0\",\"1\",\"1\",\"1\",\"0\",\"0\",\"0\",\"1\",\"1\",\"0\",\"1\",\"1\",\"1\",\"0\",\"1\",\"0\",\"1\",\"0\",\"1\",\"0\",\"1\",\"0\",\"0\",\"1\",\"1\",\"1\",\"0\",\"1\",\"0\",\"0\",\"1\",\"1\",\"0\",\"1\",\"0\",\"0\",\"0\",\"0\",\"0\",\"0\",\"1\",\"0\",\"1\",\"1\",\"1\",\"0\",\"0\",\"1\",\"1\",\"0\",\"1\",\"1\",\"0\",\"1\",\"1\",\"1\",\"1\",\"0\",\"1\",\"0\",\"0\",\"1\",\"0\",\"0\",\"0\",\"1\",\"0\",\"1\",\"0\",\"0\",\"1\",\"0\",\"0\",\"0\",\"1\",\"1\",\"1\",\"0\",\"1\",\"1\",\"1\",\"0\",\"1\",\"0\",\"1\",\"0\",\"1\",\"0\",\"1\",\"1\",\"0\",\"1\",\"1\",\"0\",\"0\",\"0\",\"1\",\"0\",\"0\",\"1\",\"0\",\"0\",\"1\",\"0\",\"0\",\"0\",\"0\",\"0\",\"0\",\"1\",\"1\",\"0\",\"1\",\"0\",\"1\",\"1\",\"0\",\"1\",\"1\",\"0\",\"0\",\"1\",\"0\",\"0\",\"0\",\"1\",\"0\",\"0\",\"1\",\"0\",\"0\",\"0\",\"1\",\"0\",\"1\",\"0\",\"0\",\"0\",\"0\",\"1\",\"1\",\"0\",\"0\",\"1\",\"0\",\"0\",\"0\",\"1\",\"0\",\"1\",\"0\",\"0\",\"0\",\"1\",\"0\",\"0\",\"1\",\"0\",\"1\",\"0\",\"0\",\"0\",\"0\",\"1\",\"1\",\"1\",\"1\",\"0\",\"0\",\"1\",\"1\",\"0\",\"0\",\"1\",\"1\",\"0\",\"1\",\"1\",\"1\",\"1\",\"1\",\"1\",\"1\",\"0\",\"0\",\"0\",\"0\",\"1\",\"0\",\"0\",\"0\",\"0\",\"0\",\"0\",\"1\",\"1\",\"1\",\"1\",\"0\",\"0\",\"1\",\"1\",\"1\",\"1\",\"1\",\"1\",\"1\",\"1\",\"0\",\"0\",\"1\",\"1\",\"1\",\"1\",\"0\",\"1\",\"1\",\"1\",\"1\",\"0\",\"1\",\"1\",\"0\",\"0\",\"0\",\"1\",\"0\",\"1\",\"0\",\"0\",\"1\",\"1\",\"1\",\"0\",\"1\",\"0\",\"1\",\"1\",\"0\",\"0\",\"1\",\"0\",\"1\",\"1\",\"1\",\"1\",\"1\",\"1\",\"0\",\"1\",\"1\",\"0\",\"1\",\"0\",\"0\",\"1\",\"1\",\"0\",\"1\",\"0\",\"1\",\"0\",\"1\",\"1\",\"1\",\"0\",\"0\",\"1\",\"0\",\"1\",\"0\",\"0\",\"0\",\"0\"],\"shape\":[365],\"dtype\":\"object\",\"order\":\"little\"}],[\"equity\",{\"type\":\"ndarray\",\"array\":{\"type\":\"bytes\",\"data\":\"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\"},\"shape\":[365],\"dtype\":\"float64\",\"order\":\"little\"}],[\"to_numpy_0_0\",{\"type\":\"ndarray\",\"array\":{\"type\":\"bytes\",\"data\":\"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\"},\"shape\":[365],\"dtype\":\"float64\",\"order\":\"little\"}],[\"ohlc_low\",{\"type\":\"ndarray\",\"array\":{\"type\":\"bytes\",\"data\":\"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\"},\"shape\":[365],\"dtype\":\"float64\",\"order\":\"little\"}],[\"ohlc_high\",{\"type\":\"ndarray\",\"array\":{\"type\":\"bytes\",\"data\":\"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\"},\"shape\":[365],\"dtype\":\"float64\",\"order\":\"little\"}]]}}},\"view\":{\"type\":\"object\",\"name\":\"CDSView\",\"id\":\"p1101\",\"attributes\":{\"filter\":{\"type\":\"object\",\"name\":\"AllIndices\",\"id\":\"p1102\"}}},\"glyph\":{\"type\":\"object\",\"name\":\"Line\",\"id\":\"p1097\",\"attributes\":{\"x\":{\"type\":\"field\",\"field\":\"index\"},\"y\":{\"type\":\"field\",\"field\":\"equity\"},\"line_color\":\"#1f77b4\",\"line_width\":1.5}},\"nonselection_glyph\":{\"type\":\"object\",\"name\":\"Line\",\"id\":\"p1098\",\"attributes\":{\"x\":{\"type\":\"field\",\"field\":\"index\"},\"y\":{\"type\":\"field\",\"field\":\"equity\"},\"line_color\":\"#1f77b4\",\"line_alpha\":0.1,\"line_width\":1.5}},\"muted_glyph\":{\"type\":\"object\",\"name\":\"Line\",\"id\":\"p1099\",\"attributes\":{\"x\":{\"type\":\"field\",\"field\":\"index\"},\"y\":{\"type\":\"field\",\"field\":\"equity\"},\"line_color\":\"#1f77b4\",\"line_alpha\":0.2,\"line_width\":1.5}}}}],\"tooltips\":[[\"Date\",\"@datetime{%c}\"],[\"Equity\",\"@equity{+0,0.[000]%}\"]],\"formatters\":{\"type\":\"map\",\"entries\":[[\"@datetime\",\"datetime\"]]},\"mode\":\"vline\",\"point_policy\":\"follow_mouse\"}}]}},{\"type\":\"object\",\"name\":\"ToolProxy\",\"id\":\"p1302\",\"attributes\":{\"tools\":[{\"type\":\"object\",\"name\":\"HoverTool\",\"id\":\"p1200\",\"attributes\":{\"renderers\":[{\"type\":\"object\",\"name\":\"GlyphRenderer\",\"id\":\"p1197\",\"attributes\":{\"data_source\":{\"type\":\"object\",\"name\":\"ColumnDataSource\",\"id\":\"p1040\",\"attributes\":{\"selected\":{\"type\":\"object\",\"name\":\"Selection\",\"id\":\"p1041\",\"attributes\":{\"indices\":[],\"line_indices\":[]}},\"selection_policy\":{\"type\":\"object\",\"name\":\"UnionRenderers\",\"id\":\"p1042\"},\"data\":{\"type\":\"map\",\"entries\":[[\"index\",{\"type\":\"ndarray\",\"array\":{\"type\":\"bytes\",\"data\":\"VQEAAF4BAABpAQAA\"},\"shape\":[3],\"dtype\":\"int32\",\"order\":\"little\"}],[\"datetime\",{\"type\":\"ndarray\",\"array\":{\"type\":\"bytes\",\"data\":\"AABAlWvEeEIAAAApUcd4QgAAQIjbynhC\"},\"shape\":[3],\"dtype\":\"float64\",\"order\":\"little\"}],[\"size\",{\"type\":\"ndarray\",\"array\":{\"type\":\"bytes\",\"data\":\"QQAAAL////9IAAAA\"},\"shape\":[3],\"dtype\":\"int32\",\"order\":\"little\"}],[\"returns_positive\",{\"type\":\"ndarray\",\"array\":[\"1\",\"1\",\"1\"],\"shape\":[3],\"dtype\":\"object\",\"order\":\"little\"}],[\"returns\",{\"type\":\"ndarray\",\"array\":{\"type\":\"bytes\",\"data\":\"Qm0qN1HK4T8w7UmrHkysPyBKYgDCn7E/\"},\"shape\":[3],\"dtype\":\"float64\",\"order\":\"little\"}],[\"marker_size\",{\"type\":\"ndarray\",\"array\":{\"type\":\"bytes\",\"data\":\"AAAAAAAAIEAAAAAAAAAgQAAAAAAAADRA\"},\"shape\":[3],\"dtype\":\"float64\",\"order\":\"little\"}],[\"lines\",[[41,341],[341,350],[350,361]]],[\"position_lines_xs\",[[41,341],[341,350],[350,361]]],[\"position_lines_ys\",[[1514.94189453125,2357.169189453125],[2357.169189453125,2226.892578125],[2226.892578125,2380.20068359375]]]]}}},\"view\":{\"type\":\"object\",\"name\":\"CDSView\",\"id\":\"p1198\",\"attributes\":{\"filter\":{\"type\":\"object\",\"name\":\"AllIndices\",\"id\":\"p1199\"}}},\"glyph\":{\"type\":\"object\",\"name\":\"Scatter\",\"id\":\"p1194\",\"attributes\":{\"x\":{\"type\":\"field\",\"field\":\"index\"},\"y\":{\"type\":\"field\",\"field\":\"returns\"},\"size\":{\"type\":\"field\",\"field\":\"marker_size\"},\"fill_color\":{\"type\":\"field\",\"field\":\"returns_positive\",\"transform\":{\"type\":\"object\",\"name\":\"CategoricalColorMapper\",\"id\":\"p1044\",\"attributes\":{\"palette\":[\"tomato\",\"lime\"],\"factors\":[\"0\",\"1\"]}}}}},\"nonselection_glyph\":{\"type\":\"object\",\"name\":\"Scatter\",\"id\":\"p1195\",\"attributes\":{\"x\":{\"type\":\"field\",\"field\":\"index\"},\"y\":{\"type\":\"field\",\"field\":\"returns\"},\"size\":{\"type\":\"field\",\"field\":\"marker_size\"},\"line_alpha\":{\"type\":\"value\",\"value\":0.1},\"fill_color\":{\"type\":\"field\",\"field\":\"returns_positive\",\"transform\":{\"id\":\"p1044\"}},\"fill_alpha\":{\"type\":\"value\",\"value\":0.1},\"hatch_alpha\":{\"type\":\"value\",\"value\":0.1}}},\"muted_glyph\":{\"type\":\"object\",\"name\":\"Scatter\",\"id\":\"p1196\",\"attributes\":{\"x\":{\"type\":\"field\",\"field\":\"index\"},\"y\":{\"type\":\"field\",\"field\":\"returns\"},\"size\":{\"type\":\"field\",\"field\":\"marker_size\"},\"line_alpha\":{\"type\":\"value\",\"value\":0.2},\"fill_color\":{\"type\":\"field\",\"field\":\"returns_positive\",\"transform\":{\"id\":\"p1044\"}},\"fill_alpha\":{\"type\":\"value\",\"value\":0.2},\"hatch_alpha\":{\"type\":\"value\",\"value\":0.2}}}}}],\"tooltips\":[[\"Date\",\"@datetime{%c}\"],[\"Size\",\"@size{0,0}\"],[\"P/L\",\"@returns{+0.[000]%}\"]],\"formatters\":{\"type\":\"map\",\"entries\":[[\"@datetime\",\"datetime\"]]},\"point_policy\":\"follow_mouse\"}}]}},{\"type\":\"object\",\"name\":\"ToolProxy\",\"id\":\"p1303\",\"attributes\":{\"tools\":[{\"type\":\"object\",\"name\":\"HoverTool\",\"id\":\"p1288\",\"attributes\":{\"renderers\":[{\"type\":\"object\",\"name\":\"GlyphRenderer\",\"id\":\"p1264\",\"attributes\":{\"data_source\":{\"id\":\"p1037\"},\"view\":{\"type\":\"object\",\"name\":\"CDSView\",\"id\":\"p1265\",\"attributes\":{\"filter\":{\"type\":\"object\",\"name\":\"AllIndices\",\"id\":\"p1266\"}}},\"glyph\":{\"type\":\"object\",\"name\":\"VBar\",\"id\":\"p1261\",\"attributes\":{\"x\":{\"type\":\"field\",\"field\":\"index\"},\"width\":{\"type\":\"value\",\"value\":0.8},\"bottom\":{\"type\":\"field\",\"field\":\"Close\"},\"top\":{\"type\":\"field\",\"field\":\"Open\"},\"fill_color\":{\"type\":\"field\",\"field\":\"inc\",\"transform\":{\"type\":\"object\",\"name\":\"CategoricalColorMapper\",\"id\":\"p1043\",\"attributes\":{\"palette\":[\"tomato\",\"lime\"],\"factors\":[\"0\",\"1\"]}}}}},\"nonselection_glyph\":{\"type\":\"object\",\"name\":\"VBar\",\"id\":\"p1262\",\"attributes\":{\"x\":{\"type\":\"field\",\"field\":\"index\"},\"width\":{\"type\":\"value\",\"value\":0.8},\"bottom\":{\"type\":\"field\",\"field\":\"Close\"},\"top\":{\"type\":\"field\",\"field\":\"Open\"},\"line_alpha\":{\"type\":\"value\",\"value\":0.1},\"fill_color\":{\"type\":\"field\",\"field\":\"inc\",\"transform\":{\"id\":\"p1043\"}},\"fill_alpha\":{\"type\":\"value\",\"value\":0.1},\"hatch_alpha\":{\"type\":\"value\",\"value\":0.1}}},\"muted_glyph\":{\"type\":\"object\",\"name\":\"VBar\",\"id\":\"p1263\",\"attributes\":{\"x\":{\"type\":\"field\",\"field\":\"index\"},\"width\":{\"type\":\"value\",\"value\":0.8},\"bottom\":{\"type\":\"field\",\"field\":\"Close\"},\"top\":{\"type\":\"field\",\"field\":\"Open\"},\"line_alpha\":{\"type\":\"value\",\"value\":0.2},\"fill_color\":{\"type\":\"field\",\"field\":\"inc\",\"transform\":{\"id\":\"p1043\"}},\"fill_alpha\":{\"type\":\"value\",\"value\":0.2},\"hatch_alpha\":{\"type\":\"value\",\"value\":0.2}}}}}],\"tooltips\":[[\"Date\",\"@datetime{%c}\"],[\"x, y\",\"$index\\u00a0\\u00a0\\u00a0\\u00a0$y{0,0.0[0000]}\"],[\"OHLC\",\"@Open{0,0.0[0000]}\\u00a0\\u00a0\\u00a0\\u00a0@High{0,0.0[0000]}\\u00a0\\u00a0\\u00a0\\u00a0@Low{0,0.0[0000]}\\u00a0\\u00a0\\u00a0\\u00a0@Close{0,0.0[0000]}\"],[\"Volume\",\"@Volume{0,0}\"],[\"to_numpy\",\"@{to_numpy_0_0}{0,0.0[0000]}\"]],\"formatters\":{\"type\":\"map\",\"entries\":[[\"@datetime\",\"datetime\"]]},\"mode\":\"vline\",\"point_policy\":\"follow_mouse\"}}]}},{\"type\":\"object\",\"name\":\"ToolProxy\",\"id\":\"p1304\",\"attributes\":{\"tools\":[{\"type\":\"object\",\"name\":\"HoverTool\",\"id\":\"p1245\",\"attributes\":{\"renderers\":[{\"type\":\"object\",\"name\":\"GlyphRenderer\",\"id\":\"p1242\",\"attributes\":{\"data_source\":{\"id\":\"p1037\"},\"view\":{\"type\":\"object\",\"name\":\"CDSView\",\"id\":\"p1243\",\"attributes\":{\"filter\":{\"type\":\"object\",\"name\":\"AllIndices\",\"id\":\"p1244\"}}},\"glyph\":{\"type\":\"object\",\"name\":\"VBar\",\"id\":\"p1239\",\"attributes\":{\"x\":{\"type\":\"field\",\"field\":\"index\"},\"width\":{\"type\":\"value\",\"value\":0.8},\"top\":{\"type\":\"field\",\"field\":\"Volume\"},\"line_color\":{\"type\":\"field\",\"field\":\"inc\",\"transform\":{\"id\":\"p1043\"}},\"fill_color\":{\"type\":\"field\",\"field\":\"inc\",\"transform\":{\"id\":\"p1043\"}},\"hatch_color\":{\"type\":\"field\",\"field\":\"inc\",\"transform\":{\"id\":\"p1043\"}}}},\"nonselection_glyph\":{\"type\":\"object\",\"name\":\"VBar\",\"id\":\"p1240\",\"attributes\":{\"x\":{\"type\":\"field\",\"field\":\"index\"},\"width\":{\"type\":\"value\",\"value\":0.8},\"top\":{\"type\":\"field\",\"field\":\"Volume\"},\"line_color\":{\"type\":\"field\",\"field\":\"inc\",\"transform\":{\"id\":\"p1043\"}},\"line_alpha\":{\"type\":\"value\",\"value\":0.1},\"fill_color\":{\"type\":\"field\",\"field\":\"inc\",\"transform\":{\"id\":\"p1043\"}},\"fill_alpha\":{\"type\":\"value\",\"value\":0.1},\"hatch_color\":{\"type\":\"field\",\"field\":\"inc\",\"transform\":{\"id\":\"p1043\"}},\"hatch_alpha\":{\"type\":\"value\",\"value\":0.1}}},\"muted_glyph\":{\"type\":\"object\",\"name\":\"VBar\",\"id\":\"p1241\",\"attributes\":{\"x\":{\"type\":\"field\",\"field\":\"index\"},\"width\":{\"type\":\"value\",\"value\":0.8},\"top\":{\"type\":\"field\",\"field\":\"Volume\"},\"line_color\":{\"type\":\"field\",\"field\":\"inc\",\"transform\":{\"id\":\"p1043\"}},\"line_alpha\":{\"type\":\"value\",\"value\":0.2},\"fill_color\":{\"type\":\"field\",\"field\":\"inc\",\"transform\":{\"id\":\"p1043\"}},\"fill_alpha\":{\"type\":\"value\",\"value\":0.2},\"hatch_color\":{\"type\":\"field\",\"field\":\"inc\",\"transform\":{\"id\":\"p1043\"}},\"hatch_alpha\":{\"type\":\"value\",\"value\":0.2}}}}}],\"tooltips\":[[\"Date\",\"@datetime{%c}\"],[\"Volume\",\"@Volume{0.00 a}\"]],\"formatters\":{\"type\":\"map\",\"entries\":[[\"@datetime\",\"datetime\"]]},\"mode\":\"vline\",\"point_policy\":\"follow_mouse\"}}]}},{\"type\":\"object\",\"name\":\"ToolProxy\",\"id\":\"p1305\",\"attributes\":{\"tools\":[{\"type\":\"object\",\"name\":\"CrosshairTool\",\"id\":\"p1292\",\"attributes\":{\"overlay\":[{\"type\":\"object\",\"name\":\"Span\",\"id\":\"p1290\",\"attributes\":{\"line_dash\":[2,4]}},{\"type\":\"object\",\"name\":\"Span\",\"id\":\"p1291\",\"attributes\":{\"dimension\":\"height\",\"line_dash\":[2,4]}}],\"line_color\":\"lightgrey\"}},{\"id\":\"p1292\"},{\"id\":\"p1292\"},{\"id\":\"p1292\"}]}}],\"active_drag\":{\"id\":\"p1223\"},\"active_scroll\":{\"id\":\"p1224\"}}},\"toolbar_location\":\"right\",\"children\":[[{\"type\":\"object\",\"name\":\"Figure\",\"id\":\"p1048\",\"attributes\":{\"width\":null,\"height\":100,\"sizing_mode\":\"stretch_width\",\"x_range\":{\"type\":\"object\",\"name\":\"Range1d\",\"id\":\"p1002\",\"attributes\":{\"js_property_callbacks\":{\"type\":\"map\",\"entries\":[[\"change:end\",[{\"type\":\"object\",\"name\":\"CustomJS\",\"id\":\"p1289\",\"attributes\":{\"args\":{\"type\":\"map\",\"entries\":[[\"ohlc_range\",{\"type\":\"object\",\"name\":\"DataRange1d\",\"id\":\"p1005\"}],[\"source\",{\"id\":\"p1037\"}],[\"volume_range\",{\"type\":\"object\",\"name\":\"DataRange1d\",\"id\":\"p1204\"}]]},\"code\":\"if (!window._bt_scale_range) {\\n    window._bt_scale_range = function (range, min, max, pad) {\\n        \\\"use strict\\\";\\n        if (min !== Infinity && max !== -Infinity) {\\n            pad = pad ? (max - min) * .03 : 0;\\n            range.start = min - pad;\\n            range.end = max + pad;\\n        } else console.error('backtesting: scale range error:', min, max, range);\\n    };\\n}\\n\\nclearTimeout(window._bt_autoscale_timeout);\\n\\nwindow._bt_autoscale_timeout = setTimeout(function () {\\n    /**\\n     * @variable cb_obj `fig_ohlc.x_range`.\\n     * @variable source `ColumnDataSource`\\n     * @variable ohlc_range `fig_ohlc.y_range`.\\n     * @variable volume_range `fig_volume.y_range`.\\n     */\\n    \\\"use strict\\\";\\n\\n    let i = Math.max(Math.floor(cb_obj.start), 0),\\n        j = Math.min(Math.ceil(cb_obj.end), source.data['ohlc_high'].length);\\n\\n    let max = Math.max.apply(null, source.data['ohlc_high'].slice(i, j)),\\n        min = Math.min.apply(null, source.data['ohlc_low'].slice(i, j));\\n    _bt_scale_range(ohlc_range, min, max, true);\\n\\n    if (volume_range) {\\n        max = Math.max.apply(null, source.data['Volume'].slice(i, j));\\n        _bt_scale_range(volume_range, 0, max * 1.03, false);\\n    }\\n\\n}, 50);\\n\"}}]]]},\"end\":364,\"bounds\":[-18.2,382.2],\"min_interval\":10}},\"y_range\":{\"type\":\"object\",\"name\":\"DataRange1d\",\"id\":\"p1050\"},\"x_scale\":{\"type\":\"object\",\"name\":\"LinearScale\",\"id\":\"p1057\"},\"y_scale\":{\"type\":\"object\",\"name\":\"LinearScale\",\"id\":\"p1058\"},\"title\":{\"type\":\"object\",\"name\":\"Title\",\"id\":\"p1055\"},\"outline_line_color\":\"#666666\",\"renderers\":[{\"type\":\"object\",\"name\":\"GlyphRenderer\",\"id\":\"p1091\",\"attributes\":{\"data_source\":{\"type\":\"object\",\"name\":\"ColumnDataSource\",\"id\":\"p1082\",\"attributes\":{\"selected\":{\"type\":\"object\",\"name\":\"Selection\",\"id\":\"p1083\",\"attributes\":{\"indices\":[],\"line_indices\":[]}},\"selection_policy\":{\"type\":\"object\",\"name\":\"UnionRenderers\",\"id\":\"p1084\"},\"data\":{\"type\":\"map\",\"entries\":[[\"index\",{\"type\":\"ndarray\",\"array\":{\"type\":\"bytes\",\"data\":\"AAAAAAEAAAACAAAAAwAAAAQAAAAFAAAABgAAAAcAAAAIAAAACQAAAAoAAAALAAAADAAAAA0AAAAOAAAADwAAABAAAAARAAAAEgAAABMAAAAUAAAAFQAAABYAAAAXAAAAGAAAABkAAAAaAAAAGwAAABwAAAAdAAAAHgAAAB8AAAAgAAAAIQAAACIAAAAjAAAAJAAAACUAAAAmAAAAJwAAACgAAAApAAAAKgAAACsAAAAsAAAALQAAAC4AAAAvAAAAMAAAADEAAAAyAAAAMwAAADQAAAA1AAAANgAAADcAAAA4AAAAOQAAADoAAAA7AAAAPAAAAD0AAAA+AAAAPwAAAEAAAABBAAAAQgAAAEMAAABEAAAARQAAAEYAAABHAAAASAAAAEkAAABKAAAASwAAAEwAAABNAAAATgAAAE8AAABQAAAAUQAAAFIAAABTAAAAVAAAAFUAAABWAAAAVwAAAFgAAABZAAAAWgAAAFsAAABcAAAAXQAAAF4AAABfAAAAYAAAAGEAAABiAAAAYwAAAGQAAABlAAAAZgAAAGcAAABoAAAAaQAAAGoAAABrAAAAbAAAAG0AAABuAAAAbwAAAHAAAABxAAAAcgAAAHMAAAB0AAAAdQAAAHYAAAB3AAAAeAAAAHkAAAB6AAAAewAAAHwAAAB9AAAAfgAAAH8AAACAAAAAgQAAAIIAAACDAAAAhAAAAIUAAACGAAAAhwAAAIgAAACJAAAAigAAAIsAAACMAAAAjQAAAI4AAACPAAAAkAAAAJEAAACSAAAAkwAAAJQAAACVAAAAlgAAAJcAAACYAAAAmQAAAJoAAACbAAAAnAAAAJ0AAACeAAAAnwAAAKAAAAChAAAAogAAAKMAAACkAAAApQAAAKYAAACnAAAAqAAAAKkAAACqAAAAqwAAAKwAAACtAAAArgAAAK8AAACwAAAAsQAAALIAAACzAAAAtAAAALUAAAC2AAAAtwAAALgAAAC5AAAAugAAALsAAAC8AAAAvQAAAL4AAAC/AAAAwAAAAMEAAADCAAAAwwAAAMQAAADFAAAAxgAAAMcAAADIAAAAyQAAAMoAAADLAAAAzAAAAM0AAADOAAAAzwAAANAAAADRAAAA0gAAANMAAADUAAAA1QAAANYAAADXAAAA2AAAANkAAADaAAAA2wAAANwAAADdAAAA3gAAAN8AAADgAAAA4QAAAOIAAADjAAAA5AAAAOUAAADmAAAA5wAAAOgAAADpAAAA6gAAAOsAAADsAAAA7QAAAO4AAADvAAAA8AAAAPEAAADyAAAA8wAAAPQAAAD1AAAA9gAAAPcAAAD4AAAA+QAAAPoAAAD7AAAA/AAAAP0AAAD+AAAA/wAAAAABAAABAQAAAgEAAAMBAAAEAQAABQEAAAYBAAAHAQAACAEAAAkBAAAKAQAACwEAAAwBAAANAQAADgEAAA8BAAAQAQAAEQEAABIBAAATAQAAFAEAABUBAAAWAQAAFwEAABgBAAAZAQAAGgEAABsBAAAcAQAAHQEAAB4BAAAfAQAAIAEAACEBAAAiAQAAIwEAACQBAAAlAQAAJgEAACcBAAAoAQAAKQEAACoBAAArAQAALAEAAC0BAAAuAQAALwEAADABAAAxAQAAMgEAADMBAAA0AQAANQEAADYBAAA3AQAAOAEAADkBAAA6AQAAOwEAADwBAAA9AQAAPgEAAD8BAABAAQAAQQEAAEIBAABDAQAARAEAAEUBAABGAQAARwEAAEgBAABJAQAASgEAAEsBAABMAQAATQEAAE4BAABPAQAAUAEAAFEBAABSAQAAUwEAAFQBAABVAQAAVgEAAFcBAABYAQAAWQEAAFoBAABbAQAAXAEAAF0BAABeAQAAXwEAAGABAABhAQAAYgEAAGMBAABkAQAAZQEAAGYBAABnAQAAaAEAAGkBAABqAQAAawEAAGwBAABsAQAAawEAAGoBAABpAQAAaAEAAGcBAABmAQAAZQEAAGQBAABjAQAAYgEAAGEBAABgAQAAXwEAAF4BAABdAQAAXAEAAFsBAABaAQAAWQEAAFgBAABXAQAAVgEAAFUBAABUAQAAUwEAAFIBAABRAQAAUAEAAE8BAABOAQAATQEAAEwBAABLAQAASgEAAEkBAABIAQAARwEAAEYBAABFAQAARAEAAEMBAABCAQAAQQEAAEABAAA/AQAAPgEAAD0BAAA8AQAAOwEAADoBAAA5AQAAOAEAADcBAAA2AQAANQEAADQBAAAzAQAAMgEAADEBAAAwAQAALwEAAC4BAAAtAQAALAEAACsBAAAqAQAAKQEAACgBAAAnAQAAJgEAACUBAAAkAQAAIwEAACIBAAAhAQAAIAEAAB8BAAAeAQAAHQEAABwBAAAbAQAAGgEAABkBAAAYAQAAFwEAABYBAAAVAQAAFAEAABMBAAASAQAAEQEAABABAAAPAQAADgEAAA0BAAAMAQAACwEAAAoBAAAJAQAACAEAAAcBAAAGAQAABQEAAAQBAAADAQAAAgEAAAEBAAAAAQAA/wAAAP4AAAD9AAAA/AAAAPsAAAD6AAAA+QAAAPgAAAD3AAAA9gAAAPUAAAD0AAAA8wAAAPIAAADxAAAA8AAAAO8AAADuAAAA7QAAAOwAAADrAAAA6gAAAOkAAADoAAAA5wAAAOYAAADlAAAA5AAAAOMAAADiAAAA4QAAAOAAAADfAAAA3gAAAN0AAADcAAAA2wAAANoAAADZAAAA2AAAANcAAADWAAAA1QAAANQAAADTAAAA0gAAANEAAADQAAAAzwAAAM4AAADNAAAAzAAAAMsAAADKAAAAyQAAAMgAAADHAAAAxgAAAMUAAADEAAAAwwAAAMIAAADBAAAAwAAAAL8AAAC+AAAAvQAAALwAAAC7AAAAugAAALkAAAC4AAAAtwAAALYAAAC1AAAAtAAAALMAAACyAAAAsQAAALAAAACvAAAArgAAAK0AAACsAAAAqwAAAKoAAACpAAAAqAAAAKcAAACmAAAApQAAAKQAAACjAAAAogAAAKEAAACgAAAAnwAAAJ4AAACdAAAAnAAAAJsAAACaAAAAmQAAAJgAAACXAAAAlgAAAJUAAACUAAAAkwAAAJIAAACRAAAAkAAAAI8AAACOAAAAjQAAAIwAAACLAAAAigAAAIkAAACIAAAAhwAAAIYAAACFAAAAhAAAAIMAAACCAAAAgQAAAIAAAAB/AAAAfgAAAH0AAAB8AAAAewAAAHoAAAB5AAAAeAAAAHcAAAB2AAAAdQAAAHQAAABzAAAAcgAAAHEAAABwAAAAbwAAAG4AAABtAAAAbAAAAGsAAABqAAAAaQAAAGgAAABnAAAAZgAAAGUAAABkAAAAYwAAAGIAAABhAAAAYAAAAF8AAABeAAAAXQAAAFwAAABbAAAAWgAAAFkAAABYAAAAVwAAAFYAAABVAAAAVAAAAFMAAABSAAAAUQAAAFAAAABPAAAATgAAAE0AAABMAAAASwAAAEoAAABJAAAASAAAAEcAAABGAAAARQAAAEQAAABDAAAAQgAAAEEAAABAAAAAPwAAAD4AAAA9AAAAPAAAADsAAAA6AAAAOQAAADgAAAA3AAAANgAAADUAAAA0AAAAMwAAADIAAAAxAAAAMAAAAC8AAAAuAAAALQAAACwAAAArAAAAKgAAACkAAAAoAAAAJwAAACYAAAAlAAAAJAAAACMAAAAiAAAAIQAAACAAAAAfAAAAHgAAAB0AAAAcAAAAGwAAABoAAAAZAAAAGAAAABcAAAAWAAAAFQAAABQAAAATAAAAEgAAABEAAAAQAAAADwAAAA4AAAANAAAADAAAAAsAAAAKAAAACQAAAAgAAAAHAAAABgAAAAUAAAAEAAAAAwAAAAIAAAABAAAAAAAAAA==\"},\"shape\":[730],\"dtype\":\"int32\",\"order\":\"little\"}],[\"equity_dd\",{\"type\":\"ndarray\",\"array\":{\"type\":\"bytes\",\"data\":\"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\"},\"shape\":[730],\"dtype\":\"float64\",\"order\":\"little\"}]]}}},\"view\":{\"type\":\"object\",\"name\":\"CDSView\",\"id\":\"p1092\",\"attributes\":{\"filter\":{\"type\":\"object\",\"name\":\"AllIndices\",\"id\":\"p1093\"}}},\"glyph\":{\"type\":\"object\",\"name\":\"Patch\",\"id\":\"p1088\",\"attributes\":{\"x\":{\"type\":\"field\",\"field\":\"index\"},\"y\":{\"type\":\"field\",\"field\":\"equity_dd\"},\"line_color\":\"#ffcb66\",\"fill_color\":\"#ffffea\"}},\"nonselection_glyph\":{\"type\":\"object\",\"name\":\"Patch\",\"id\":\"p1089\",\"attributes\":{\"x\":{\"type\":\"field\",\"field\":\"index\"},\"y\":{\"type\":\"field\",\"field\":\"equity_dd\"},\"line_color\":\"#ffcb66\",\"line_alpha\":0.1,\"fill_color\":\"#ffffea\",\"fill_alpha\":0.1,\"hatch_alpha\":0.1}},\"muted_glyph\":{\"type\":\"object\",\"name\":\"Patch\",\"id\":\"p1090\",\"attributes\":{\"x\":{\"type\":\"field\",\"field\":\"index\"},\"y\":{\"type\":\"field\",\"field\":\"equity_dd\"},\"line_color\":\"#ffcb66\",\"line_alpha\":0.2,\"fill_color\":\"#ffffea\",\"fill_alpha\":0.2,\"hatch_alpha\":0.2}}}},{\"id\":\"p1100\"},{\"type\":\"object\",\"name\":\"GlyphRenderer\",\"id\":\"p1111\",\"attributes\":{\"data_source\":{\"type\":\"object\",\"name\":\"ColumnDataSource\",\"id\":\"p1105\",\"attributes\":{\"selected\":{\"type\":\"object\",\"name\":\"Selection\",\"id\":\"p1106\",\"attributes\":{\"indices\":[],\"line_indices\":[]}},\"selection_policy\":{\"type\":\"object\",\"name\":\"UnionRenderers\",\"id\":\"p1107\"},\"data\":{\"type\":\"map\"}}},\"view\":{\"type\":\"object\",\"name\":\"CDSView\",\"id\":\"p1112\",\"attributes\":{\"filter\":{\"type\":\"object\",\"name\":\"AllIndices\",\"id\":\"p1113\"}}},\"glyph\":{\"type\":\"object\",\"name\":\"Scatter\",\"id\":\"p1108\",\"attributes\":{\"x\":{\"type\":\"value\",\"value\":364},\"y\":{\"type\":\"value\",\"value\":1.7925398813867184},\"size\":{\"type\":\"value\",\"value\":8},\"line_color\":{\"type\":\"value\",\"value\":\"cyan\"},\"fill_color\":{\"type\":\"value\",\"value\":\"cyan\"},\"hatch_color\":{\"type\":\"value\",\"value\":\"cyan\"}}},\"nonselection_glyph\":{\"type\":\"object\",\"name\":\"Scatter\",\"id\":\"p1109\",\"attributes\":{\"x\":{\"type\":\"value\",\"value\":364},\"y\":{\"type\":\"value\",\"value\":1.7925398813867184},\"size\":{\"type\":\"value\",\"value\":8},\"line_color\":{\"type\":\"value\",\"value\":\"cyan\"},\"line_alpha\":{\"type\":\"value\",\"value\":0.1},\"fill_color\":{\"type\":\"value\",\"value\":\"cyan\"},\"fill_alpha\":{\"type\":\"value\",\"value\":0.1},\"hatch_color\":{\"type\":\"value\",\"value\":\"cyan\"},\"hatch_alpha\":{\"type\":\"value\",\"value\":0.1}}},\"muted_glyph\":{\"type\":\"object\",\"name\":\"Scatter\",\"id\":\"p1110\",\"attributes\":{\"x\":{\"type\":\"value\",\"value\":364},\"y\":{\"type\":\"value\",\"value\":1.7925398813867184},\"size\":{\"type\":\"value\",\"value\":8},\"line_color\":{\"type\":\"value\",\"value\":\"cyan\"},\"line_alpha\":{\"type\":\"value\",\"value\":0.2},\"fill_color\":{\"type\":\"value\",\"value\":\"cyan\"},\"fill_alpha\":{\"type\":\"value\",\"value\":0.2},\"hatch_color\":{\"type\":\"value\",\"value\":\"cyan\"},\"hatch_alpha\":{\"type\":\"value\",\"value\":0.2}}}}},{\"type\":\"object\",\"name\":\"GlyphRenderer\",\"id\":\"p1122\",\"attributes\":{\"data_source\":{\"type\":\"object\",\"name\":\"ColumnDataSource\",\"id\":\"p1116\",\"attributes\":{\"selected\":{\"type\":\"object\",\"name\":\"Selection\",\"id\":\"p1117\",\"attributes\":{\"indices\":[],\"line_indices\":[]}},\"selection_policy\":{\"type\":\"object\",\"name\":\"UnionRenderers\",\"id\":\"p1118\"},\"data\":{\"type\":\"map\"}}},\"view\":{\"type\":\"object\",\"name\":\"CDSView\",\"id\":\"p1123\",\"attributes\":{\"filter\":{\"type\":\"object\",\"name\":\"AllIndices\",\"id\":\"p1124\"}}},\"glyph\":{\"type\":\"object\",\"name\":\"Scatter\",\"id\":\"p1119\",\"attributes\":{\"x\":{\"type\":\"value\",\"value\":364},\"y\":{\"type\":\"value\",\"value\":1.7925398813867184},\"size\":{\"type\":\"value\",\"value\":8},\"line_color\":{\"type\":\"value\",\"value\":\"blue\"},\"fill_color\":{\"type\":\"value\",\"value\":\"blue\"},\"hatch_color\":{\"type\":\"value\",\"value\":\"blue\"}}},\"nonselection_glyph\":{\"type\":\"object\",\"name\":\"Scatter\",\"id\":\"p1120\",\"attributes\":{\"x\":{\"type\":\"value\",\"value\":364},\"y\":{\"type\":\"value\",\"value\":1.7925398813867184},\"size\":{\"type\":\"value\",\"value\":8},\"line_color\":{\"type\":\"value\",\"value\":\"blue\"},\"line_alpha\":{\"type\":\"value\",\"value\":0.1},\"fill_color\":{\"type\":\"value\",\"value\":\"blue\"},\"fill_alpha\":{\"type\":\"value\",\"value\":0.1},\"hatch_color\":{\"type\":\"value\",\"value\":\"blue\"},\"hatch_alpha\":{\"type\":\"value\",\"value\":0.1}}},\"muted_glyph\":{\"type\":\"object\",\"name\":\"Scatter\",\"id\":\"p1121\",\"attributes\":{\"x\":{\"type\":\"value\",\"value\":364},\"y\":{\"type\":\"value\",\"value\":1.7925398813867184},\"size\":{\"type\":\"value\",\"value\":8},\"line_color\":{\"type\":\"value\",\"value\":\"blue\"},\"line_alpha\":{\"type\":\"value\",\"value\":0.2},\"fill_color\":{\"type\":\"value\",\"value\":\"blue\"},\"fill_alpha\":{\"type\":\"value\",\"value\":0.2},\"hatch_color\":{\"type\":\"value\",\"value\":\"blue\"},\"hatch_alpha\":{\"type\":\"value\",\"value\":0.2}}}}},{\"type\":\"object\",\"name\":\"GlyphRenderer\",\"id\":\"p1132\",\"attributes\":{\"data_source\":{\"type\":\"object\",\"name\":\"ColumnDataSource\",\"id\":\"p1126\",\"attributes\":{\"selected\":{\"type\":\"object\",\"name\":\"Selection\",\"id\":\"p1127\",\"attributes\":{\"indices\":[],\"line_indices\":[]}},\"selection_policy\":{\"type\":\"object\",\"name\":\"UnionRenderers\",\"id\":\"p1128\"},\"data\":{\"type\":\"map\"}}},\"view\":{\"type\":\"object\",\"name\":\"CDSView\",\"id\":\"p1133\",\"attributes\":{\"filter\":{\"type\":\"object\",\"name\":\"AllIndices\",\"id\":\"p1134\"}}},\"glyph\":{\"type\":\"object\",\"name\":\"Scatter\",\"id\":\"p1129\",\"attributes\":{\"x\":{\"type\":\"value\",\"value\":284},\"y\":{\"type\":\"value\",\"value\":1.014066421484375},\"size\":{\"type\":\"value\",\"value\":8},\"line_color\":{\"type\":\"value\",\"value\":\"red\"},\"fill_color\":{\"type\":\"value\",\"value\":\"red\"},\"hatch_color\":{\"type\":\"value\",\"value\":\"red\"}}},\"nonselection_glyph\":{\"type\":\"object\",\"name\":\"Scatter\",\"id\":\"p1130\",\"attributes\":{\"x\":{\"type\":\"value\",\"value\":284},\"y\":{\"type\":\"value\",\"value\":1.014066421484375},\"size\":{\"type\":\"value\",\"value\":8},\"line_color\":{\"type\":\"value\",\"value\":\"red\"},\"line_alpha\":{\"type\":\"value\",\"value\":0.1},\"fill_color\":{\"type\":\"value\",\"value\":\"red\"},\"fill_alpha\":{\"type\":\"value\",\"value\":0.1},\"hatch_color\":{\"type\":\"value\",\"value\":\"red\"},\"hatch_alpha\":{\"type\":\"value\",\"value\":0.1}}},\"muted_glyph\":{\"type\":\"object\",\"name\":\"Scatter\",\"id\":\"p1131\",\"attributes\":{\"x\":{\"type\":\"value\",\"value\":284},\"y\":{\"type\":\"value\",\"value\":1.014066421484375},\"size\":{\"type\":\"value\",\"value\":8},\"line_color\":{\"type\":\"value\",\"value\":\"red\"},\"line_alpha\":{\"type\":\"value\",\"value\":0.2},\"fill_color\":{\"type\":\"value\",\"value\":\"red\"},\"fill_alpha\":{\"type\":\"value\",\"value\":0.2},\"hatch_color\":{\"type\":\"value\",\"value\":\"red\"},\"hatch_alpha\":{\"type\":\"value\",\"value\":0.2}}}}},{\"type\":\"object\",\"name\":\"GlyphRenderer\",\"id\":\"p1142\",\"attributes\":{\"data_source\":{\"type\":\"object\",\"name\":\"ColumnDataSource\",\"id\":\"p1136\",\"attributes\":{\"selected\":{\"type\":\"object\",\"name\":\"Selection\",\"id\":\"p1137\",\"attributes\":{\"indices\":[],\"line_indices\":[]}},\"selection_policy\":{\"type\":\"object\",\"name\":\"UnionRenderers\",\"id\":\"p1138\"},\"data\":{\"type\":\"map\",\"entries\":[[\"x\",[105,311.9975991220008]]]}}},\"view\":{\"type\":\"object\",\"name\":\"CDSView\",\"id\":\"p1143\",\"attributes\":{\"filter\":{\"type\":\"object\",\"name\":\"AllIndices\",\"id\":\"p1144\"}}},\"glyph\":{\"type\":\"object\",\"name\":\"Line\",\"id\":\"p1139\",\"attributes\":{\"x\":{\"type\":\"field\",\"field\":\"x\"},\"y\":{\"type\":\"value\",\"value\":1.3913221526855468},\"line_color\":\"red\",\"line_width\":2}},\"nonselection_glyph\":{\"type\":\"object\",\"name\":\"Line\",\"id\":\"p1140\",\"attributes\":{\"x\":{\"type\":\"field\",\"field\":\"x\"},\"y\":{\"type\":\"value\",\"value\":1.3913221526855468},\"line_color\":\"red\",\"line_alpha\":0.1,\"line_width\":2}},\"muted_glyph\":{\"type\":\"object\",\"name\":\"Line\",\"id\":\"p1141\",\"attributes\":{\"x\":{\"type\":\"field\",\"field\":\"x\"},\"y\":{\"type\":\"value\",\"value\":1.3913221526855468},\"line_color\":\"red\",\"line_alpha\":0.2,\"line_width\":2}}}}],\"toolbar\":{\"type\":\"object\",\"name\":\"Toolbar\",\"id\":\"p1056\",\"attributes\":{\"tools\":[{\"id\":\"p1069\"},{\"id\":\"p1070\"},{\"id\":\"p1071\"},{\"id\":\"p1072\"},{\"id\":\"p1078\"},{\"id\":\"p1079\"},{\"id\":\"p1080\"},{\"type\":\"object\",\"name\":\"SaveTool\",\"id\":\"p1081\"},{\"id\":\"p1103\"},{\"id\":\"p1292\"}],\"active_drag\":{\"id\":\"p1069\"},\"active_scroll\":{\"id\":\"p1070\"}}},\"toolbar_location\":null,\"left\":[{\"type\":\"object\",\"name\":\"LinearAxis\",\"id\":\"p1064\",\"attributes\":{\"ticker\":{\"type\":\"object\",\"name\":\"BasicTicker\",\"id\":\"p1065\",\"attributes\":{\"desired_num_ticks\":3,\"mantissas\":[1,2,5]}},\"formatter\":{\"type\":\"object\",\"name\":\"NumeralTickFormatter\",\"id\":\"p1104\",\"attributes\":{\"format\":\"0,0.[00]%\"}},\"axis_label\":\"Equity\",\"major_label_policy\":{\"type\":\"object\",\"name\":\"AllLabels\",\"id\":\"p1067\"},\"minor_tick_line_color\":null}}],\"below\":[{\"type\":\"object\",\"name\":\"LinearAxis\",\"id\":\"p1059\",\"attributes\":{\"visible\":false,\"ticker\":{\"type\":\"object\",\"name\":\"BasicTicker\",\"id\":\"p1060\",\"attributes\":{\"mantissas\":[1,2,5]}},\"formatter\":{\"type\":\"object\",\"name\":\"BasicTickFormatter\",\"id\":\"p1061\"},\"major_label_policy\":{\"type\":\"object\",\"name\":\"AllLabels\",\"id\":\"p1062\"}}}],\"center\":[{\"type\":\"object\",\"name\":\"Grid\",\"id\":\"p1063\",\"attributes\":{\"axis\":{\"id\":\"p1059\"}}},{\"type\":\"object\",\"name\":\"Grid\",\"id\":\"p1068\",\"attributes\":{\"dimension\":1,\"axis\":{\"id\":\"p1064\"}}},{\"type\":\"object\",\"name\":\"Legend\",\"id\":\"p1114\",\"attributes\":{\"location\":\"top_left\",\"border_line_color\":\"#333333\",\"click_policy\":\"hide\",\"label_text_font_size\":\"8pt\",\"margin\":0,\"padding\":5,\"spacing\":0,\"items\":[{\"type\":\"object\",\"name\":\"LegendItem\",\"id\":\"p1115\",\"attributes\":{\"label\":{\"type\":\"value\",\"value\":\"Peak (179%)\"},\"renderers\":[{\"id\":\"p1111\"}]}},{\"type\":\"object\",\"name\":\"LegendItem\",\"id\":\"p1125\",\"attributes\":{\"label\":{\"type\":\"value\",\"value\":\"Final (179%)\"},\"renderers\":[{\"id\":\"p1122\"}]}},{\"type\":\"object\",\"name\":\"LegendItem\",\"id\":\"p1135\",\"attributes\":{\"label\":{\"type\":\"value\",\"value\":\"Max Drawdown (-27.1%)\"},\"renderers\":[{\"id\":\"p1132\"}]}},{\"type\":\"object\",\"name\":\"LegendItem\",\"id\":\"p1145\",\"attributes\":{\"label\":{\"type\":\"value\",\"value\":\"Max Dd Dur. (207 days)\"},\"renderers\":[{\"id\":\"p1142\"}]}}]}}],\"min_border_top\":3,\"min_border_bottom\":6,\"min_border_left\":0,\"min_border_right\":10}},0,0],[{\"type\":\"object\",\"name\":\"Figure\",\"id\":\"p1146\",\"attributes\":{\"width\":null,\"height\":80,\"sizing_mode\":\"stretch_width\",\"x_range\":{\"id\":\"p1002\"},\"y_range\":{\"type\":\"object\",\"name\":\"DataRange1d\",\"id\":\"p1148\"},\"x_scale\":{\"type\":\"object\",\"name\":\"LinearScale\",\"id\":\"p1155\"},\"y_scale\":{\"type\":\"object\",\"name\":\"LinearScale\",\"id\":\"p1156\"},\"title\":{\"type\":\"object\",\"name\":\"Title\",\"id\":\"p1153\"},\"outline_line_color\":\"#666666\",\"renderers\":[{\"type\":\"object\",\"name\":\"GlyphRenderer\",\"id\":\"p1188\",\"attributes\":{\"data_source\":{\"id\":\"p1040\"},\"view\":{\"type\":\"object\",\"name\":\"CDSView\",\"id\":\"p1189\",\"attributes\":{\"filter\":{\"type\":\"object\",\"name\":\"AllIndices\",\"id\":\"p1190\"}}},\"glyph\":{\"type\":\"object\",\"name\":\"MultiLine\",\"id\":\"p1185\",\"attributes\":{\"xs\":{\"type\":\"field\",\"field\":\"lines\"},\"ys\":{\"type\":\"field\",\"field\":\"returns\",\"transform\":{\"type\":\"object\",\"name\":\"CustomJSTransform\",\"id\":\"p1181\",\"attributes\":{\"v_func\":\"return [...xs].map(i => [0, i]);\"}}},\"line_color\":{\"type\":\"value\",\"value\":\"#999\"}}},\"nonselection_glyph\":{\"type\":\"object\",\"name\":\"MultiLine\",\"id\":\"p1186\",\"attributes\":{\"xs\":{\"type\":\"field\",\"field\":\"lines\"},\"ys\":{\"type\":\"field\",\"field\":\"returns\",\"transform\":{\"id\":\"p1181\"}},\"line_color\":{\"type\":\"value\",\"value\":\"#999\"},\"line_alpha\":{\"type\":\"value\",\"value\":0.1}}},\"muted_glyph\":{\"type\":\"object\",\"name\":\"MultiLine\",\"id\":\"p1187\",\"attributes\":{\"xs\":{\"type\":\"field\",\"field\":\"lines\"},\"ys\":{\"type\":\"field\",\"field\":\"returns\",\"transform\":{\"id\":\"p1181\"}},\"line_color\":{\"type\":\"value\",\"value\":\"#999\"},\"line_alpha\":{\"type\":\"value\",\"value\":0.2}}}}},{\"id\":\"p1197\"}],\"toolbar\":{\"type\":\"object\",\"name\":\"Toolbar\",\"id\":\"p1154\",\"attributes\":{\"tools\":[{\"id\":\"p1167\"},{\"id\":\"p1168\"},{\"id\":\"p1169\"},{\"id\":\"p1170\"},{\"id\":\"p1176\"},{\"id\":\"p1177\"},{\"id\":\"p1178\"},{\"type\":\"object\",\"name\":\"SaveTool\",\"id\":\"p1179\"},{\"id\":\"p1200\"},{\"id\":\"p1292\"}],\"active_drag\":{\"id\":\"p1167\"},\"active_scroll\":{\"id\":\"p1168\"}}},\"toolbar_location\":null,\"left\":[{\"type\":\"object\",\"name\":\"LinearAxis\",\"id\":\"p1162\",\"attributes\":{\"ticker\":{\"type\":\"object\",\"name\":\"BasicTicker\",\"id\":\"p1163\",\"attributes\":{\"desired_num_ticks\":3,\"mantissas\":[1,2,5]}},\"formatter\":{\"type\":\"object\",\"name\":\"NumeralTickFormatter\",\"id\":\"p1201\",\"attributes\":{\"format\":\"0.[00]%\"}},\"axis_label\":\"Profit / Loss\",\"major_label_policy\":{\"type\":\"object\",\"name\":\"AllLabels\",\"id\":\"p1165\"},\"minor_tick_line_color\":null}}],\"below\":[{\"type\":\"object\",\"name\":\"LinearAxis\",\"id\":\"p1157\",\"attributes\":{\"visible\":false,\"ticker\":{\"type\":\"object\",\"name\":\"BasicTicker\",\"id\":\"p1158\",\"attributes\":{\"mantissas\":[1,2,5]}},\"formatter\":{\"type\":\"object\",\"name\":\"BasicTickFormatter\",\"id\":\"p1159\"},\"major_label_policy\":{\"type\":\"object\",\"name\":\"AllLabels\",\"id\":\"p1160\"}}}],\"center\":[{\"type\":\"object\",\"name\":\"Grid\",\"id\":\"p1161\",\"attributes\":{\"axis\":{\"id\":\"p1157\"}}},{\"type\":\"object\",\"name\":\"Grid\",\"id\":\"p1166\",\"attributes\":{\"dimension\":1,\"axis\":{\"id\":\"p1162\"}}},{\"type\":\"object\",\"name\":\"Span\",\"id\":\"p1180\",\"attributes\":{\"level\":\"underlay\",\"location\":0,\"line_color\":\"#666666\",\"line_dash\":[6]}}],\"min_border_top\":3,\"min_border_bottom\":6,\"min_border_left\":0,\"min_border_right\":10}},1,0],[{\"type\":\"object\",\"name\":\"Figure\",\"id\":\"p1003\",\"attributes\":{\"width\":null,\"height\":400,\"sizing_mode\":\"stretch_width\",\"x_range\":{\"id\":\"p1002\"},\"y_range\":{\"id\":\"p1005\"},\"x_scale\":{\"type\":\"object\",\"name\":\"LinearScale\",\"id\":\"p1012\"},\"y_scale\":{\"type\":\"object\",\"name\":\"LinearScale\",\"id\":\"p1013\"},\"title\":{\"type\":\"object\",\"name\":\"Title\",\"id\":\"p1010\"},\"outline_line_color\":\"#666666\",\"renderers\":[{\"type\":\"object\",\"name\":\"GlyphRenderer\",\"id\":\"p1253\",\"attributes\":{\"data_source\":{\"id\":\"p1037\"},\"view\":{\"type\":\"object\",\"name\":\"CDSView\",\"id\":\"p1254\",\"attributes\":{\"filter\":{\"type\":\"object\",\"name\":\"AllIndices\",\"id\":\"p1255\"}}},\"glyph\":{\"type\":\"object\",\"name\":\"Segment\",\"id\":\"p1250\",\"attributes\":{\"x0\":{\"type\":\"field\",\"field\":\"index\"},\"y0\":{\"type\":\"field\",\"field\":\"High\"},\"x1\":{\"type\":\"field\",\"field\":\"index\"},\"y1\":{\"type\":\"field\",\"field\":\"Low\"}}},\"nonselection_glyph\":{\"type\":\"object\",\"name\":\"Segment\",\"id\":\"p1251\",\"attributes\":{\"x0\":{\"type\":\"field\",\"field\":\"index\"},\"y0\":{\"type\":\"field\",\"field\":\"High\"},\"x1\":{\"type\":\"field\",\"field\":\"index\"},\"y1\":{\"type\":\"field\",\"field\":\"Low\"},\"line_alpha\":{\"type\":\"value\",\"value\":0.1}}},\"muted_glyph\":{\"type\":\"object\",\"name\":\"Segment\",\"id\":\"p1252\",\"attributes\":{\"x0\":{\"type\":\"field\",\"field\":\"index\"},\"y0\":{\"type\":\"field\",\"field\":\"High\"},\"x1\":{\"type\":\"field\",\"field\":\"index\"},\"y1\":{\"type\":\"field\",\"field\":\"Low\"},\"line_alpha\":{\"type\":\"value\",\"value\":0.2}}}}},{\"id\":\"p1264\"},{\"type\":\"object\",\"name\":\"GlyphRenderer\",\"id\":\"p1273\",\"attributes\":{\"data_source\":{\"id\":\"p1040\"},\"view\":{\"type\":\"object\",\"name\":\"CDSView\",\"id\":\"p1274\",\"attributes\":{\"filter\":{\"type\":\"object\",\"name\":\"AllIndices\",\"id\":\"p1275\"}}},\"glyph\":{\"type\":\"object\",\"name\":\"MultiLine\",\"id\":\"p1270\",\"attributes\":{\"xs\":{\"type\":\"field\",\"field\":\"position_lines_xs\"},\"ys\":{\"type\":\"field\",\"field\":\"position_lines_ys\"},\"line_color\":{\"type\":\"field\",\"field\":\"returns_positive\",\"transform\":{\"type\":\"object\",\"name\":\"CategoricalColorMapper\",\"id\":\"p1045\",\"attributes\":{\"palette\":[\"rgb(178, 27, 0)\",\"rgb(0, 178, 0)\"],\"factors\":[\"0\",\"1\"]}}},\"line_width\":{\"type\":\"value\",\"value\":8},\"line_dash\":{\"type\":\"value\",\"value\":\"dotted\"}}},\"nonselection_glyph\":{\"type\":\"object\",\"name\":\"MultiLine\",\"id\":\"p1271\",\"attributes\":{\"xs\":{\"type\":\"field\",\"field\":\"position_lines_xs\"},\"ys\":{\"type\":\"field\",\"field\":\"position_lines_ys\"},\"line_color\":{\"type\":\"field\",\"field\":\"returns_positive\",\"transform\":{\"id\":\"p1045\"}},\"line_alpha\":{\"type\":\"value\",\"value\":0.1},\"line_width\":{\"type\":\"value\",\"value\":8},\"line_dash\":{\"type\":\"value\",\"value\":\"dotted\"}}},\"muted_glyph\":{\"type\":\"object\",\"name\":\"MultiLine\",\"id\":\"p1272\",\"attributes\":{\"xs\":{\"type\":\"field\",\"field\":\"position_lines_xs\"},\"ys\":{\"type\":\"field\",\"field\":\"position_lines_ys\"},\"line_color\":{\"type\":\"field\",\"field\":\"returns_positive\",\"transform\":{\"id\":\"p1045\"}},\"line_alpha\":{\"type\":\"value\",\"value\":0.2},\"line_width\":{\"type\":\"value\",\"value\":8},\"line_dash\":{\"type\":\"value\",\"value\":\"dotted\"}}}}},{\"type\":\"object\",\"name\":\"GlyphRenderer\",\"id\":\"p1283\",\"attributes\":{\"data_source\":{\"id\":\"p1037\"},\"view\":{\"type\":\"object\",\"name\":\"CDSView\",\"id\":\"p1284\",\"attributes\":{\"filter\":{\"type\":\"object\",\"name\":\"AllIndices\",\"id\":\"p1285\"}}},\"glyph\":{\"type\":\"object\",\"name\":\"Line\",\"id\":\"p1280\",\"attributes\":{\"x\":{\"type\":\"field\",\"field\":\"index\"},\"y\":{\"type\":\"field\",\"field\":\"to_numpy_0_0\"},\"line_color\":\"#1f77b4\",\"line_width\":1.3}},\"nonselection_glyph\":{\"type\":\"object\",\"name\":\"Line\",\"id\":\"p1281\",\"attributes\":{\"x\":{\"type\":\"field\",\"field\":\"index\"},\"y\":{\"type\":\"field\",\"field\":\"to_numpy_0_0\"},\"line_color\":\"#1f77b4\",\"line_alpha\":0.1,\"line_width\":1.3}},\"muted_glyph\":{\"type\":\"object\",\"name\":\"Line\",\"id\":\"p1282\",\"attributes\":{\"x\":{\"type\":\"field\",\"field\":\"index\"},\"y\":{\"type\":\"field\",\"field\":\"to_numpy_0_0\"},\"line_color\":\"#1f77b4\",\"line_alpha\":0.2,\"line_width\":1.3}}}}],\"toolbar\":{\"type\":\"object\",\"name\":\"Toolbar\",\"id\":\"p1011\",\"attributes\":{\"tools\":[{\"id\":\"p1024\"},{\"id\":\"p1025\"},{\"id\":\"p1026\"},{\"id\":\"p1027\"},{\"id\":\"p1033\"},{\"id\":\"p1034\"},{\"id\":\"p1035\"},{\"type\":\"object\",\"name\":\"SaveTool\",\"id\":\"p1036\"},{\"id\":\"p1288\"},{\"id\":\"p1292\"}],\"active_drag\":{\"id\":\"p1024\"},\"active_scroll\":{\"id\":\"p1025\"}}},\"toolbar_location\":null,\"left\":[{\"type\":\"object\",\"name\":\"LinearAxis\",\"id\":\"p1019\",\"attributes\":{\"ticker\":{\"type\":\"object\",\"name\":\"BasicTicker\",\"id\":\"p1020\",\"attributes\":{\"mantissas\":[1,2,5]}},\"formatter\":{\"type\":\"object\",\"name\":\"BasicTickFormatter\",\"id\":\"p1021\"},\"major_label_policy\":{\"type\":\"object\",\"name\":\"AllLabels\",\"id\":\"p1022\"}}}],\"below\":[{\"type\":\"object\",\"name\":\"LinearAxis\",\"id\":\"p1014\",\"attributes\":{\"visible\":false,\"ticker\":{\"type\":\"object\",\"name\":\"BasicTicker\",\"id\":\"p1015\",\"attributes\":{\"mantissas\":[1,2,5]}},\"formatter\":{\"type\":\"object\",\"name\":\"CustomJSTickFormatter\",\"id\":\"p1047\",\"attributes\":{\"args\":{\"type\":\"map\",\"entries\":[[\"axis\",{\"id\":\"p1014\"}],[\"formatter\",{\"type\":\"object\",\"name\":\"DatetimeTickFormatter\",\"id\":\"p1046\",\"attributes\":{\"days\":\"%a, %d %b\"}}],[\"source\",{\"id\":\"p1037\"}]]},\"code\":\"\\nthis.labels = this.labels || formatter.doFormat(ticks\\n                                                .map(i => source.data.datetime[i])\\n                                                .filter(t => t !== undefined));\\nreturn this.labels[index] || \\\"\\\";\\n        \"}},\"major_label_policy\":{\"type\":\"object\",\"name\":\"AllLabels\",\"id\":\"p1017\"}}}],\"center\":[{\"type\":\"object\",\"name\":\"Grid\",\"id\":\"p1018\",\"attributes\":{\"axis\":{\"id\":\"p1014\"}}},{\"type\":\"object\",\"name\":\"Grid\",\"id\":\"p1023\",\"attributes\":{\"dimension\":1,\"axis\":{\"id\":\"p1019\"}}},{\"type\":\"object\",\"name\":\"Legend\",\"id\":\"p1256\",\"attributes\":{\"location\":\"top_left\",\"border_line_color\":\"#333333\",\"click_policy\":\"hide\",\"label_text_font_size\":\"8pt\",\"margin\":0,\"padding\":5,\"spacing\":0,\"items\":[{\"type\":\"object\",\"name\":\"LegendItem\",\"id\":\"p1257\",\"attributes\":{\"label\":{\"type\":\"value\",\"value\":\"OHLC\"},\"renderers\":[{\"id\":\"p1253\"},{\"id\":\"p1264\"}]}},{\"type\":\"object\",\"name\":\"LegendItem\",\"id\":\"p1276\",\"attributes\":{\"label\":{\"type\":\"value\",\"value\":\"Trades (3)\"},\"renderers\":[{\"id\":\"p1273\"}]}},{\"type\":\"object\",\"name\":\"LegendItem\",\"id\":\"p1286\",\"attributes\":{\"label\":{\"type\":\"value\",\"value\":\"to_numpy\"},\"renderers\":[{\"id\":\"p1283\"}]}}]}},{\"type\":\"object\",\"name\":\"Label\",\"id\":\"p1287\",\"attributes\":{\"text\":\"Created with Backtesting.py: http://kernc.github.io/backtesting.py\",\"text_color\":\"silver\",\"text_alpha\":0.09,\"x\":10,\"y\":15,\"x_units\":\"screen\",\"y_units\":\"screen\"}}],\"min_border_top\":3,\"min_border_bottom\":6,\"min_border_left\":0,\"min_border_right\":10}},2,0],[{\"type\":\"object\",\"name\":\"Figure\",\"id\":\"p1202\",\"attributes\":{\"width\":null,\"height\":70,\"sizing_mode\":\"stretch_width\",\"x_range\":{\"id\":\"p1002\"},\"y_range\":{\"id\":\"p1204\"},\"x_scale\":{\"type\":\"object\",\"name\":\"LinearScale\",\"id\":\"p1211\"},\"y_scale\":{\"type\":\"object\",\"name\":\"LinearScale\",\"id\":\"p1212\"},\"title\":{\"type\":\"object\",\"name\":\"Title\",\"id\":\"p1209\"},\"outline_line_color\":\"#666666\",\"renderers\":[{\"id\":\"p1242\"}],\"toolbar\":{\"type\":\"object\",\"name\":\"Toolbar\",\"id\":\"p1210\",\"attributes\":{\"tools\":[{\"id\":\"p1223\"},{\"id\":\"p1224\"},{\"id\":\"p1225\"},{\"id\":\"p1226\"},{\"id\":\"p1232\"},{\"id\":\"p1233\"},{\"id\":\"p1234\"},{\"type\":\"object\",\"name\":\"SaveTool\",\"id\":\"p1235\"},{\"id\":\"p1245\"},{\"id\":\"p1292\"}],\"active_drag\":{\"id\":\"p1223\"},\"active_scroll\":{\"id\":\"p1224\"}}},\"toolbar_location\":null,\"left\":[{\"type\":\"object\",\"name\":\"LinearAxis\",\"id\":\"p1218\",\"attributes\":{\"ticker\":{\"type\":\"object\",\"name\":\"BasicTicker\",\"id\":\"p1219\",\"attributes\":{\"desired_num_ticks\":3,\"mantissas\":[1,2,5]}},\"formatter\":{\"type\":\"object\",\"name\":\"NumeralTickFormatter\",\"id\":\"p1246\",\"attributes\":{\"format\":\"0 a\"}},\"axis_label\":\"Volume\",\"major_label_policy\":{\"type\":\"object\",\"name\":\"AllLabels\",\"id\":\"p1221\"},\"minor_tick_line_color\":null}}],\"below\":[{\"type\":\"object\",\"name\":\"LinearAxis\",\"id\":\"p1213\",\"attributes\":{\"visible\":true,\"ticker\":{\"type\":\"object\",\"name\":\"BasicTicker\",\"id\":\"p1214\",\"attributes\":{\"mantissas\":[1,2,5]}},\"formatter\":{\"id\":\"p1047\"},\"major_label_policy\":{\"type\":\"object\",\"name\":\"AllLabels\",\"id\":\"p1216\"}}}],\"center\":[{\"type\":\"object\",\"name\":\"Grid\",\"id\":\"p1217\",\"attributes\":{\"axis\":{\"id\":\"p1213\"}}},{\"type\":\"object\",\"name\":\"Grid\",\"id\":\"p1222\",\"attributes\":{\"dimension\":1,\"axis\":{\"id\":\"p1218\"}}}],\"min_border_top\":3,\"min_border_bottom\":6,\"min_border_left\":0,\"min_border_right\":10}},3,0]]}}],\"callbacks\":{\"type\":\"map\",\"entries\":[[\"document_ready\",[{\"type\":\"object\",\"name\":\"CustomJS\",\"id\":\"p1001\",\"attributes\":{\"code\":\"(function() { var i = document.createElement('iframe'); i.style.display='none';i.width=i.height=1;i.loading='eager';i.src='https://kernc.github.io/backtesting.py/plx.gif.html?utm_source='+location.origin;document.body.appendChild(i);})();\"}}]]]}}};\n  const render_items = [{\"docid\":\"2a00779a-cabc-4f05-bf29-381002ea5f25\",\"roots\":{\"p1307\":\"f80fd1ee-8173-44fc-9305-5dec0dc2f75a\"},\"root_ids\":[\"p1307\"]}];\n  void root.Bokeh.embed.embed_items_notebook(docs_json, render_items);\n  }\n  if (root.Bokeh !== undefined) {\n    embed_document(root);\n  } else {\n    let attempts = 0;\n    const timer = setInterval(function(root) {\n      if (root.Bokeh !== undefined) {\n        clearInterval(timer);\n        embed_document(root);\n      } else {\n        attempts++;\n        if (attempts > 100) {\n          clearInterval(timer);\n          console.log(\"Bokeh: ERROR: Unable to run BokehJS code because BokehJS library is missing\");\n        }\n      }\n    }, 10, root)\n  }\n})(window);",
      "application/vnd.bokehjs_exec.v0+json": ""
     },
     "metadata": {
      "application/vnd.bokehjs_exec.v0+json": {
       "id": "p1307"
      }
     },
     "output_type": "display_data"
    },
    {
     "data": {
      "text/html": [
       "<div style=\"display: table;\"><div style=\"display: table-row;\"><div style=\"display: table-cell;\"><b title=\"bokeh.models.plots.GridPlot\">GridPlot</b>(</div><div style=\"display: table-cell;\">id&nbsp;=&nbsp;'p1307', <span id=\"p1328\" style=\"cursor: pointer;\">&hellip;)</span></div></div><div class=\"p1327\" style=\"display: none;\"><div style=\"display: table-cell;\"></div><div style=\"display: table-cell;\">align&nbsp;=&nbsp;'auto',</div></div><div class=\"p1327\" style=\"display: none;\"><div style=\"display: table-cell;\"></div><div style=\"display: table-cell;\">aspect_ratio&nbsp;=&nbsp;None,</div></div><div class=\"p1327\" style=\"display: none;\"><div style=\"display: table-cell;\"></div><div style=\"display: table-cell;\">children&nbsp;=&nbsp;[(figure(id='p1048', ...), 0, 0), (figure(id='p1146', ...), 1, 0), (figure(id='p1003', ...), 2, 0), (figure(id='p1202', ...), 3, 0)],</div></div><div class=\"p1327\" style=\"display: none;\"><div style=\"display: table-cell;\"></div><div style=\"display: table-cell;\">cols&nbsp;=&nbsp;None,</div></div><div class=\"p1327\" style=\"display: none;\"><div style=\"display: table-cell;\"></div><div style=\"display: table-cell;\">context_menu&nbsp;=&nbsp;None,</div></div><div class=\"p1327\" style=\"display: none;\"><div style=\"display: table-cell;\"></div><div style=\"display: table-cell;\">css_classes&nbsp;=&nbsp;[],</div></div><div class=\"p1327\" style=\"display: none;\"><div style=\"display: table-cell;\"></div><div style=\"display: table-cell;\">css_variables&nbsp;=&nbsp;{},</div></div><div class=\"p1327\" style=\"display: none;\"><div style=\"display: table-cell;\"></div><div style=\"display: table-cell;\">disabled&nbsp;=&nbsp;False,</div></div><div class=\"p1327\" style=\"display: none;\"><div style=\"display: table-cell;\"></div><div style=\"display: table-cell;\">elements&nbsp;=&nbsp;[],</div></div><div class=\"p1327\" style=\"display: none;\"><div style=\"display: table-cell;\"></div><div style=\"display: table-cell;\">flow_mode&nbsp;=&nbsp;'block',</div></div><div class=\"p1327\" style=\"display: none;\"><div style=\"display: table-cell;\"></div><div style=\"display: table-cell;\">height&nbsp;=&nbsp;None,</div></div><div class=\"p1327\" style=\"display: none;\"><div style=\"display: table-cell;\"></div><div style=\"display: table-cell;\">height_policy&nbsp;=&nbsp;'auto',</div></div><div class=\"p1327\" style=\"display: none;\"><div style=\"display: table-cell;\"></div><div style=\"display: table-cell;\">js_event_callbacks&nbsp;=&nbsp;{},</div></div><div class=\"p1327\" style=\"display: none;\"><div style=\"display: table-cell;\"></div><div style=\"display: table-cell;\">js_property_callbacks&nbsp;=&nbsp;{},</div></div><div class=\"p1327\" style=\"display: none;\"><div style=\"display: table-cell;\"></div><div style=\"display: table-cell;\">margin&nbsp;=&nbsp;None,</div></div><div class=\"p1327\" style=\"display: none;\"><div style=\"display: table-cell;\"></div><div style=\"display: table-cell;\">max_height&nbsp;=&nbsp;None,</div></div><div class=\"p1327\" style=\"display: none;\"><div style=\"display: table-cell;\"></div><div style=\"display: table-cell;\">max_width&nbsp;=&nbsp;None,</div></div><div class=\"p1327\" style=\"display: none;\"><div style=\"display: table-cell;\"></div><div style=\"display: table-cell;\">min_height&nbsp;=&nbsp;None,</div></div><div class=\"p1327\" style=\"display: none;\"><div style=\"display: table-cell;\"></div><div style=\"display: table-cell;\">min_width&nbsp;=&nbsp;None,</div></div><div class=\"p1327\" style=\"display: none;\"><div style=\"display: table-cell;\"></div><div style=\"display: table-cell;\">name&nbsp;=&nbsp;None,</div></div><div class=\"p1327\" style=\"display: none;\"><div style=\"display: table-cell;\"></div><div style=\"display: table-cell;\">resizable&nbsp;=&nbsp;False,</div></div><div class=\"p1327\" style=\"display: none;\"><div style=\"display: table-cell;\"></div><div style=\"display: table-cell;\">rows&nbsp;=&nbsp;None,</div></div><div class=\"p1327\" style=\"display: none;\"><div style=\"display: table-cell;\"></div><div style=\"display: table-cell;\">sizing_mode&nbsp;=&nbsp;'stretch_width',</div></div><div class=\"p1327\" style=\"display: none;\"><div style=\"display: table-cell;\"></div><div style=\"display: table-cell;\">spacing&nbsp;=&nbsp;0,</div></div><div class=\"p1327\" style=\"display: none;\"><div style=\"display: table-cell;\"></div><div style=\"display: table-cell;\">styles&nbsp;=&nbsp;{},</div></div><div class=\"p1327\" style=\"display: none;\"><div style=\"display: table-cell;\"></div><div style=\"display: table-cell;\">stylesheets&nbsp;=&nbsp;[],</div></div><div class=\"p1327\" style=\"display: none;\"><div style=\"display: table-cell;\"></div><div style=\"display: table-cell;\">subscribed_events&nbsp;=&nbsp;PropertyValueSet(),</div></div><div class=\"p1327\" style=\"display: none;\"><div style=\"display: table-cell;\"></div><div style=\"display: table-cell;\">syncable&nbsp;=&nbsp;True,</div></div><div class=\"p1327\" style=\"display: none;\"><div style=\"display: table-cell;\"></div><div style=\"display: table-cell;\">tags&nbsp;=&nbsp;[],</div></div><div class=\"p1327\" style=\"display: none;\"><div style=\"display: table-cell;\"></div><div style=\"display: table-cell;\">toolbar&nbsp;=&nbsp;Toolbar(id='p1306', ...),</div></div><div class=\"p1327\" style=\"display: none;\"><div style=\"display: table-cell;\"></div><div style=\"display: table-cell;\">toolbar_location&nbsp;=&nbsp;'right',</div></div><div class=\"p1327\" style=\"display: none;\"><div style=\"display: table-cell;\"></div><div style=\"display: table-cell;\">visible&nbsp;=&nbsp;True,</div></div><div class=\"p1327\" style=\"display: none;\"><div style=\"display: table-cell;\"></div><div style=\"display: table-cell;\">width&nbsp;=&nbsp;None,</div></div><div class=\"p1327\" style=\"display: none;\"><div style=\"display: table-cell;\"></div><div style=\"display: table-cell;\">width_policy&nbsp;=&nbsp;'auto')</div></div></div>\n",
       "<script>\n",
       "(function() {\n",
       "  let expanded = false;\n",
       "  const ellipsis = document.getElementById(\"p1328\");\n",
       "  ellipsis.addEventListener(\"click\", function() {\n",
       "    const rows = document.getElementsByClassName(\"p1327\");\n",
       "    for (let i = 0; i < rows.length; i++) {\n",
       "      const el = rows[i];\n",
       "      el.style.display = expanded ? \"none\" : \"table-row\";\n",
       "    }\n",
       "    ellipsis.innerHTML = expanded ? \"&hellip;)\" : \"&lsaquo;&lsaquo;&lsaquo;\";\n",
       "    expanded = !expanded;\n",
       "  });\n",
       "})();\n",
       "</script>\n"
      ],
      "text/plain": [
       "GridPlot(id='p1307', ...)"
      ]
     },
     "execution_count": 13,
     "metadata": {},
     "output_type": "execute_result"
    }
   ],
   "source": [
    "bt.plot(superimpose=False)"
   ]
  },
  {
   "cell_type": "code",
   "execution_count": null,
   "metadata": {},
   "outputs": [],
   "source": []
  },
  {
   "cell_type": "code",
   "execution_count": null,
   "metadata": {},
   "outputs": [],
   "source": []
  },
  {
   "cell_type": "code",
   "execution_count": null,
   "metadata": {},
   "outputs": [],
   "source": []
  }
 ],
 "metadata": {
  "kernelspec": {
   "display_name": "hw_env",
   "language": "python",
   "name": "python3"
  },
  "language_info": {
   "codemirror_mode": {
    "name": "ipython",
    "version": 3
   },
   "file_extension": ".py",
   "mimetype": "text/x-python",
   "name": "python",
   "nbconvert_exporter": "python",
   "pygments_lexer": "ipython3",
   "version": "3.9.21"
  }
 },
 "nbformat": 4,
 "nbformat_minor": 2
}
