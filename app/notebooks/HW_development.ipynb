{
 "cells": [
  {
   "cell_type": "markdown",
   "metadata": {},
   "source": [
    "# Jupyter notebook for development and testing of added functionality"
   ]
  },
  {
   "cell_type": "markdown",
   "metadata": {},
   "source": [
    "# 23/02: Logging"
   ]
  },
  {
   "cell_type": "code",
   "execution_count": 1,
   "metadata": {},
   "outputs": [],
   "source": [
    "# Относительные ссылки, включая импорты, относительно корневой папки проекта\n",
    "import os\n",
    "\n",
    "os.chdir(os.path.dirname(os.getcwd()))\n",
    "\n",
    "import main\n",
    "import logging\n",
    "\n",
    "# initialize\n",
    "logger = logging.getLogger()\n",
    "# initialize config dict\n",
    "config = main.main_launch()\n",
    "# SUBSTITUTE FOR TESTING\n",
    "# TODO\n"
   ]
  },
  {
   "cell_type": "code",
   "execution_count": 2,
   "metadata": {},
   "outputs": [
    {
     "name": "stderr",
     "output_type": "stream",
     "text": [
      "[INFO   ] 2025-02-23@22:02:20: 0\n",
      "[INFO   ] 2025-02-23@22:02:20: This is a INFO message\n",
      "[WARNING] 2025-02-23@22:02:20: This is a WARNING message\n",
      "[ERROR  ] 2025-02-23@22:02:20: This is an ERROR message\n",
      "[INFO   ] 2025-02-23@22:02:25: 1\n",
      "[INFO   ] 2025-02-23@22:02:25: This is a INFO message\n",
      "[WARNING] 2025-02-23@22:02:25: This is a WARNING message\n",
      "[ERROR  ] 2025-02-23@22:02:25: This is an ERROR message\n",
      "[INFO   ] 2025-02-23@22:02:30: 2\n",
      "[INFO   ] 2025-02-23@22:02:30: This is a INFO message\n",
      "[WARNING] 2025-02-23@22:02:30: This is a WARNING message\n",
      "[ERROR  ] 2025-02-23@22:02:30: This is an ERROR message\n"
     ]
    }
   ],
   "source": [
    "import time\n",
    "\n",
    "# Test several log messages - they should appear in ./app/logs/*.log file\n",
    "for idx in range(3):\n",
    "    logger.info(idx)\n",
    "    logger.info(\"This is a INFO message\")\n",
    "    logger.warning(\"This is a WARNING message\")\n",
    "    logger.error(\"This is an ERROR message\")\n",
    "    time.sleep(5)\n",
    "    "
   ]
  },
  {
   "cell_type": "code",
   "execution_count": null,
   "metadata": {},
   "outputs": [],
   "source": []
  }
 ],
 "metadata": {
  "kernelspec": {
   "display_name": "hw_env",
   "language": "python",
   "name": "python3"
  },
  "language_info": {
   "codemirror_mode": {
    "name": "ipython",
    "version": 3
   },
   "file_extension": ".py",
   "mimetype": "text/x-python",
   "name": "python",
   "nbconvert_exporter": "python",
   "pygments_lexer": "ipython3",
   "version": "3.9.21"
  }
 },
 "nbformat": 4,
 "nbformat_minor": 2
}
